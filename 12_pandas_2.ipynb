{
  "nbformat": 4,
  "nbformat_minor": 0,
  "metadata": {
    "colab": {
      "name": "12-pandas 2",
      "version": "0.3.2",
      "provenance": [],
      "include_colab_link": true
    },
    "kernelspec": {
      "display_name": "Python 3",
      "language": "python",
      "name": "python3"
    }
  },
  "cells": [
    {
      "cell_type": "markdown",
      "metadata": {
        "id": "view-in-github",
        "colab_type": "text"
      },
      "source": [
        "<a href=\"https://colab.research.google.com/github/rca32/pythoncs_2019/blob/master/12_pandas_2.ipynb\" target=\"_parent\"><img src=\"https://colab.research.google.com/assets/colab-badge.svg\" alt=\"Open In Colab\"/></a>"
      ]
    },
    {
      "metadata": {
        "id": "DyDI30KngjEp",
        "colab_type": "text"
      },
      "cell_type": "markdown",
      "source": [
        "# 샘플 Data 읽어 드리기\n",
        "# pandas, numpy matplotlib 설정"
      ]
    },
    {
      "metadata": {
        "id": "p7_2ZNtlgjEs",
        "colab_type": "code",
        "colab": {}
      },
      "cell_type": "code",
      "source": [
        "!git clone https://github.com/rca32/pythoncs_2019.git data\n",
        "  \n",
        "%matplotlib inline\n",
        "import numpy as np\n",
        "import pandas as pd\n",
        "import matplotlib.pyplot as plt\n",
        "\n",
        "pd.options.display.max_rows = 20"
      ],
      "execution_count": 0,
      "outputs": []
    },
    {
      "metadata": {
        "id": "iRaA8FsFgjG9",
        "colab_type": "text"
      },
      "cell_type": "markdown",
      "source": [
        "# Selecting , filtering "
      ]
    },
    {
      "metadata": {
        "id": "znXnoAUSgjG-",
        "colab_type": "text"
      },
      "cell_type": "markdown",
      "source": [
        "1.    **label**  선택하기\n",
        "2.   **position**  선택하기\n",
        "\n"
      ]
    },
    {
      "metadata": {
        "id": "PcIC8td1gjG-",
        "colab_type": "code",
        "colab": {}
      },
      "cell_type": "code",
      "source": [
        "df = pd.read_csv(\"data/titanic.csv\")"
      ],
      "execution_count": 0,
      "outputs": []
    },
    {
      "metadata": {
        "id": "jgIylG2WgjG_",
        "colab_type": "text"
      },
      "cell_type": "markdown",
      "source": [
        "### [] -> 우리가 아는 일반적인 파이선의 data선택"
      ]
    },
    {
      "metadata": {
        "id": "PSTrFH9rgjG_",
        "colab_type": "text"
      },
      "cell_type": "markdown",
      "source": [
        "DataFrame에서 하나의 컬럼을  선택"
      ]
    },
    {
      "metadata": {
        "id": "CBYOW3M2gjHA",
        "colab_type": "code",
        "colab": {}
      },
      "cell_type": "code",
      "source": [
        "df['Age']"
      ],
      "execution_count": 0,
      "outputs": []
    },
    {
      "metadata": {
        "id": "aeWochoJgjHB",
        "colab_type": "text"
      },
      "cell_type": "markdown",
      "source": [
        "2개의 컬럼을 선택"
      ]
    },
    {
      "metadata": {
        "id": "Zzg9lTv9gjHB",
        "colab_type": "code",
        "colab": {}
      },
      "cell_type": "code",
      "source": [
        "df[['Age', 'Fare']]"
      ],
      "execution_count": 0,
      "outputs": []
    },
    {
      "metadata": {
        "id": "KP882Z2xgjHD",
        "colab_type": "text"
      },
      "cell_type": "markdown",
      "source": [
        "## 하지만 범위 선택은 row를 선택"
      ]
    },
    {
      "metadata": {
        "id": "BmbDvS3ogjHD",
        "colab_type": "code",
        "colab": {}
      },
      "cell_type": "code",
      "source": [
        "df[10:15]"
      ],
      "execution_count": 0,
      "outputs": []
    },
    {
      "metadata": {
        "id": "5MlQQ26QgjHE",
        "colab_type": "text"
      },
      "cell_type": "markdown",
      "source": [
        "### `loc` 와 `iloc`을 이용한 좀더 체계적인 data selecting\n",
        "\n",
        "`[]`을 사용하면 column이나 row를 동시에 선택이 안됨...\n",
        "\n",
        "* `loc`: selection by label\n",
        "* `iloc`: selection by position"
      ]
    },
    {
      "metadata": {
        "id": "HDiPuUsrgjHG",
        "colab_type": "code",
        "colab": {}
      },
      "cell_type": "code",
      "source": [
        "df = df.set_index('Name')"
      ],
      "execution_count": 0,
      "outputs": []
    },
    {
      "metadata": {
        "id": "6o4r_zR_gjHH",
        "colab_type": "code",
        "colab": {}
      },
      "cell_type": "code",
      "source": [
        "df.loc['Bonnell, Miss. Elizabeth', 'Fare']"
      ],
      "execution_count": 0,
      "outputs": []
    },
    {
      "metadata": {
        "scrolled": true,
        "id": "k0iFQEY4gjHI",
        "colab_type": "code",
        "colab": {}
      },
      "cell_type": "code",
      "source": [
        "df.loc['Bonnell, Miss. Elizabeth':'Andersson, Mr. Anders Johan', :]"
      ],
      "execution_count": 0,
      "outputs": []
    },
    {
      "metadata": {
        "id": "MlgyosFdgjHJ",
        "colab_type": "text"
      },
      "cell_type": "markdown",
      "source": [
        "`iloc` 는 위치로 선택 가능"
      ]
    },
    {
      "metadata": {
        "id": "KQ2GRZspgjHK",
        "colab_type": "code",
        "colab": {}
      },
      "cell_type": "code",
      "source": [
        "df.iloc[0:2,1:3]"
      ],
      "execution_count": 0,
      "outputs": []
    },
    {
      "metadata": {
        "id": "w0y3b1mEgjHM",
        "colab_type": "text"
      },
      "cell_type": "markdown",
      "source": [
        "선택된 값의 변경도 가능"
      ]
    },
    {
      "metadata": {
        "id": "qBE-T7NagjHM",
        "colab_type": "code",
        "colab": {}
      },
      "cell_type": "code",
      "source": [
        "df.loc['Braund, Mr. Owen Harris', 'Survived'] = 100"
      ],
      "execution_count": 0,
      "outputs": []
    },
    {
      "metadata": {
        "id": "aFKMAiOkgjHN",
        "colab_type": "code",
        "colab": {}
      },
      "cell_type": "code",
      "source": [
        "df"
      ],
      "execution_count": 0,
      "outputs": []
    },
    {
      "metadata": {
        "id": "zbEQSQNngjHP",
        "colab_type": "text"
      },
      "cell_type": "markdown",
      "source": [
        "### Boolean indexing (filtering)"
      ]
    },
    {
      "metadata": {
        "run_control": {
          "frozen": false,
          "read_only": false
        },
        "id": "hAkdEvUugjHQ",
        "colab_type": "code",
        "colab": {}
      },
      "cell_type": "code",
      "source": [
        "df['Fare'] > 50"
      ],
      "execution_count": 0,
      "outputs": []
    },
    {
      "metadata": {
        "run_control": {
          "frozen": false,
          "read_only": false
        },
        "scrolled": false,
        "id": "XJOJxflZgjHS",
        "colab_type": "code",
        "colab": {}
      },
      "cell_type": "code",
      "source": [
        "df[df['Fare'] > 50]"
      ],
      "execution_count": 0,
      "outputs": []
    },
    {
      "metadata": {
        "id": "lqnOEg5vgjHW",
        "colab_type": "text"
      },
      "cell_type": "markdown",
      "source": [
        "연습하기\n",
        "\n",
        "남성 승객의 모든 행(row)을 선택하고 승객의 평균 연령을 계산한다. \n",
        "여성 승객은."
      ]
    },
    {
      "metadata": {
        "id": "jDP9RLIBgjHX",
        "colab_type": "code",
        "colab": {}
      },
      "cell_type": "code",
      "source": [
        "df = pd.read_csv(\"data/titanic.csv\")"
      ],
      "execution_count": 0,
      "outputs": []
    },
    {
      "metadata": {
        "id": "QHLx2ddogjHb",
        "colab_type": "text"
      },
      "cell_type": "markdown",
      "source": [
        "연습하기 \n",
        "\n",
        " 타이타닉에 50세 이상의 승객이 몇 명이었는가?\n",
        "  타이타닉에 50세이상70세 이이하 의 승객이 몇 명이었는가?"
      ]
    },
    {
      "metadata": {
        "clear_cell": true,
        "id": "Qxl1eapKgjHc",
        "colab_type": "code",
        "colab": {}
      },
      "cell_type": "code",
      "source": [
        ""
      ],
      "execution_count": 0,
      "outputs": []
    },
    {
      "metadata": {
        "id": "QY1E_RWZgjHe",
        "colab_type": "text"
      },
      "cell_type": "markdown",
      "source": [
        "#  group-by"
      ]
    },
    {
      "metadata": {
        "id": "Oe1Ay8FKgjHe",
        "colab_type": "text"
      },
      "cell_type": "markdown",
      "source": [
        "### split-apply-combine"
      ]
    },
    {
      "metadata": {
        "run_control": {
          "frozen": false,
          "read_only": false
        },
        "id": "oSdWl9kxgjHf",
        "colab_type": "code",
        "outputId": "d46e4822-f509-45bf-b6bc-b8cc3e2ff4fc",
        "colab": {
          "base_uri": "https://localhost:8080/",
          "height": 354
        }
      },
      "cell_type": "code",
      "source": [
        "df = pd.DataFrame({'key':['A','B','C','A','B','C','A','B','C'],\n",
        "                   'data': [0, 5, 10, 5, 10, 15, 10, 15, 20]})\n",
        "df"
      ],
      "execution_count": 0,
      "outputs": [
        {
          "output_type": "execute_result",
          "data": {
            "text/html": [
              "<div>\n",
              "<style scoped>\n",
              "    .dataframe tbody tr th:only-of-type {\n",
              "        vertical-align: middle;\n",
              "    }\n",
              "\n",
              "    .dataframe tbody tr th {\n",
              "        vertical-align: top;\n",
              "    }\n",
              "\n",
              "    .dataframe thead th {\n",
              "        text-align: right;\n",
              "    }\n",
              "</style>\n",
              "<table border=\"1\" class=\"dataframe\">\n",
              "  <thead>\n",
              "    <tr style=\"text-align: right;\">\n",
              "      <th></th>\n",
              "      <th>data</th>\n",
              "      <th>key</th>\n",
              "    </tr>\n",
              "  </thead>\n",
              "  <tbody>\n",
              "    <tr>\n",
              "      <th>0</th>\n",
              "      <td>0</td>\n",
              "      <td>A</td>\n",
              "    </tr>\n",
              "    <tr>\n",
              "      <th>1</th>\n",
              "      <td>5</td>\n",
              "      <td>B</td>\n",
              "    </tr>\n",
              "    <tr>\n",
              "      <th>2</th>\n",
              "      <td>10</td>\n",
              "      <td>C</td>\n",
              "    </tr>\n",
              "    <tr>\n",
              "      <th>3</th>\n",
              "      <td>5</td>\n",
              "      <td>A</td>\n",
              "    </tr>\n",
              "    <tr>\n",
              "      <th>...</th>\n",
              "      <td>...</td>\n",
              "      <td>...</td>\n",
              "    </tr>\n",
              "    <tr>\n",
              "      <th>5</th>\n",
              "      <td>15</td>\n",
              "      <td>C</td>\n",
              "    </tr>\n",
              "    <tr>\n",
              "      <th>6</th>\n",
              "      <td>10</td>\n",
              "      <td>A</td>\n",
              "    </tr>\n",
              "    <tr>\n",
              "      <th>7</th>\n",
              "      <td>15</td>\n",
              "      <td>B</td>\n",
              "    </tr>\n",
              "    <tr>\n",
              "      <th>8</th>\n",
              "      <td>20</td>\n",
              "      <td>C</td>\n",
              "    </tr>\n",
              "  </tbody>\n",
              "</table>\n",
              "<p>9 rows × 2 columns</p>\n",
              "</div>"
            ],
            "text/plain": [
              "    data key\n",
              "0      0   A\n",
              "1      5   B\n",
              "2     10   C\n",
              "3      5   A\n",
              "..   ...  ..\n",
              "5     15   C\n",
              "6     10   A\n",
              "7     15   B\n",
              "8     20   C\n",
              "\n",
              "[9 rows x 2 columns]"
            ]
          },
          "metadata": {
            "tags": []
          },
          "execution_count": 45
        }
      ]
    },
    {
      "metadata": {
        "id": "JGt2fTK0gjHg",
        "colab_type": "text"
      },
      "cell_type": "markdown",
      "source": [
        "### aggregating functions"
      ]
    },
    {
      "metadata": {
        "run_control": {
          "frozen": false,
          "read_only": false
        },
        "id": "g7Bc6E4TgjHg",
        "colab_type": "code",
        "outputId": "d680cccb-c550-47a1-b8f0-4ceee869b922",
        "colab": {
          "base_uri": "https://localhost:8080/",
          "height": 35
        }
      },
      "cell_type": "code",
      "source": [
        "df['data'].sum()"
      ],
      "execution_count": 0,
      "outputs": [
        {
          "output_type": "execute_result",
          "data": {
            "text/plain": [
              "90"
            ]
          },
          "metadata": {
            "tags": []
          },
          "execution_count": 46
        }
      ]
    },
    {
      "metadata": {
        "run_control": {
          "frozen": false,
          "read_only": false
        },
        "id": "iUtHKTWNgjHi",
        "colab_type": "code",
        "outputId": "91f64e1a-1d33-4f0d-f904-ee0e6fd584eb",
        "colab": {
          "base_uri": "https://localhost:8080/",
          "height": 69
        }
      },
      "cell_type": "code",
      "source": [
        "for key in ['A', 'B', 'C']:\n",
        "    print(key, df[df['key'] == key]['data'].sum())"
      ],
      "execution_count": 0,
      "outputs": [
        {
          "output_type": "stream",
          "text": [
            "A 15\n",
            "B 30\n",
            "C 45\n"
          ],
          "name": "stdout"
        }
      ]
    },
    {
      "metadata": {
        "id": "dcjG3rj-gjHj",
        "colab_type": "text"
      },
      "cell_type": "markdown",
      "source": [
        "### Groupby: applying functions per group"
      ]
    },
    {
      "metadata": {
        "id": "IiZZ2oePgjHj",
        "colab_type": "text"
      },
      "cell_type": "markdown",
      "source": [
        "<img src=\"https://github.com/jorisvandenbossche/pandas-tutorial/raw/8308a6eb7d144fff95a6853930e3be4e8ddb2e0f/img/splitApplyCombine.png\">\n",
        "\n",
        " "
      ]
    },
    {
      "metadata": {
        "run_control": {
          "frozen": false,
          "read_only": false
        },
        "colab_type": "code",
        "id": "gosVmHFaq1zo",
        "colab": {}
      },
      "cell_type": "code",
      "source": [
        "df.groupby('key').sum()"
      ],
      "execution_count": 0,
      "outputs": []
    },
    {
      "metadata": {
        "run_control": {
          "frozen": false,
          "read_only": false
        },
        "id": "XCqJf-qHgjHm",
        "colab_type": "code",
        "colab": {}
      },
      "cell_type": "code",
      "source": [
        "df.groupby('key')['data'].sum()"
      ],
      "execution_count": 0,
      "outputs": []
    },
    {
      "metadata": {
        "id": "3Hedpa63gjHn",
        "colab_type": "text"
      },
      "cell_type": "markdown",
      "source": [
        "###  titanic 분석해보기"
      ]
    },
    {
      "metadata": {
        "run_control": {
          "frozen": false,
          "read_only": false
        },
        "id": "jEhpGnt7gjHo",
        "colab_type": "code",
        "colab": {}
      },
      "cell_type": "code",
      "source": [
        "df = pd.read_csv(\"data/titanic.csv\")"
      ],
      "execution_count": 0,
      "outputs": []
    },
    {
      "metadata": {
        "run_control": {
          "frozen": false,
          "read_only": false
        },
        "id": "oNoaiP6wgjHp",
        "colab_type": "code",
        "colab": {}
      },
      "cell_type": "code",
      "source": [
        "df.head()"
      ],
      "execution_count": 0,
      "outputs": []
    },
    {
      "metadata": {
        "id": "2JzlHmbhgjHq",
        "colab_type": "text"
      },
      "cell_type": "markdown",
      "source": [
        "연습하기:\n",
        "각 성별  평균 구하기"
      ]
    },
    {
      "metadata": {
        "clear_cell": true,
        "run_control": {
          "frozen": false,
          "read_only": false
        },
        "id": "ySYPBl49gjHq",
        "colab_type": "code",
        "outputId": "420ecb8d-a5ca-438e-eaeb-2ad0ee438985",
        "colab": {
          "base_uri": "https://localhost:8080/",
          "height": 87
        }
      },
      "cell_type": "code",
      "source": [
        "df.groupby('Sex')['Age'].mean()"
      ],
      "execution_count": 0,
      "outputs": [
        {
          "output_type": "execute_result",
          "data": {
            "text/plain": [
              "Sex\n",
              "female    27.915709\n",
              "male      30.726645\n",
              "Name: Age, dtype: float64"
            ]
          },
          "metadata": {
            "tags": []
          },
          "execution_count": 57
        }
      ]
    },
    {
      "metadata": {
        "id": "gWVXjEz1gjHr",
        "colab_type": "text"
      },
      "cell_type": "markdown",
      "source": [
        "연습하기:\n",
        "\n",
        "모든 승객의 평균 생존율을 계산한다."
      ]
    },
    {
      "metadata": {
        "clear_cell": true,
        "run_control": {
          "frozen": false,
          "read_only": false
        },
        "id": "rgi718FjgjHr",
        "colab_type": "code",
        "outputId": "73ef5de9-1058-47c3-8cd4-4484154d9887",
        "colab": {
          "base_uri": "https://localhost:8080/",
          "height": 35
        }
      },
      "cell_type": "code",
      "source": [
        "df['Survived'].mean()"
      ],
      "execution_count": 0,
      "outputs": [
        {
          "output_type": "execute_result",
          "data": {
            "text/plain": [
              "0.3838383838383838"
            ]
          },
          "metadata": {
            "tags": []
          },
          "execution_count": 59
        }
      ]
    },
    {
      "metadata": {
        "id": "ENaMiPfUgjHs",
        "colab_type": "text"
      },
      "cell_type": "markdown",
      "source": [
        "연습하기:\n",
        "\n",
        "25세 이하 승객의 평균 생존율을 계산한다."
      ]
    },
    {
      "metadata": {
        "clear_cell": true,
        "run_control": {
          "frozen": false,
          "read_only": false
        },
        "scrolled": true,
        "id": "cgNQ2TwXgjHs",
        "colab_type": "code",
        "outputId": "097a074a-62df-4117-f30c-178a590e834c",
        "colab": {
          "base_uri": "https://localhost:8080/",
          "height": 35
        }
      },
      "cell_type": "code",
      "source": [
        ""
      ],
      "execution_count": 0,
      "outputs": [
        {
          "output_type": "execute_result",
          "data": {
            "text/plain": [
              "0.4119601328903654"
            ]
          },
          "metadata": {
            "tags": []
          },
          "execution_count": 61
        }
      ]
    },
    {
      "metadata": {
        "id": "k7rWKdLIgjHt",
        "colab_type": "text"
      },
      "cell_type": "markdown",
      "source": [
        "연습하기:\n",
        "\n",
        "남녀 생존률"
      ]
    },
    {
      "metadata": {
        "clear_cell": true,
        "run_control": {
          "frozen": false,
          "read_only": false
        },
        "id": "7sOgCIqHgjHt",
        "colab_type": "code",
        "colab": {}
      },
      "cell_type": "code",
      "source": [
        "df.groupby('Sex')['Survived'].mean()"
      ],
      "execution_count": 0,
      "outputs": []
    },
    {
      "metadata": {
        "id": "fWFt3TsMgjHx",
        "colab_type": "text"
      },
      "cell_type": "markdown",
      "source": [
        "<div class=\"alert alert-success\">\n",
        "\n",
        "<b>EXERCISE</b>:\n",
        "\n",
        " <ul>\n",
        "  <li>Or how does it differ between the different classes? Make a bar plot visualizing the survival ratio for the 3 classes.</li>\n",
        "</ul>\n",
        "</div>"
      ]
    },
    {
      "metadata": {
        "clear_cell": true,
        "id": "YSqQvyMTgjHx",
        "colab_type": "code",
        "colab": {}
      },
      "cell_type": "code",
      "source": [
        "# %load snippets/01-pandas_introduction80.py"
      ],
      "execution_count": 0,
      "outputs": []
    },
    {
      "metadata": {
        "id": "PdxKPpT0gjHz",
        "colab_type": "text"
      },
      "cell_type": "markdown",
      "source": [
        "연습하기:\n",
        "\n",
        "PClass별 생존율 그리기 "
      ]
    },
    {
      "metadata": {
        "id": "nHpy8cOQtthw",
        "colab_type": "code",
        "outputId": "bd361080-68f2-4b19-9b65-938493093f2f",
        "colab": {
          "base_uri": "https://localhost:8080/",
          "height": 293
        }
      },
      "cell_type": "code",
      "source": [
        "df.groupby('Pclass')['Survived'].mean().plot(kind='bar')"
      ],
      "execution_count": 0,
      "outputs": [
        {
          "output_type": "execute_result",
          "data": {
            "text/plain": [
              "<matplotlib.axes._subplots.AxesSubplot at 0x7fe07a9b0ac8>"
            ]
          },
          "metadata": {
            "tags": []
          },
          "execution_count": 69
        },
        {
          "output_type": "display_data",
          "data": {
            "image/png": "[encoded data removed]",
            "text/plain": [
              "<Figure size 432x288 with 1 Axes>"
            ]
          },
          "metadata": {
            "tags": []
          }
        }
      ]
    },
    {
      "metadata": {
        "id": "4FlZlumSvSrO",
        "colab_type": "text"
      },
      "cell_type": "markdown",
      "source": [
        "연습하기:\n",
        "\n",
        "각 나이대별 별 생존율 그리기 "
      ]
    },
    {
      "metadata": {
        "id": "HLBu5LXWvNaw",
        "colab_type": "code",
        "colab": {}
      },
      "cell_type": "code",
      "source": [
        "df['AgeClass'] = pd.cut(df['Age'], bins=np.arange(0,90,10))"
      ],
      "execution_count": 0,
      "outputs": []
    },
    {
      "metadata": {
        "clear_cell": true,
        "run_control": {
          "frozen": false,
          "read_only": false
        },
        "scrolled": true,
        "id": "3cT8voVLgjH1",
        "colab_type": "code",
        "outputId": "3438b7ee-61fe-440f-ac95-2adbdf5d2d38",
        "colab": {
          "base_uri": "https://localhost:8080/",
          "height": 322
        }
      },
      "cell_type": "code",
      "source": [
        "df.groupby('AgeClass')['Survived'].mean().plot(kind='bar')"
      ],
      "execution_count": 0,
      "outputs": [
        {
          "output_type": "execute_result",
          "data": {
            "text/plain": [
              "<matplotlib.axes._subplots.AxesSubplot at 0x7fe07a8d8c88>"
            ]
          },
          "metadata": {
            "tags": []
          },
          "execution_count": 86
        },
        {
          "output_type": "display_data",
          "data": {
            "image/png": "[encoded data removed]",
            "text/plain": [
              "<Figure size 432x288 with 1 Axes>"
            ]
          },
          "metadata": {
            "tags": []
          }
        }
      ]
    },
    {
      "metadata": {
        "id": "HW816nkZgjH2",
        "colab_type": "text"
      },
      "cell_type": "markdown",
      "source": [
        "# time series "
      ]
    },
    {
      "metadata": {
        "id": "c4K9PeoIgjH2",
        "colab_type": "code",
        "colab": {}
      },
      "cell_type": "code",
      "source": [
        "no2 = pd.read_csv('data/20000101_20161231-NO2.csv', sep=';', skiprows=[1], na_values=['n/d'], index_col=0, parse_dates=True)"
      ],
      "execution_count": 0,
      "outputs": []
    },
    {
      "metadata": {
        "id": "AsB4v6ilgjH3",
        "colab_type": "code",
        "colab": {}
      },
      "cell_type": "code",
      "source": [
        "no2.index"
      ],
      "execution_count": 0,
      "outputs": []
    },
    {
      "metadata": {
        "id": "Q4iq7FbUgjH5",
        "colab_type": "code",
        "colab": {}
      },
      "cell_type": "code",
      "source": [
        "no2[\"2010-01-01 09:00\": \"2010-01-01 12:00\"]"
      ],
      "execution_count": 0,
      "outputs": []
    },
    {
      "metadata": {
        "id": "F-kGbDVxgjH8",
        "colab_type": "code",
        "colab": {}
      },
      "cell_type": "code",
      "source": [
        "no2['2012-01':'2012-03']"
      ],
      "execution_count": 0,
      "outputs": []
    },
    {
      "metadata": {
        "id": "cvCQqFJagjH-",
        "colab_type": "code",
        "colab": {}
      },
      "cell_type": "code",
      "source": [
        "no2.index.hour"
      ],
      "execution_count": 0,
      "outputs": []
    },
    {
      "metadata": {
        "id": "YjVe158ogjH_",
        "colab_type": "code",
        "colab": {}
      },
      "cell_type": "code",
      "source": [
        "no2.index.year"
      ],
      "execution_count": 0,
      "outputs": []
    },
    {
      "metadata": {
        "id": "YI5TjhbugjIA",
        "colab_type": "text"
      },
      "cell_type": "markdown",
      "source": [
        "# resample"
      ]
    },
    {
      "metadata": {
        "id": "zoWYEP9FgjIA",
        "colab_type": "code",
        "colab": {}
      },
      "cell_type": "code",
      "source": [
        "no2.plot(figsize=(16,8))"
      ],
      "execution_count": 0,
      "outputs": []
    },
    {
      "metadata": {
        "id": "cA7yaEa7gjIB",
        "colab_type": "text"
      },
      "cell_type": "markdown",
      "source": [
        "Daily로 변경"
      ]
    },
    {
      "metadata": {
        "id": "1U1JLCZJgjIB",
        "colab_type": "code",
        "colab": {}
      },
      "cell_type": "code",
      "source": [
        "no2.head()"
      ],
      "execution_count": 0,
      "outputs": []
    },
    {
      "metadata": {
        "id": "Az-jdqC2gjIC",
        "colab_type": "code",
        "colab": {}
      },
      "cell_type": "code",
      "source": [
        "no2.resample('M').mean().head(9)"
      ],
      "execution_count": 0,
      "outputs": []
    },
    {
      "metadata": {
        "id": "oaZvwHJTgjID",
        "colab_type": "code",
        "colab": {}
      },
      "cell_type": "code",
      "source": [
        "no2.resample('M').max().head(17)"
      ],
      "execution_count": 0,
      "outputs": []
    },
    {
      "metadata": {
        "id": "1Ig1-XR6gjIF",
        "colab_type": "text"
      },
      "cell_type": "markdown",
      "source": [
        "https://pandas.pydata.org/pandas-docs/stable/user_guide/timeseries.html#offset-aliases\n",
        " "
      ]
    },
    {
      "metadata": {
        "id": "x0kevPDWgjIF",
        "colab_type": "code",
        "colab": {}
      },
      "cell_type": "code",
      "source": [
        "no2.resample('M').mean().plot() # 'A'"
      ],
      "execution_count": 0,
      "outputs": []
    },
    {
      "metadata": {
        "id": "lxqiFACigjIG",
        "colab_type": "code",
        "colab": {}
      },
      "cell_type": "code",
      "source": [
        "no2['2012'].resample('D').mean().plot()"
      ],
      "execution_count": 0,
      "outputs": []
    },
    {
      "metadata": {
        "clear_cell": true,
        "id": "t3K3PtfLgjIH",
        "colab_type": "code",
        "colab": {}
      },
      "cell_type": "code",
      "source": [
        "#https://pandas.pydata.org/pandas-docs/stable/reference/groupby.html#computations-descriptive-stats\n",
        "no2.loc['2009':, 'VERS'].resample('M').agg(['mean', 'median']).plot()\n"
      ],
      "execution_count": 0,
      "outputs": []
    },
    {
      "metadata": {
        "clear_cell": true,
        "scrolled": false,
        "id": "DQWTJ5oCgjII",
        "colab_type": "code",
        "colab": {}
      },
      "cell_type": "code",
      "source": [
        "no2.resample('A').mean().plot()\n",
        "no2.mean(axis=1).resample('A').mean().plot(color='k', linestyle='--', linewidth=4)"
      ],
      "execution_count": 0,
      "outputs": []
    },
    {
      "metadata": {
        "id": "2HFA0NdPgjIJ",
        "colab_type": "text"
      },
      "cell_type": "markdown",
      "source": [
        "# 응용~ 월별 그래프 "
      ]
    },
    {
      "metadata": {
        "clear_cell": true,
        "id": "5IYCMJQXgjIL",
        "colab_type": "code",
        "colab": {}
      },
      "cell_type": "code",
      "source": [
        ""
      ],
      "execution_count": 0,
      "outputs": []
    },
    {
      "metadata": {
        "id": "drAIegADgjIR",
        "colab_type": "text"
      },
      "cell_type": "markdown",
      "source": [
        "# 응용~ 시간별"
      ]
    },
    {
      "metadata": {
        "clear_cell": true,
        "id": "2HawBby8gjIR",
        "colab_type": "code",
        "colab": {}
      },
      "cell_type": "code",
      "source": [
        "no2.groupby(no2.index.weekday).mean().plot()"
      ],
      "execution_count": 0,
      "outputs": []
    },
    {
      "metadata": {
        "id": "RlTVSjcxgjIS",
        "colab_type": "text"
      },
      "cell_type": "markdown",
      "source": [
        "응용~ 시간별\n",
        "\n",
        "BASCH 지역에 주일과 주말과 차이를 시간대별로 구하세요\n"
      ]
    },
    {
      "metadata": {
        "id": "KSxhEj-A7zOB",
        "colab_type": "code",
        "colab": {}
      },
      "cell_type": "code",
      "source": [
        "no2['weekday'] = no2.index.weekday\n",
        "no2['weekend'] = no2['weekday'].isin([5, 6])\n"
      ],
      "execution_count": 0,
      "outputs": []
    },
    {
      "metadata": {
        "id": "w_jswVk-8oR9",
        "colab_type": "code",
        "colab": {}
      },
      "cell_type": "code",
      "source": [
        "no2.groupby(['weekend',no2.index.hour])['BASCH'].mean().unstack(0).plot()\n",
        "#https://pandas.pydata.org/pandas-docs/stable/user_guide/reshaping.html"
      ],
      "execution_count": 0,
      "outputs": []
    },
    {
      "metadata": {
        "clear_cell": true,
        "id": "OqLGMNTJgjIV",
        "colab_type": "code",
        "colab": {}
      },
      "cell_type": "code",
      "source": [
        "no2['hour'] = no2.index.hour\n",
        "no2.pivot_table(columns='weekend', index='hour', values='BASCH')"
      ],
      "execution_count": 0,
      "outputs": []
    },
    {
      "metadata": {
        "id": "-tT61v0SgjIb",
        "colab_type": "text"
      },
      "cell_type": "markdown",
      "source": [
        "#연습\n",
        "\n",
        "유럽기준이 시간당 평균이 200이 넘는 날이 1년에 18일 이상 되면 안된다.  \n",
        "최악의 경우 80일이 넘을 경우 Euro에서 제재를 가할수 있다.\n"
      ]
    },
    {
      "metadata": {
        "id": "SVWRPyqFgjIb",
        "colab_type": "code",
        "colab": {}
      },
      "cell_type": "code",
      "source": [
        "# re-reading the data to have a clean version\n",
        "no2 = pd.read_csv('data/20000101_20161231-NO2.csv', sep=';', skiprows=[1], na_values=['n/d'], index_col=0, parse_dates=True)"
      ],
      "execution_count": 0,
      "outputs": []
    },
    {
      "metadata": {
        "clear_cell": true,
        "id": "EY4DQdr0gjIc",
        "colab_type": "code",
        "colab": {}
      },
      "cell_type": "code",
      "source": [
        "초과 = no2>200"
      ],
      "execution_count": 0,
      "outputs": []
    },
    {
      "metadata": {
        "id": "c1JOFmULCL9n",
        "colab_type": "text"
      },
      "cell_type": "markdown",
      "source": [
        ""
      ]
    },
    {
      "metadata": {
        "id": "x5z0gdiOAccE",
        "colab_type": "code",
        "colab": {}
      },
      "cell_type": "code",
      "source": [
        "ax = 초과.groupby(초과.index.year).sum().plot(kind='bar',figsize=(16,6))\n",
        "ax.axhline(18,color='k',linestyle='--')\n",
        "ax.axhline(68,color='r',linestyle='--')"
      ],
      "execution_count": 0,
      "outputs": []
    }
  ]
}