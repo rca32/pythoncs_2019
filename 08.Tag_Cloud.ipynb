{
  "nbformat": 4,
  "nbformat_minor": 0,
  "metadata": {
    "colab": {
      "name": "Tag Cloud",
      "version": "0.3.2",
      "provenance": [],
      "include_colab_link": true
    },
    "kernelspec": {
      "name": "python3",
      "display_name": "Python 3"
    }
  },
  "cells": [
    {
      "cell_type": "markdown",
      "metadata": {
        "id": "view-in-github",
        "colab_type": "text"
      },
      "source": [
        "<a href=\"https://colab.research.google.com/github/rca32/pythoncs_2019/blob/master/08.Tag_Cloud.ipynb\" target=\"_parent\"><img src=\"https://colab.research.google.com/assets/colab-badge.svg\" alt=\"Open In Colab\"/></a>"
      ]
    },
    {
      "metadata": {
        "id": "G7eoaj9N3Mf0",
        "colab_type": "code",
        "colab": {}
      },
      "cell_type": "code",
      "source": [
        "#@title Matplotlib에서 한글 사용하기\n",
        "\n",
        "!apt-get install fonts-nanum*\n",
        "!apt-get install fontconfig\n",
        "!fc-cache -fv\n",
        "!cp /usr/share/fonts/truetype/nanum/Nanum* /usr/local/lib/python3.6/dist-packages/matplotlib/mpl-data/fonts/ttf/\n",
        "!rm -rf /content/.cache/matplotlib/*"
      ],
      "execution_count": 0,
      "outputs": []
    },
    {
      "metadata": {
        "id": "66t5kMwH2NJM",
        "colab_type": "code",
        "colab": {}
      },
      "cell_type": "code",
      "source": [
        "#@title 한클폰트 경로 \n",
        "\n",
        "path = '/usr/share/fonts/truetype/nanum/NanumGothicBold.ttf'\n",
        "\n"
      ],
      "execution_count": 0,
      "outputs": []
    },
    {
      "metadata": {
        "id": "i-xrlbhyRb8B",
        "colab_type": "code",
        "colab": {}
      },
      "cell_type": "code",
      "source": [
        "#@title wordcloud 설치 관련 링크 https://github.com/amueller/word_cloud\n",
        "!pip install wordcloud\n"
      ],
      "execution_count": 0,
      "outputs": []
    },
    {
      "metadata": {
        "id": "H9bU2Yzy5cab",
        "colab_type": "code",
        "colab": {}
      },
      "cell_type": "code",
      "source": [
        "단어빈도 = {\n",
        "    \"배대현\":10,\n",
        "     \"비행기\":4,\n",
        "    \"배경\":9,\n",
        "    \"금요일\":42\n",
        "}"
      ],
      "execution_count": 0,
      "outputs": []
    },
    {
      "metadata": {
        "colab_type": "code",
        "id": "Kb6Sg9BIRzbO",
        "colab": {}
      },
      "cell_type": "code",
      "source": [
        "import matplotlib.pyplot as plt\n",
        " \n",
        "wordcloud = WordCloud(font_path=path)\n",
        "wordcloud.fit_words(단어빈도)\n",
        "\n",
        "plt.figure()\n",
        "plt.imshow(wordcloud, interpolation=\"bilinear\")\n",
        "plt.axis(\"off\")\n",
        "plt.show()"
      ],
      "execution_count": 0,
      "outputs": []
    },
    {
      "metadata": {
        "id": "yEfM0gKh8aCg",
        "colab_type": "code",
        "colab": {}
      },
      "cell_type": "code",
      "source": [
        "news = \"\"\"(뉴욕=연합인포맥스) 곽세연 특파원 = 달러화 가치는 미국과 중국의 무역협상 기대가 살아나 상승했다.\n",
        "\n",
        "연합인포맥스(6411)에 따르면 11일 오전 10시(이하 현지시각) 뉴욕 외환시장에서 달러화는 엔화에 달러당 110.411엔을 기록, 전장 뉴욕 후장 가격인 109.795엔보다 0.616엔(0.56%) 올랐다. \n",
        "\n",
        "유로화는 달러화에 유로당 1.12918달러에 움직여, 전장 가격인 1.13221달러보다 0.00303달러(0.27%) 하락했다.\n",
        "\n",
        "유로화는 엔화에 유로당 124.67엔을 기록, 전장 가격인 124.32엔보다 0.35엔(0.28%) 상승했다.\n",
        "\n",
        "주요 6개 통화에 대한 달러화 가치를 반영한 달러 인덱스는 전장보다 0.32% 상승한 96.950을 기록했다. \n",
        "\n",
        "달러 인덱스는 지난주 1.11% 강하게 오른 뒤 이날도 상승 흐름을 지속했고 지난해 12월 후반 이후 가장 높은 수준을 기록했다.\n",
        "\n",
        "전반적인 달러 강세 흐름이 이어졌다. 지난해 말까지만 해도 2019년 달러는 부양 정책 효과가 사라져 하락할 것이라는 전망이 많았지만, 상대적인 미국 경제 강세에 상승 흐름을 보인다.\n",
        "\n",
        "이번 주 베이징에서 미국과 중국의 차관급, 고위급 회담이 잇따라 열린 가운데 협상 기대도 다시 살아났다.\n",
        "\n",
        "미국의 정치 전문 매체 악시오스는 도널드 트럼프 미국 대통령과 시진핑 중국 국가주석의 정상회담이 다음 달 중순 미국에서 열릴 가능성이 있다고 보도했다.\n",
        "\n",
        "챈들러 분석가들은 \"최종적인 결과는 아니더라도 시장에는 여전히 합의에 대한 기대가 있다\"며 \"그러나 두 정상이 만나지 않는 한 돌파구를 찾기는 힘들다\"고 설명했다.\n",
        "\n",
        "이날은 엔화와 파운드화가 큰 폭 하락해 달러 인덱스 상승을 돕고 있다.\n",
        "\n",
        "일본이 건국기념일로 휴장한 가운데 달러는 엔에 대해 작년 12월 후반 이후 가장 높은 수준을 기록했다.\n",
        "\n",
        "거래량 등이 줄어든 가운데 아시아시장에서 달러화에 순간 급락한 스위스프랑은 소폭 하락했다. 엔화와 더불어 대표적인 안전통화로 여겨지는 스위스프랑은 유동성 부족으로 장 초반 1% 가까이 떨어졌다.\n",
        "\n",
        "지난달 초 외환시장을 흔들었던 플래시 크래시가 다시 발생한 것이 아니냐는 우려를 키웠다. 1월 3일에 엔은 호주달러에 순간 7% 급등했다.\n",
        "\n",
        "XM의 마리오스 하지쿠리오코스 분석가는 \"아시아 초반 거래에서 특별한 소식이 없었다\"며 \"이런 움직임은 유동성이 매우 얇은 환경에서 실행된 대규모 거래 때문으로 보인다\"고 말했다.\n",
        "\n",
        "아르케라의 비라즈 파텔 외환 전략가는 \"유동성이 적은 환경에서 1%의 움직임은 크래쉬라고 할 수 없다\"며 \"이 배경은 스위스중앙은행만 알 것\"이라고 설명했다.\n",
        "\n",
        "파운드는 영국 경제 부진에 달러 대비 0.48% 내렸다.\n",
        "\n",
        "작년 한 해 영국 경제성장률은 1.4%로 집계돼 2012년 이후 6년 만에 가장 낮은 성장률을 보였다. 2017년에는 1.8%를 기록했다.\n",
        "\n",
        "코메르츠방크의 뚜 란 니구엔 외환 전략가는 \"달러는 안전피난처로 수요가 최근 늘고 있다\"며 \"이는 통상적인 안전통화로 여겨지는 스위스프랑과 일본 엔 역시 상승할 수 있다는 사실을 반영한다\"고 설명했다.\n",
        "\n",
        "중국 시장이 설 연휴에서 돌아와 열린 가운데 위안화는 0.23% 하락했다. \n",
        "\n",
        "sykwak@yna.co.kr\n",
        "\n",
        "(끝)\n",
        "저작권자 © 연합인포맥스 무단전재 및 재배포 금지\n",
        "\n",
        "출처 : 연합인포맥스(http://news.einfomax.co.kr)\"\"\""
      ],
      "execution_count": 0,
      "outputs": []
    },
    {
      "metadata": {
        "id": "VVq48cJvSTTz",
        "colab_type": "code",
        "colab": {}
      },
      "cell_type": "code",
      "source": [
        "#@title news 공백 단위로 잘라서 단어의 갯수를 계산하는 calc_word_frequency 함수를 작성 하시요 하시요 \n",
        "\n",
        "def calc_word_frequency(txt):\n",
        "  \"\"\"\n",
        "    txt:텍스트 \n",
        "    return 값 dict 단어 빈도 \n",
        "  \"\"\"\n",
        "  pass\n",
        "\n",
        "\n",
        "\n"
      ],
      "execution_count": 0,
      "outputs": []
    },
    {
      "metadata": {
        "id": "-LgNMWkcSd8J",
        "colab_type": "code",
        "colab": {}
      },
      "cell_type": "code",
      "source": [
        "#@title *함수 테스트*\n",
        "뉴스단어빈도 = calc_word_frequency(news)\n",
        "wordcloud = WordCloud(font_path=path)\n",
        "wordcloud.fit_words(뉴스단어빈도)\n",
        "\n",
        "plt.figure()\n",
        "plt.imshow(wordcloud, interpolation=\"bilinear\")\n",
        "plt.axis(\"off\")\n",
        "plt.show()\n"
      ],
      "execution_count": 0,
      "outputs": []
    },
    {
      "metadata": {
        "id": "8VXEL7AHTs4L",
        "colab_type": "code",
        "colab": {}
      },
      "cell_type": "code",
      "source": [
        "#@title calc_word_frequency에 가장 많은 빈도를 가진 단어를 maxcount 까지 출력\n",
        "\n",
        "def calc_word_frequency(txt,maxcount):\n",
        "  \"\"\"\n",
        "    txt:텍스트 \n",
        "    maxcount:갯수 \n",
        "    return 값 dict 단어 빈도 \n",
        "  \"\"\"\n",
        "  pass\n",
        "\n",
        "\n",
        "\n"
      ],
      "execution_count": 0,
      "outputs": []
    },
    {
      "metadata": {
        "id": "xMcsu698V9bj",
        "colab_type": "code",
        "colab": {}
      },
      "cell_type": "code",
      "source": [
        "#@title *함수 테스트*\n",
        "뉴스단어빈도 = calc_word_frequency(news,30)\n",
        "wordcloud = WordCloud(font_path=path)\n",
        "wordcloud.fit_words(뉴스단어빈도)\n",
        "\n",
        "plt.figure()\n",
        "plt.imshow(wordcloud, interpolation=\"bilinear\")\n",
        "plt.axis(\"off\")\n",
        "plt.show()\n"
      ],
      "execution_count": 0,
      "outputs": []
    },
    {
      "metadata": {
        "id": "bLi1ZnNRUOti",
        "colab_type": "code",
        "colab": {}
      },
      "cell_type": "code",
      "source": [
        "#@title calc_word_frequency에 stopwords 받아 필요 없는 단어를 제러하시요\n",
        "\n",
        "def calc_word_frequency(txt,maxcount,stopwords):\n",
        "  \"\"\"\n",
        "    txt:텍스트 \n",
        "    maxcount:갯수 \n",
        "    return 값 dict 단어 빈도 \n",
        "  \"\"\"\n",
        "  pass\n",
        "\n",
        "\n",
        "\n"
      ],
      "execution_count": 0,
      "outputs": []
    },
    {
      "metadata": {
        "id": "2XdEDxx8Wc80",
        "colab_type": "code",
        "colab": {}
      },
      "cell_type": "code",
      "source": [
        "#@title *함수 테스트*\n",
        "뉴스단어빈도 = calc_word_frequency(news,30,[\"연합인포맥스\"])\n",
        "wordcloud = WordCloud(font_path=path)\n",
        "wordcloud.fit_words(뉴스단어빈도)\n",
        "\n",
        "plt.figure()\n",
        "plt.imshow(wordcloud, interpolation=\"bilinear\")\n",
        "plt.axis(\"off\")\n",
        "plt.show()\n"
      ],
      "execution_count": 0,
      "outputs": []
    },
    {
      "metadata": {
        "id": "Ri9sLL4XLOc5",
        "colab_type": "code",
        "colab": {}
      },
      "cell_type": "code",
      "source": [
        "#https://lovit.github.io/nlp/2018/04/16/krwordrank/\n",
        "!pip install krwordrank"
      ],
      "execution_count": 0,
      "outputs": []
    },
    {
      "metadata": {
        "id": "nejNTH5SH1uY",
        "colab_type": "code",
        "colab": {}
      },
      "cell_type": "code",
      "source": [
        "\n",
        "\n",
        "from krwordrank.word import KRWordRank\n",
        "from krwordrank.hangle import normalize\n",
        "\n",
        "\n",
        "wordrank_extractor = KRWordRank(\n",
        "    min_count = 2, # 단어의 최소 출현 빈도수 (그래프 생성 시)\n",
        "    max_length = 10, # 단어의 최대 길이\n",
        "    verbose = True\n",
        "    )\n",
        "\n",
        "beta = 0.85    # PageRank의 decaying factor beta\n",
        "max_iter = 10\n",
        "\n",
        "keywords, rank, graph = wordrank_extractor.extract([news_text], beta, max_iter)\n",
        "\n",
        "wordcloud.fit_words(keywords)\n",
        "plt.figure(figsize =(8,8))\n",
        "plt.imshow(wordcloud, interpolation=\"bilinear\")\n",
        "plt.axis(\"off\")\n",
        "plt.show()"
      ],
      "execution_count": 0,
      "outputs": []
    },
    {
      "metadata": {
        "id": "8ktzMrGBLPjL",
        "colab_type": "code",
        "colab": {}
      },
      "cell_type": "code",
      "source": [
        ""
      ],
      "execution_count": 0,
      "outputs": []
    }
  ]
}