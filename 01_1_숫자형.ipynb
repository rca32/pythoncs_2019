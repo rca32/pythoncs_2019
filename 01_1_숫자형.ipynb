{
  "nbformat": 4,
  "nbformat_minor": 0,
  "metadata": {
    "colab": {
      "name": "01-1 숫자형",
      "version": "0.3.2",
      "provenance": [],
      "include_colab_link": true
    },
    "kernelspec": {
      "name": "python3",
      "display_name": "Python 3"
    }
  },
  "cells": [
    {
      "cell_type": "markdown",
      "metadata": {
        "id": "view-in-github",
        "colab_type": "text"
      },
      "source": [
        "<a href=\"https://colab.research.google.com/github/rca32/pythoncs_2019/blob/master/01_1_%EC%88%AB%EC%9E%90%ED%98%95.ipynb\" target=\"_parent\"><img src=\"https://colab.research.google.com/assets/colab-badge.svg\" alt=\"Open In Colab\"/></a>"
      ]
    },
    {
      "metadata": {
        "id": "K1PNad90-6Jc",
        "colab_type": "text"
      },
      "cell_type": "markdown",
      "source": [
        "# 02-1 숫자형"
      ]
    },
    {
      "metadata": {
        "id": "OPArOykoQc8_",
        "colab_type": "text"
      },
      "cell_type": "markdown",
      "source": [
        "[문제1] 점수의 평균\n",
        "\n",
        "홍길동씨의 과목별 점수는 각각 다음과 같다.\n",
        "\n",
        "과목\t|점수\n",
        "--|--\n",
        "국어|\t80\n",
        "영어|\t75\n",
        "수학|\t55\n",
        "\n",
        "홍길동씨의 평균점수를 구하시오."
      ]
    },
    {
      "metadata": {
        "id": "N83Z-6yyQ61_",
        "colab_type": "text"
      },
      "cell_type": "markdown",
      "source": [
        "[문제2] 자연수의 홀짝\n",
        "\n",
        "주어진 자연수가 홀수인지 짝수인지 판별할 수 있는 방법에 대해서 말해보자."
      ]
    },
    {
      "metadata": {
        "id": "nGEemc_paDqQ",
        "colab_type": "text"
      },
      "cell_type": "markdown",
      "source": [
        "[문제3] 다음(Daum)의 주가가 89,000원이고 네이버(Naver)의 주가가 751,000원이라고 가정하고, 어떤 사람이 다음 주식 100주와 네이버 주식 20주를 가지고 있을 때 그 사람이 가지고 있는 주식의 총액을 계산하는 프로그램을 작성하세요."
      ]
    },
    {
      "metadata": {
        "id": "mCUfGfXJaLMI",
        "colab_type": "text"
      },
      "cell_type": "markdown",
      "source": [
        "[문제4] 위에서 구한 주식 총액에서 다음과 네이버의 주가가 각각 5%, 10% 하락한 경우에 손실액을 구하는 프로그램을 작성하세요."
      ]
    },
    {
      "metadata": {
        "id": "-zuUekWrUzND",
        "colab_type": "text"
      },
      "cell_type": "markdown",
      "source": [
        "## 심화\n",
        "\n",
        "[부동소수점 실수 자료형](https://datascienceschool.net/view-notebook/148fc57f684c4dc48eeb5048ab0d45f2/)\n",
        "\n",
        "[비트 연산자 사용하기 ](https://riptutorial.com/ko/python/topic/730/%EB%B9%84%ED%8A%B8-%EC%97%B0%EC%82%B0%EC%9E%90)\n",
        "\n",
        "[파이선의 유리수 표현 ](https://m.blog.naver.com/PostView.nhn?blogId=dudwo567890&logNo=130165177493&proxyReferer=https%3A%2F%2Fwww.google.com%2F)\n",
        "\n",
        "\n"
      ]
    }
  ]
}