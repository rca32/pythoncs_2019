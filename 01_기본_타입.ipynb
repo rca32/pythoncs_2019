{
  "nbformat": 4,
  "nbformat_minor": 0,
  "metadata": {
    "colab": {
      "name": "01 기본 타입",
      "version": "0.3.2",
      "provenance": [],
      "toc_visible": true
    },
    "kernelspec": {
      "name": "python3",
      "display_name": "Python 3"
    }
  },
  "cells": [
    {
      "metadata": {
        "id": "QMxNocw8o5i1",
        "colab_type": "text"
      },
      "cell_type": "markdown",
      "source": [
        "# 01-1 변수"
      ]
    },
    {
      "metadata": {
        "id": "t3JDj2TBo9-U",
        "colab_type": "code",
        "colab": {}
      },
      "cell_type": "code",
      "source": [
        "n = 300"
      ],
      "execution_count": 0,
      "outputs": []
    },
    {
      "metadata": {
        "id": "ri4dySiCpOaU",
        "colab_type": "text"
      },
      "cell_type": "markdown",
      "source": [
        "![대체 텍스트](https://github.com/rca32/pythoncs_2019/blob/master/variable.webp?raw=true)"
      ]
    },
    {
      "metadata": {
        "id": "OPArOykoQc8_",
        "colab_type": "text"
      },
      "cell_type": "markdown",
      "source": [
        "[문제1] 점수의 평균\n",
        "\n",
        "홍길동씨의 과목별 점수는 각각 다음과 같다.\n",
        "\n",
        "과목\t|점수\n",
        "--|--\n",
        "국어|\t80\n",
        "영어|\t75\n",
        "수학|\t55\n",
        "\n",
        "홍길동씨의 평균점수를 구하기 위해 각각 변수에 값을 할당 하고 출력 하시요"
      ]
    },
    {
      "metadata": {
        "id": "W7OflE6Br4VC",
        "colab_type": "text"
      },
      "cell_type": "markdown",
      "source": [
        "# 01-2 문자형"
      ]
    },
    {
      "metadata": {
        "id": "dBhp-E7vsIdq",
        "colab_type": "text"
      },
      "cell_type": "markdown",
      "source": [
        "## 문자열 생성\n",
        "\n",
        "```\n",
        "\"This is a string.\"\n",
        "'This is also a string.'\n",
        "\"\"\"This is also a string.\"\"\"\n",
        "'''This is also a string.'''\n",
        "\n",
        "```\n",
        "\n"
      ]
    },
    {
      "metadata": {
        "id": "KOPR9d482kCa",
        "colab_type": "text"
      },
      "cell_type": "markdown",
      "source": [
        "[문제2] 기사에 출처 붙이기 \n",
        "\n",
        "노사는 사실상 최후 협상 성격의 밤샘 교섭까지 진행했다.\n",
        "\n",
        "하지만 노조의 입장이 워낙 강경해 실제 파업 계획을 철회할 지는 현재로선 미지수다.\n",
        "\n",
        "7일 금융권에 따르면 국민은행 노조는 이날 잠실 학생체육관에서 파업 전야제를 연다.\n",
        "\n",
        "총파업은 8일, 한시적으로 진행한다는 방침이지만 이후 임단협이 타결되지 않으면 이달 말부터 두 달간 4차례의 추가 파업도 계획하고 있다.\n",
        "\n",
        "\n",
        "위의 인포맥스 기사에 \n",
        "\n",
        "**저작권자 © 연합인포맥스 무단전재 및 재배포 금지**\n",
        "\n",
        "위의 저작권 이 빠져 있다.  article이라는 변수에 기사를 저장후  article_copyright이라는 변수에 저작권 문자를 추가 하시요.\n"
      ]
    },
    {
      "metadata": {
        "id": "K1PNad90-6Jc",
        "colab_type": "text"
      },
      "cell_type": "markdown",
      "source": [
        "# 01-3 숫자형"
      ]
    },
    {
      "metadata": {
        "id": "N83Z-6yyQ61_",
        "colab_type": "text"
      },
      "cell_type": "markdown",
      "source": [
        "[문제3] 자연수의 홀짝\n",
        "\n",
        "주어진 자연수가 홀수인지 짝수인지 판별할 수 있는 방법에 대해서 말해보자."
      ]
    },
    {
      "metadata": {
        "id": "nGEemc_paDqQ",
        "colab_type": "text"
      },
      "cell_type": "markdown",
      "source": [
        "[문제4] 다음(Daum)의 주가가 89,000원이고 네이버(Naver)의 주가가 751,000원이라고 가정하고, 어떤 사람이 다음 주식 100주와 네이버 주식 20주를 가지고 있을 때 그 사람이 가지고 있는 주식의 총액을 계산하는 프로그램을 작성하세요."
      ]
    },
    {
      "metadata": {
        "id": "mCUfGfXJaLMI",
        "colab_type": "text"
      },
      "cell_type": "markdown",
      "source": [
        "[문제5] 위에서 구한 주식 총액에서 다음과 네이버의 주가가 각각 5%, 10% 하락한 경우에 손실액을 구하는 프로그램을 작성하세요."
      ]
    },
    {
      "metadata": {
        "id": "CellW3_j7Wtm",
        "colab_type": "code",
        "colab": {}
      },
      "cell_type": "code",
      "source": [
        ""
      ],
      "execution_count": 0,
      "outputs": []
    },
    {
      "metadata": {
        "id": "QZDt0x067g2f",
        "colab_type": "text"
      },
      "cell_type": "markdown",
      "source": [
        "# [HomeWork] \n",
        "\n",
        "```\n",
        "0.2 + 0.1\n",
        "9999999999999999.0 - 9999999999999998.0\n",
        "```\n",
        "위의 코드를 실행해서 문제를 파악하고 해결책을 찾아 오시요.\n",
        "\n"
      ]
    },
    {
      "metadata": {
        "id": "-zuUekWrUzND",
        "colab_type": "text"
      },
      "cell_type": "markdown",
      "source": [
        "## 심화\n",
        "\n",
        "[부동소수점 실수 자료형](https://datascienceschool.net/view-notebook/148fc57f684c4dc48eeb5048ab0d45f2/)\n",
        "\n",
        "[비트 연산자 사용하기 ](https://riptutorial.com/ko/python/topic/730/%EB%B9%84%ED%8A%B8-%EC%97%B0%EC%82%B0%EC%9E%90)\n",
        "\n",
        "[파이선의 유리수 표현 ](https://m.blog.naver.com/PostView.nhn?blogId=dudwo567890&logNo=130165177493&proxyReferer=https%3A%2F%2Fwww.google.com%2F)\n",
        "\n",
        "[데시말 반올림 모드설명](https://www.ibm.com/support/knowledgecenter/ko/SSMKHH_10.0.0/com.ibm.etools.mft.doc/ak05380_.htm)\n"
      ]
    }
  ]
}