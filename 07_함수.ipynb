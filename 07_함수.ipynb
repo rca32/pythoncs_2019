{
  "nbformat": 4,
  "nbformat_minor": 0,
  "metadata": {
    "colab": {
      "name": "07 함수.ipynb",
      "version": "0.3.2",
      "provenance": [],
      "include_colab_link": true
    },
    "kernelspec": {
      "name": "python3",
      "display_name": "Python 3"
    }
  },
  "cells": [
    {
      "cell_type": "markdown",
      "metadata": {
        "id": "view-in-github",
        "colab_type": "text"
      },
      "source": [
        "<a href=\"https://colab.research.google.com/github/rca32/pythoncs_2019/blob/master/07_%ED%95%A8%EC%88%98.ipynb\" target=\"_parent\"><img src=\"https://colab.research.google.com/assets/colab-badge.svg\" alt=\"Open In Colab\"/></a>"
      ]
    },
    {
      "metadata": {
        "id": "fcz4JEO-AMsS",
        "colab_type": "code",
        "outputId": "64c11852-b2af-4196-edae-c78734f1d379",
        "colab": {
          "base_uri": "https://localhost:8080/",
          "height": 35
        }
      },
      "cell_type": "code",
      "source": [
        "#@title 함수 만들기 \n",
        "def greet_user():\n",
        "  \"\"\"Display a simple greeting.\"\"\"\n",
        "  print(\"Hello!\")\n",
        "  \n",
        "greet_user()"
      ],
      "execution_count": 0,
      "outputs": [
        {
          "output_type": "stream",
          "text": [
            "Hello!\n"
          ],
          "name": "stdout"
        }
      ]
    },
    {
      "metadata": {
        "id": "C6m9CjbmBPSc",
        "colab_type": "code",
        "colab": {}
      },
      "cell_type": "code",
      "source": [
        "#@title 파라메터 사용  \n",
        "def greet_user(username):\n",
        "  \"\"\"Display a simple greeting.\"\"\"\n",
        "  print(\"Hello, \" + username + \"!\")\n",
        "greet_user('jesse')\n",
        "greet_user('diana')\n",
        "greet_user('brandon')"
      ],
      "execution_count": 0,
      "outputs": []
    },
    {
      "metadata": {
        "id": "HPYAlxrqA4qE",
        "colab_type": "code",
        "colab": {}
      },
      "cell_type": "code",
      "source": [
        "#@title 파라메터 이름 사용\n",
        "\n",
        "def describe_pet(animal, name):\n",
        "  \"\"\"Display information about a pet.\"\"\"\n",
        "  print(\"\\nI have a \" + animal + \".\")\n",
        "  print(\"Its name is \" + name + \".\")\n",
        "  \n",
        "describe_pet('hamster', 'harry')\n",
        "describe_pet('dog', 'willie')\n",
        "describe_pet(animal='hamster', name='harry')\n",
        "describe_pet(name='willie', animal='dog')\n"
      ],
      "execution_count": 0,
      "outputs": []
    },
    {
      "metadata": {
        "id": "cJRT5c3kCBwq",
        "colab_type": "code",
        "colab": {}
      },
      "cell_type": "code",
      "source": [
        "#@title 기본 파라메터 사용1\n",
        "\n",
        "def describe_pet(name, animal='dog'):\n",
        "  \"\"\"Display information about a pet.\"\"\"\n",
        "  print(\"\\nI have a \" + animal + \".\")\n",
        "  print(\"Its name is \" + name + \".\")\n",
        "describe_pet('harry', 'hamster')\n",
        "describe_pet('willie')"
      ],
      "execution_count": 0,
      "outputs": []
    },
    {
      "metadata": {
        "id": "3a3uJO6gCXpy",
        "colab_type": "code",
        "colab": {}
      },
      "cell_type": "code",
      "source": [
        "#@title 기본 파라메터 사용 2\n",
        "def describe_pet(animal, name=None):\n",
        "  \"\"\"Display information about a pet.\"\"\"\n",
        "  print(\"\\nI have a \" + animal + \".\")\n",
        "  if name:\n",
        "    print(\"Its name is \" + name + \".\")\n",
        "    \n",
        "describe_pet('hamster', 'harry')\n",
        "describe_pet('snake')"
      ],
      "execution_count": 0,
      "outputs": []
    },
    {
      "metadata": {
        "id": "HrendFwjCszp",
        "colab_type": "code",
        "colab": {}
      },
      "cell_type": "code",
      "source": [
        "#@title 파라메터 리턴 1\n",
        "def get_full_name(first, last):\n",
        "  \"\"\"Return a neatly formatted full name.\"\"\"\n",
        "  full_name = first + ' ' + last\n",
        "  return full_name.title()\n",
        "\n",
        "musician = get_full_name('jimi', 'hendrix')\n",
        "print(musician)"
      ],
      "execution_count": 0,
      "outputs": []
    },
    {
      "metadata": {
        "id": "IB478u3LC6Gx",
        "colab_type": "code",
        "colab": {}
      },
      "cell_type": "code",
      "source": [
        "#@title 파라메터 리턴 2\n",
        "def build_person(first, last):\n",
        "  \"\"\"Return a dictionary of information\n",
        "  about a person.\n",
        "  \"\"\"\n",
        "  person = {'first': first, 'last': last}\n",
        "  return person\n",
        "\n",
        "musician = build_person('jimi', 'hendrix')\n",
        "print(musician)"
      ],
      "execution_count": 0,
      "outputs": []
    },
    {
      "metadata": {
        "id": "dpWHPYXIDXuB",
        "colab_type": "code",
        "outputId": "3369ef84-c5b5-4785-fa90-c86532dc8933",
        "colab": {
          "base_uri": "https://localhost:8080/",
          "height": 71
        }
      },
      "cell_type": "code",
      "source": [
        "#@title 파라메터로 리스트 넘기기 1\n",
        "def greet_users(names):\n",
        "  \"\"\"Print a simple greeting to everyone.\"\"\"\n",
        "  for name in names:\n",
        "    msg = \"Hello, \" + name + \"!\"\n",
        "    print(msg)\n",
        "usernames = ['hannah', 'ty', 'margot']\n",
        "greet_users(usernames)"
      ],
      "execution_count": 0,
      "outputs": [
        {
          "output_type": "stream",
          "text": [
            "Hello, hannah!\n",
            "Hello, ty!\n",
            "Hello, margot!\n"
          ],
          "name": "stdout"
        }
      ]
    },
    {
      "metadata": {
        "id": "OEgQBj90DmZB",
        "colab_type": "code",
        "outputId": "7aeacd9d-b635-47c2-a68e-2b02edb8b2cc",
        "colab": {
          "base_uri": "https://localhost:8080/",
          "height": 125
        }
      },
      "cell_type": "code",
      "source": [
        "def print_models(unprinted, printed):\n",
        "  \"\"\"3d print a set of models.\"\"\"\n",
        "  while unprinted:\n",
        "    current_model = unprinted.pop()\n",
        "    print(\"Printing \" + current_model)\n",
        "    printed.append(current_model)\n",
        "\n",
        "unprinted = ['phone case', 'pendant', 'ring']\n",
        "printed = []\n",
        "print_models(unprinted, printed)\n",
        "print(\"\\nUnprinted:\", unprinted)\n",
        "print(\"Printed:\", printed)"
      ],
      "execution_count": 0,
      "outputs": [
        {
          "output_type": "stream",
          "text": [
            "Printing ring\n",
            "Printing pendant\n",
            "Printing phone case\n",
            "\n",
            "Unprinted: []\n",
            "Printed: ['ring', 'pendant', 'phone case']\n"
          ],
          "name": "stdout"
        }
      ]
    },
    {
      "metadata": {
        "id": "YJ7NqPrYD3Xo",
        "colab_type": "code",
        "colab": {}
      },
      "cell_type": "code",
      "source": [
        "original = ['phone case', 'pendant', 'ring']\n",
        "printed = []\n",
        "print_models(original[:], printed)\n",
        "print(\"\\nOriginal:\", original)\n",
        "print(\"Printed:\", printed)"
      ],
      "execution_count": 0,
      "outputs": []
    },
    {
      "metadata": {
        "id": "uawMMCAHEbsP",
        "colab_type": "code",
        "outputId": "54adf554-cef0-4630-d1c3-856585a16239",
        "colab": {
          "base_uri": "https://localhost:8080/",
          "height": 71
        }
      },
      "cell_type": "code",
      "source": [
        "def make_pizza(size, *toppings):\n",
        "  print(\"\\nMaking a \" + size + \" pizza.\")\n",
        "  print(\"Toppings:\")\n",
        "  for topping in toppings:\n",
        "    print(\"- \" + topping)\n",
        "\n",
        "make_pizza('small')\n",
        "make_pizza('small', 'pepperoni')\n",
        "make_pizza('large', 'bacon bits', 'pineapple')\n",
        "make_pizza('medium', 'mushrooms', 'peppers','onions', 'extra cheese')"
      ],
      "execution_count": 0,
      "outputs": [
        {
          "output_type": "stream",
          "text": [
            "\n",
            "Making a small pizza.\n",
            "Toppings: ()\n"
          ],
          "name": "stdout"
        }
      ]
    },
    {
      "metadata": {
        "id": "6sP9j25tEwko",
        "colab_type": "code",
        "outputId": "b76db3c4-da02-4dc5-d02d-a61ddd4f3a04",
        "colab": {
          "base_uri": "https://localhost:8080/",
          "height": 89
        }
      },
      "cell_type": "code",
      "source": [
        "def build_profile(first, last, **user_info):\n",
        "  print(type(user_info))\n",
        "  profile = {'first': first, 'last': last}\n",
        "  for key, value in user_info.items():\n",
        "    profile[key] = value\n",
        "  return profile\n",
        " \n",
        "user_0 = build_profile('albert', 'einstein',파티='princeton')\n",
        "user_1 = build_profile('marie', 'curie',location='paris', field='chemistry')\n",
        "print(user_0)\n",
        "print(user_1)"
      ],
      "execution_count": 0,
      "outputs": [
        {
          "output_type": "stream",
          "text": [
            "<class 'dict'>\n",
            "<class 'dict'>\n",
            "{'first': 'albert', 'last': 'einstein', '파티': 'princeton'}\n",
            "{'first': 'marie', 'last': 'curie', 'location': 'paris', 'field': 'chemistry'}\n"
          ],
          "name": "stdout"
        }
      ]
    },
    {
      "metadata": {
        "id": "M1SpnotCGBev",
        "colab_type": "code",
        "outputId": "bbdce0c5-cb48-4e8b-8a3b-d7f440e7cb5d",
        "colab": {
          "base_uri": "https://localhost:8080/",
          "height": 35
        }
      },
      "cell_type": "code",
      "source": [
        "%%writefile pizza.py\n",
        "\n",
        "def make_pizza(size, *toppings):\n",
        "  \"\"\"Make a pizza.\"\"\"\n",
        "  print(\"\\nMaking a \" + size + \" pizza.\")\n",
        "  print(\"Toppings:\")\n",
        " \n",
        "  for topping in toppings:\n",
        "    print(\"- \" + topping)\n",
        "    \n",
        " \n",
        "print(\"-----------\")"
      ],
      "execution_count": 0,
      "outputs": [
        {
          "output_type": "stream",
          "text": [
            "Overwriting pizza.py\n"
          ],
          "name": "stdout"
        }
      ]
    },
    {
      "metadata": {
        "id": "-g8i2dkrG7gO",
        "colab_type": "code",
        "outputId": "db99fd3c-5530-40f4-e56e-469a65aa4d22",
        "colab": {
          "base_uri": "https://localhost:8080/",
          "height": 35
        }
      },
      "cell_type": "code",
      "source": [
        "import pizza\n",
        "pizza.make_pizza('medium', 'pepperoni')\n",
        "pizza.make_pizza('small', 'bacon', 'pineapple')"
      ],
      "execution_count": 0,
      "outputs": [
        {
          "output_type": "stream",
          "text": [
            "-----------\n"
          ],
          "name": "stdout"
        }
      ]
    },
    {
      "metadata": {
        "id": "yLoVjRQFHI93",
        "colab_type": "code",
        "colab": {}
      },
      "cell_type": "code",
      "source": [
        "from pizza import make_pizza\n",
        "make_pizza('medium', 'pepperoni')\n",
        "make_pizza('small', 'bacon', 'pineapple')"
      ],
      "execution_count": 0,
      "outputs": []
    },
    {
      "metadata": {
        "id": "kgeQ6t_0HQQ2",
        "colab_type": "code",
        "colab": {}
      },
      "cell_type": "code",
      "source": [
        "import pizza as p\n",
        "p.make_pizza('medium', 'pepperoni')\n",
        "p.make_pizza('small', 'bacon', 'pineapple')\n",
        "\n",
        "from pizza import make_pizza as mp\n",
        "mp('medium', 'pepperoni')\n",
        "mp('small', 'bacon', 'pineapple')"
      ],
      "execution_count": 0,
      "outputs": []
    },
    {
      "metadata": {
        "id": "g0xOk6L-HYZQ",
        "colab_type": "code",
        "colab": {}
      },
      "cell_type": "code",
      "source": [
        "from pizza import *\n",
        "#make_pizza('medium', 'pepperoni')\n",
        "#make_pizza('small', 'bacon', 'pineapple')"
      ],
      "execution_count": 0,
      "outputs": []
    },
    {
      "metadata": {
        "id": "dNA6KbbBHdHt",
        "colab_type": "code",
        "colab": {}
      },
      "cell_type": "code",
      "source": [
        "%run pizza.py"
      ],
      "execution_count": 0,
      "outputs": []
    },
    {
      "metadata": {
        "id": "JxZ4I6VPKqtc",
        "colab_type": "code",
        "colab": {}
      },
      "cell_type": "code",
      "source": [
        "from functools import partial\n",
        "\n",
        "def power(base, exponent):\n",
        "    return base ** exponent\n",
        "\n",
        "\n",
        "square = partial(power, exponent=2)\n",
        "cube = partial(power, exponent=3)\n",
        "\n",
        "\n"
      ],
      "execution_count": 0,
      "outputs": []
    },
    {
      "metadata": {
        "id": "YULlDMYSMZDz",
        "colab_type": "code",
        "colab": {}
      },
      "cell_type": "code",
      "source": [
        "#https://ko.wikipedia.org/wiki/%ED%94%BC%EB%B3%B4%EB%82%98%EC%B9%98_%EC%88%98\n",
        "def fibonacci(n):\n",
        "  pass"
      ],
      "execution_count": 0,
      "outputs": []
    }
  ]
}