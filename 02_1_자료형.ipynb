{
  "nbformat": 4,
  "nbformat_minor": 0,
  "metadata": {
    "colab": {
      "name": "02-1 자료형",
      "version": "0.3.2",
      "provenance": [],
      "include_colab_link": true
    },
    "kernelspec": {
      "name": "python3",
      "display_name": "Python 3"
    }
  },
  "cells": [
    {
      "cell_type": "markdown",
      "metadata": {
        "id": "view-in-github",
        "colab_type": "text"
      },
      "source": [
        "<a href=\"https://colab.research.google.com/github/rca32/pythoncs_2019/blob/master/02_1_%EC%9E%90%EB%A3%8C%ED%98%95.ipynb\" target=\"_parent\"><img src=\"https://colab.research.google.com/assets/colab-badge.svg\" alt=\"Open In Colab\"/></a>"
      ]
    },
    {
      "metadata": {
        "id": "K1PNad90-6Jc",
        "colab_type": "text"
      },
      "cell_type": "markdown",
      "source": [
        "# 02-1 숫자형"
      ]
    },
    {
      "metadata": {
        "id": "qITGnpH5-_Is",
        "colab_type": "text"
      },
      "cell_type": "markdown",
      "source": [
        "https://wikidocs.net/12"
      ]
    },
    {
      "metadata": {
        "id": "jF2UrnagHpzu",
        "colab_type": "text"
      },
      "cell_type": "markdown",
      "source": [
        "부동 소수점의 문제\n",
        "https://dojang.io/mod/page/view.php?id=1164"
      ]
    },
    {
      "metadata": {
        "id": "YTU4A2iXGZcH",
        "colab_type": "code",
        "colab": {}
      },
      "cell_type": "code",
      "source": [
        "0.1 + 0.2"
      ],
      "execution_count": 0,
      "outputs": []
    },
    {
      "metadata": {
        "id": "lVMvaEj-NE7i",
        "colab_type": "text"
      },
      "cell_type": "markdown",
      "source": [
        "파이썬 3.5이상부터는 두 실수가 같은지 판단할 때 math.isclose 함수를 사용하면 됩니다."
      ]
    },
    {
      "metadata": {
        "id": "mdTp2B-CQN82",
        "colab_type": "text"
      },
      "cell_type": "markdown",
      "source": [
        ""
      ]
    },
    {
      "metadata": {
        "id": "mvzeeQSgMIkC",
        "colab_type": "code",
        "colab": {}
      },
      "cell_type": "code",
      "source": [
        "import math\n",
        "math.isclose(0.1 + 0.2, 0.3)"
      ],
      "execution_count": 0,
      "outputs": []
    },
    {
      "metadata": {
        "id": "ktf1BkZaNLLx",
        "colab_type": "code",
        "colab": {}
      },
      "cell_type": "code",
      "source": [
        "from decimal import Decimal\n",
        "Decimal('1.1') + Decimal('0.2')\n"
      ],
      "execution_count": 0,
      "outputs": []
    },
    {
      "metadata": {
        "id": "59wXLg1ENoQx",
        "colab_type": "code",
        "colab": {}
      },
      "cell_type": "code",
      "source": [
        "from fractions import Fraction\n",
        "Fraction('0.1256')"
      ],
      "execution_count": 0,
      "outputs": []
    },
    {
      "metadata": {
        "id": "OPArOykoQc8_",
        "colab_type": "text"
      },
      "cell_type": "markdown",
      "source": [
        "[문제1] 점수의 평균\n",
        "\n",
        "홍길동씨의 과목별 점수는 각각 다음과 같다.\n",
        "\n",
        "과목\t|점수\n",
        "--|--\n",
        "국어|\t80\n",
        "영어|\t75\n",
        "수학|\t55\n",
        "\n",
        "홍길동씨의 평균점수를 구하시오."
      ]
    },
    {
      "metadata": {
        "id": "msXlaUFiUCgs",
        "colab_type": "code",
        "colab": {}
      },
      "cell_type": "code",
      "source": [
        ""
      ],
      "execution_count": 0,
      "outputs": []
    },
    {
      "metadata": {
        "id": "N83Z-6yyQ61_",
        "colab_type": "text"
      },
      "cell_type": "markdown",
      "source": [
        "[문제2] 자연수의 홀짝\n",
        "\n",
        "주어진 자연수가 홀수인지 짝수인지 판별할 수 있는 방법에 대해서 말해보자."
      ]
    },
    {
      "metadata": {
        "id": "-zuUekWrUzND",
        "colab_type": "text"
      },
      "cell_type": "markdown",
      "source": [
        "## 심화\n",
        "[비트 연산자 사용하기 ](https://dojang.io/mod/page/view.php?id=1160)\n",
        "\n",
        "[파이선의 유리수 표현 ](https://m.blog.naver.com/PostView.nhn?blogId=dudwo567890&logNo=130165177493&proxyReferer=https%3A%2F%2Fwww.google.com%2F)\n",
        "\n"
      ]
    },
    {
      "metadata": {
        "id": "TeDZVh-6T4rk",
        "colab_type": "text"
      },
      "cell_type": "markdown",
      "source": [
        "# 02-2 문자열 자료형2\n",
        "\n",
        "https://wikidocs.net/13"
      ]
    }
  ]
}