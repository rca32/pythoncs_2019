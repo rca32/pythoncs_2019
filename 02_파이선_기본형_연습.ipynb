{
  "nbformat": 4,
  "nbformat_minor": 0,
  "metadata": {
    "colab": {
      "name": "02_파이선_기본형_연습",
      "version": "0.3.2",
      "provenance": []
    },
    "kernelspec": {
      "display_name": "Python 3",
      "language": "python",
      "name": "python3"
    }
  },
  "cells": [
    {
      "metadata": {
        "id": "t_k85ym27zTz",
        "colab_type": "text"
      },
      "cell_type": "markdown",
      "source": [
        "## 숫자 연습\n",
        "\n",
        "연산자|설명|예제\n",
        "--|--|--\n",
        "+\t|더하기|\ta + b = 30\n",
        "-\t|빼기 |\ta - b = -10\n",
        "*|\t곱하기\t|a * b = 200\n",
        "/\t|나누기\t|b / a = 2.0\n",
        "%\t|나머지|\tb % a = 0\n",
        "**\t|제곱\t|a ** c = 1000\n",
        "//\t|몫|\ta // c = 3"
      ]
    },
    {
      "metadata": {
        "id": "Q4Vtxp7P7zT3",
        "colab_type": "code",
        "outputId": "078e093b-2195-4142-d0ff-8196d2a1ada3",
        "colab": {}
      },
      "cell_type": "code",
      "source": [
        "2 + 2 + 1"
      ],
      "execution_count": 0,
      "outputs": [
        {
          "output_type": "execute_result",
          "data": {
            "text/plain": [
              "5"
            ]
          },
          "metadata": {
            "tags": []
          },
          "execution_count": 1
        }
      ]
    },
    {
      "metadata": {
        "id": "fRPAD5v87zT9",
        "colab_type": "code",
        "outputId": "8b42cd07-cb79-4088-a1c3-231e0af08084",
        "colab": {}
      },
      "cell_type": "code",
      "source": [
        "50 - 5 * 6 + 8"
      ],
      "execution_count": 0,
      "outputs": [
        {
          "output_type": "execute_result",
          "data": {
            "text/plain": [
              "28"
            ]
          },
          "metadata": {
            "tags": []
          },
          "execution_count": 2
        }
      ]
    },
    {
      "metadata": {
        "id": "94HwapvZ7zUB",
        "colab_type": "code",
        "outputId": "983c694a-ec42-4076-a5df-6cee3eef537c",
        "colab": {}
      },
      "cell_type": "code",
      "source": [
        "(50 - 5 * 6) / 4"
      ],
      "execution_count": 0,
      "outputs": [
        {
          "output_type": "execute_result",
          "data": {
            "text/plain": [
              "5.0"
            ]
          },
          "metadata": {
            "tags": []
          },
          "execution_count": 3
        }
      ]
    },
    {
      "metadata": {
        "id": "4KgStGMc7zUE",
        "colab_type": "code",
        "outputId": "ec88a221-87e7-47f6-ce22-7408f6d0dde0",
        "colab": {}
      },
      "cell_type": "code",
      "source": [
        "8 / 5  ## 실제 결과 타입?"
      ],
      "execution_count": 0,
      "outputs": [
        {
          "output_type": "execute_result",
          "data": {
            "text/plain": [
              "1.6"
            ]
          },
          "metadata": {
            "tags": []
          },
          "execution_count": 4
        }
      ]
    },
    {
      "metadata": {
        "id": "zpQyjwoK7zUI",
        "colab_type": "code",
        "outputId": "18acc3ba-805b-4931-b2b8-9517a75e03a7",
        "colab": {
          "base_uri": "https://localhost:8080/",
          "height": 35
        }
      },
      "cell_type": "code",
      "source": [
        "8 // 5 "
      ],
      "execution_count": 4,
      "outputs": [
        {
          "output_type": "execute_result",
          "data": {
            "text/plain": [
              "1"
            ]
          },
          "metadata": {
            "tags": []
          },
          "execution_count": 4
        }
      ]
    },
    {
      "metadata": {
        "id": "cSbJVITU7zUM",
        "colab_type": "code",
        "outputId": "7b8c686c-193a-4d75-9bbc-097a3f1bfb64",
        "colab": {
          "base_uri": "https://localhost:8080/",
          "height": 35
        }
      },
      "cell_type": "code",
      "source": [
        "8 % 5  "
      ],
      "execution_count": 5,
      "outputs": [
        {
          "output_type": "execute_result",
          "data": {
            "text/plain": [
              "3"
            ]
          },
          "metadata": {
            "tags": []
          },
          "execution_count": 5
        }
      ]
    },
    {
      "metadata": {
        "id": "FlNnY0Lv7zUP",
        "colab_type": "code",
        "outputId": "5667d56e-8dba-47b1-c10b-da7d5e3e1fbc",
        "colab": {}
      },
      "cell_type": "code",
      "source": [
        "5 ** 2 "
      ],
      "execution_count": 0,
      "outputs": [
        {
          "output_type": "execute_result",
          "data": {
            "text/plain": [
              "25"
            ]
          },
          "metadata": {
            "tags": []
          },
          "execution_count": 7
        }
      ]
    },
    {
      "metadata": {
        "id": "C9FiBRGn7zUU",
        "colab_type": "text"
      },
      "cell_type": "markdown",
      "source": [
        "### 변수 선언\n",
        "\n",
        "* 예약어 (Reserved Words):\n",
        "* 예약어는 모두 30개이다.\n",
        "* 예약어는 상수 또는 변수 나 다른 식별자의 이름으로 사용 할 수 없다.\n",
        "* 예약어는 모두 소문자이다.\n",
        "\n",
        "\n",
        "Keyword\t|Keyword|\tKeyword\n",
        "--|--|--\n",
        "and\t|exec|\tnot\n",
        "assert|\tfinally|\tor\n",
        "break\t|for|\tpass\n",
        "class\t|from|\tprint\n",
        "continue|\tglobal|\traise\n",
        "def\t|if|\treturn\n",
        "del|\timport|\ttry\n",
        "elif|\tin|\twhile\n",
        "else\t|is|\twith\n",
        "except\t|lambda\t|yield\n"
      ]
    },
    {
      "metadata": {
        "id": "ICwpynbb7zUU",
        "colab_type": "code",
        "outputId": "4642e997-b778-497a-ce6b-4b0a4811ce79",
        "colab": {}
      },
      "cell_type": "code",
      "source": [
        "x = 20\n",
        "y = 5 * 9\n",
        "x * y"
      ],
      "execution_count": 0,
      "outputs": [
        {
          "output_type": "execute_result",
          "data": {
            "text/plain": [
              "900"
            ]
          },
          "metadata": {
            "tags": []
          },
          "execution_count": 8
        }
      ]
    },
    {
      "metadata": {
        "id": "fCN6AbrO7zUX",
        "colab_type": "code",
        "outputId": "c763bb12-9cf8-4ca0-8ac1-5e6661f3ba1d",
        "colab": {}
      },
      "cell_type": "code",
      "source": [
        "a = 12.5 / 100\n",
        "b = 100.50\n",
        "a * b"
      ],
      "execution_count": 0,
      "outputs": [
        {
          "output_type": "execute_result",
          "data": {
            "text/plain": [
              "12.5625"
            ]
          },
          "metadata": {
            "tags": []
          },
          "execution_count": 9
        }
      ]
    },
    {
      "metadata": {
        "id": "4b4YdPS3Dc8g",
        "colab_type": "text"
      },
      "cell_type": "markdown",
      "source": [
        ""
      ]
    },
    {
      "metadata": {
        "id": "rSdl66SP7zUb",
        "colab_type": "text"
      },
      "cell_type": "markdown",
      "source": [
        "**밑줄 문자 _는 이전 계산의 결과를 나타내는 데 사용됩니다. \n",
        "두 문자 __는 마지막에서 두 번째 결과를 나타냅니다. \n",
        "세 문자 _는 마지막 결과의 세 번째를 나타냅니다. **\n",
        "\n",
        "---\n",
        "\n"
      ]
    },
    {
      "metadata": {
        "id": "kKq9U_TW7zUc",
        "colab_type": "code",
        "outputId": "ebe2663a-b9f6-4f95-d9fc-30548722ea16",
        "colab": {
          "base_uri": "https://localhost:8080/",
          "height": 35
        }
      },
      "cell_type": "code",
      "source": [
        "1.1"
      ],
      "execution_count": 6,
      "outputs": [
        {
          "output_type": "execute_result",
          "data": {
            "text/plain": [
              "1.1"
            ]
          },
          "metadata": {
            "tags": []
          },
          "execution_count": 6
        }
      ]
    },
    {
      "metadata": {
        "id": "Hh0iEiEU7zUg",
        "colab_type": "code",
        "outputId": "ce918d73-0cd5-466e-e126-37901c0d80f6",
        "colab": {
          "base_uri": "https://localhost:8080/",
          "height": 35
        }
      },
      "cell_type": "code",
      "source": [
        "1.1 + _"
      ],
      "execution_count": 13,
      "outputs": [
        {
          "output_type": "execute_result",
          "data": {
            "text/plain": [
              "4.4"
            ]
          },
          "metadata": {
            "tags": []
          },
          "execution_count": 13
        }
      ]
    },
    {
      "metadata": {
        "id": "vIC1HJ7f7zUj",
        "colab_type": "code",
        "outputId": "c5e1c518-6127-4b65-b6a0-7fe0a4028c83",
        "colab": {}
      },
      "cell_type": "code",
      "source": [
        "1.1 + _"
      ],
      "execution_count": 0,
      "outputs": [
        {
          "output_type": "execute_result",
          "data": {
            "text/plain": [
              "3.3000000000000003"
            ]
          },
          "metadata": {
            "tags": []
          },
          "execution_count": 12
        }
      ]
    },
    {
      "metadata": {
        "id": "SdTjRdYu7zUo",
        "colab_type": "code",
        "outputId": "f26142c9-849b-4876-9279-e9b245301cc5",
        "colab": {
          "base_uri": "https://localhost:8080/",
          "height": 35
        }
      },
      "cell_type": "code",
      "source": [
        "round(_, 2)"
      ],
      "execution_count": 16,
      "outputs": [
        {
          "output_type": "execute_result",
          "data": {
            "text/plain": [
              "4.4"
            ]
          },
          "metadata": {
            "tags": []
          },
          "execution_count": 16
        }
      ]
    },
    {
      "metadata": {
        "id": "D_BV5kHp_lCz",
        "colab_type": "text"
      },
      "cell_type": "markdown",
      "source": [
        "**In [1]은 첫 번째 셀의 내용을 가져오고, [2]는 두 번째 셀의 내용을 얻는 등의 작업을 할 수 있습니다. 같은 방법으로 Out [1], Out [2] 등의 결과를 얻을 수 있습니다.**"
      ]
    },
    {
      "metadata": {
        "id": "LAvImu8n7zUs",
        "colab_type": "code",
        "outputId": "7736ad26-c2f1-4ce0-d029-a4c51f6c56ec",
        "colab": {
          "base_uri": "https://localhost:8080/",
          "height": 35
        }
      },
      "cell_type": "code",
      "source": [
        "Out[4]"
      ],
      "execution_count": 25,
      "outputs": [
        {
          "output_type": "execute_result",
          "data": {
            "text/plain": [
              "1"
            ]
          },
          "metadata": {
            "tags": []
          },
          "execution_count": 25
        }
      ]
    },
    {
      "metadata": {
        "id": "fe-LJPKB7zUw",
        "colab_type": "code",
        "outputId": "898c8771-680a-4c58-d45e-74bdc2749e87",
        "colab": {}
      },
      "cell_type": "code",
      "source": [
        "In[13]"
      ],
      "execution_count": 0,
      "outputs": [
        {
          "output_type": "execute_result",
          "data": {
            "text/plain": [
              "'round(_, 2)'"
            ]
          },
          "metadata": {
            "tags": []
          },
          "execution_count": 15
        }
      ]
    },
    {
      "metadata": {
        "id": "nZE9wppf7zVT",
        "colab_type": "text"
      },
      "cell_type": "markdown",
      "source": [
        "## 문자열 연습"
      ]
    },
    {
      "metadata": {
        "id": "DJelL45I7zVV",
        "colab_type": "code",
        "outputId": "87d47938-fe68-4cb1-a2a5-31df2d41c5b8",
        "colab": {
          "base_uri": "https://localhost:8080/",
          "height": 35
        }
      },
      "cell_type": "code",
      "source": [
        "'연합인포맥스'  "
      ],
      "execution_count": 26,
      "outputs": [
        {
          "output_type": "execute_result",
          "data": {
            "text/plain": [
              "'연합인포맥스'"
            ]
          },
          "metadata": {
            "tags": []
          },
          "execution_count": 26
        }
      ]
    },
    {
      "metadata": {
        "id": "phcICAlV7zVY",
        "colab_type": "code",
        "outputId": "2914ce34-e9a6-41f8-f25d-cc4e66d449f7",
        "colab": {
          "base_uri": "https://localhost:8080/",
          "height": 35
        }
      },
      "cell_type": "code",
      "source": [
        "\"연합인포맥스\"   "
      ],
      "execution_count": 27,
      "outputs": [
        {
          "output_type": "execute_result",
          "data": {
            "text/plain": [
              "'연합인포맥스'"
            ]
          },
          "metadata": {
            "tags": []
          },
          "execution_count": 27
        }
      ]
    },
    {
      "metadata": {
        "id": "VFclg5MA7zVb",
        "colab_type": "code",
        "outputId": "a736bb85-37e5-42cd-bc7f-d17faaac2b57",
        "colab": {
          "base_uri": "https://localhost:8080/",
          "height": 35
        }
      },
      "cell_type": "code",
      "source": [
        "'--\"--'  "
      ],
      "execution_count": 28,
      "outputs": [
        {
          "output_type": "execute_result",
          "data": {
            "text/plain": [
              "'--\"--'"
            ]
          },
          "metadata": {
            "tags": []
          },
          "execution_count": 28
        }
      ]
    },
    {
      "metadata": {
        "id": "DJchd4mj7zVd",
        "colab_type": "code",
        "outputId": "3db6caf0-1093-4fb9-9815-11ddc1d36f0f",
        "colab": {}
      },
      "cell_type": "code",
      "source": [
        "\"--'--\""
      ],
      "execution_count": 0,
      "outputs": [
        {
          "output_type": "execute_result",
          "data": {
            "text/plain": [
              "\"--'--\""
            ]
          },
          "metadata": {
            "tags": []
          },
          "execution_count": 27
        }
      ]
    },
    {
      "metadata": {
        "id": "iXhUubP87zVf",
        "colab_type": "code",
        "outputId": "21dde678-04cf-41fa-e432-40f527d91147",
        "colab": {
          "base_uri": "https://localhost:8080/",
          "height": 35
        }
      },
      "cell_type": "code",
      "source": [
        "\n",
        "'--\\'--'  "
      ],
      "execution_count": 29,
      "outputs": [
        {
          "output_type": "execute_result",
          "data": {
            "text/plain": [
              "\"^'--\""
            ]
          },
          "metadata": {
            "tags": []
          },
          "execution_count": 29
        }
      ]
    },
    {
      "metadata": {
        "id": "UEoYlSRQ7zVi",
        "colab_type": "code",
        "outputId": "d14025db-abbc-493c-f658-47a3c74883c6",
        "colab": {}
      },
      "cell_type": "code",
      "source": [
        "\"--\\\"--\""
      ],
      "execution_count": 0,
      "outputs": [
        {
          "output_type": "execute_result",
          "data": {
            "text/plain": [
              "'--\"--'"
            ]
          },
          "metadata": {
            "tags": []
          },
          "execution_count": 29
        }
      ]
    },
    {
      "metadata": {
        "id": "maUlxGaX7zVk",
        "colab_type": "text"
      },
      "cell_type": "markdown",
      "source": [
        "El caracter de escape `\\n` indica retorno-de-carro o nueva-linea."
      ]
    },
    {
      "metadata": {
        "id": "gc7BNmha7zVl",
        "colab_type": "code",
        "outputId": "04ffedda-30a7-47f6-e20d-c718b4294cf7",
        "colab": {
          "base_uri": "https://localhost:8080/",
          "height": 35
        }
      },
      "cell_type": "code",
      "source": [
        "s = '연합\\n인포맥스'  \n",
        "s"
      ],
      "execution_count": 40,
      "outputs": [
        {
          "output_type": "execute_result",
          "data": {
            "text/plain": [
              "'연합\\n인포맥스'"
            ]
          },
          "metadata": {
            "tags": []
          },
          "execution_count": 40
        }
      ]
    },
    {
      "metadata": {
        "id": "GW5pQpeU7zVo",
        "colab_type": "code",
        "outputId": "21cf432c-04ce-4820-fa86-b8dbd715351c",
        "colab": {
          "base_uri": "https://localhost:8080/",
          "height": 35
        }
      },
      "cell_type": "code",
      "source": [
        "print(s)  "
      ],
      "execution_count": 39,
      "outputs": [
        {
          "output_type": "stream",
          "text": [
            "연합\\n인포맥스\n"
          ],
          "name": "stdout"
        }
      ]
    },
    {
      "metadata": {
        "id": "4ll6NAmR7zVq",
        "colab_type": "code",
        "outputId": "2720d462-e06f-4ea2-f9f6-4c856fb7ef6f",
        "colab": {
          "base_uri": "https://localhost:8080/",
          "height": 35
        }
      },
      "cell_type": "code",
      "source": [
        "print(r'<뉴욕증시> 미·중 무역협상 \\n낙관…다우 1.09% 상승 마감') "
      ],
      "execution_count": 42,
      "outputs": [
        {
          "output_type": "stream",
          "text": [
            "<뉴욕증시> 미·중 무역협상 \\n낙관…다우 1.09% 상승 마감\n"
          ],
          "name": "stdout"
        }
      ]
    },
    {
      "metadata": {
        "id": "tWtsgQPJ7zVu",
        "colab_type": "code",
        "outputId": "076cff2d-ef60-4698-9700-8ea119469588",
        "colab": {
          "base_uri": "https://localhost:8080/",
          "height": 55
        }
      },
      "cell_type": "code",
      "source": [
        "\"\"\"\n",
        "  8일(미국시간) 뉴욕증권거래소(NYSE)에서 다우존스 30 산업평균지수는 전장보다 256.10포인트(1.09%) 상승한 23,787.45에 거래를 마쳤다.\n",
        "\n",
        "스탠더드앤드푸어스(S&P) 500 지수는 전장보다 24.72포인트(0.97%)상승한 2,574.41에, 기술주 중심의 나스닥 지수는 73.53포인트(1.08%) 오른 6,897.00에 장을 마감했다.\n",
        "\n",
        "다우지수는 지난해 11월 이후 처음으로 3 거래일 연속 올랐다.\n",
        "\n",
        "출처 : 연합인포맥스(http://news.einfomax.co.kr)\n",
        "\"\"\""
      ],
      "execution_count": 43,
      "outputs": [
        {
          "output_type": "execute_result",
          "data": {
            "text/plain": [
              "'\\n  8일(미국시간) 뉴욕증권거래소(NYSE)에서 다우존스 30 산업평균지수는 전장보다 256.10포인트(1.09%) 상승한 23,787.45에 거래를 마쳤다.\\n\\n스탠더드앤드푸어스(S&P) 500 지수는 전장보다 24.72포인트(0.97%)상승한 2,574.41에, 기술주 중심의 나스닥 지수는 73.53포인트(1.08%) 오른 6,897.00에 장을 마감했다.\\n\\n다우지수는 지난해 11월 이후 처음으로 3 거래일 연속 올랐다.\\n\\n출처 : 연합인포맥스(http://news.einfomax.co.kr)\\n'"
            ]
          },
          "metadata": {
            "tags": []
          },
          "execution_count": 43
        }
      ]
    },
    {
      "metadata": {
        "id": "lx-NU-tH7zVw",
        "colab_type": "code",
        "outputId": "daf9453c-37ab-4623-e8af-e85229d7527a",
        "colab": {
          "base_uri": "https://localhost:8080/",
          "height": 179
        }
      },
      "cell_type": "code",
      "source": [
        "print(\"\"\" \n",
        "  8일(미국시간) 뉴욕증권거래소(NYSE)에서 다우존스 30 산업평균지수는 전장보다 256.10포인트(1.09%) 상승한 23,787.45에 거래를 마쳤다.\n",
        "\n",
        "스탠더드앤드푸어스(S&P) 500 지수는 전장보다 24.72포인트(0.97%)상승한 2,574.41에, 기술주 중심의 나스닥 지수는 73.53포인트(1.08%) 오른 6,897.00에 장을 마감했다.\n",
        "\n",
        "다우지수는 지난해 11월 이후 처음으로 3 거래일 연속 올랐다.\n",
        "\n",
        "출처 : 연합인포맥스(http://news.einfomax.co.kr)\n",
        "\"\"\")"
      ],
      "execution_count": 44,
      "outputs": [
        {
          "output_type": "stream",
          "text": [
            " \n",
            "  8일(미국시간) 뉴욕증권거래소(NYSE)에서 다우존스 30 산업평균지수는 전장보다 256.10포인트(1.09%) 상승한 23,787.45에 거래를 마쳤다.\n",
            "\n",
            "스탠더드앤드푸어스(S&P) 500 지수는 전장보다 24.72포인트(0.97%)상승한 2,574.41에, 기술주 중심의 나스닥 지수는 73.53포인트(1.08%) 오른 6,897.00에 장을 마감했다.\n",
            "\n",
            "다우지수는 지난해 11월 이후 처음으로 3 거래일 연속 올랐다.\n",
            "\n",
            "출처 : 연합인포맥스(http://news.einfomax.co.kr)\n",
            "\n"
          ],
          "name": "stdout"
        }
      ]
    },
    {
      "metadata": {
        "id": "pvA5a8WU7zVz",
        "colab_type": "code",
        "outputId": "abf7e80d-b382-401c-cde8-dd4ce5eb71eb",
        "colab": {}
      },
      "cell_type": "code",
      "source": [
        "\n",
        "3 * 'abc ' + '012'  "
      ],
      "execution_count": 0,
      "outputs": [
        {
          "output_type": "execute_result",
          "data": {
            "text/plain": [
              "'abc abc abc 012'"
            ]
          },
          "metadata": {
            "tags": []
          },
          "execution_count": 35
        }
      ]
    },
    {
      "metadata": {
        "id": "oi69O8kz7zV2",
        "colab_type": "code",
        "outputId": "f21a72bf-46e1-46e2-f81d-d8e7c565be4a",
        "colab": {}
      },
      "cell_type": "code",
      "source": [
        "'abc ' * 3 + '012'"
      ],
      "execution_count": 0,
      "outputs": [
        {
          "output_type": "execute_result",
          "data": {
            "text/plain": [
              "'abc abc abc 012'"
            ]
          },
          "metadata": {
            "tags": []
          },
          "execution_count": 36
        }
      ]
    },
    {
      "metadata": {
        "id": "Le6tR2PW7zV5",
        "colab_type": "code",
        "outputId": "e234d4e7-f77d-44ea-8d1f-36682b6dbaf5",
        "colab": {
          "base_uri": "https://localhost:8080/",
          "height": 35
        }
      },
      "cell_type": "code",
      "source": [
        "\"연합\" \"인포\"    \" 맥스\" "
      ],
      "execution_count": 46,
      "outputs": [
        {
          "output_type": "execute_result",
          "data": {
            "text/plain": [
              "'연합인포 맥스'"
            ]
          },
          "metadata": {
            "tags": []
          },
          "execution_count": 46
        }
      ]
    },
    {
      "metadata": {
        "id": "n0zdoPP27zV-",
        "colab_type": "code",
        "outputId": "1dcac0ed-19d5-4c53-f1dd-e9030813987d",
        "colab": {
          "base_uri": "https://localhost:8080/",
          "height": 35
        }
      },
      "cell_type": "code",
      "source": [
        " \n",
        "text = ('연합' \n",
        "        '인포' \n",
        "        '맥스')\n",
        "\n",
        "print(text)"
      ],
      "execution_count": 53,
      "outputs": [
        {
          "output_type": "stream",
          "text": [
            "연합인포맥스\n"
          ],
          "name": "stdout"
        }
      ]
    },
    {
      "metadata": {
        "id": "32kXuLIQ7zWB",
        "colab_type": "code",
        "outputId": "a7d3c4dc-9504-4776-ff70-fd0d51c252e4",
        "colab": {
          "base_uri": "https://localhost:8080/",
          "height": 35
        }
      },
      "cell_type": "code",
      "source": [
        " \n",
        "'연합-인포-맥스'.replace('-', '')"
      ],
      "execution_count": 54,
      "outputs": [
        {
          "output_type": "execute_result",
          "data": {
            "text/plain": [
              "'연합인포맥스'"
            ]
          },
          "metadata": {
            "tags": []
          },
          "execution_count": 54
        }
      ]
    },
    {
      "metadata": {
        "id": "eizRks_c7zWD",
        "colab_type": "code",
        "outputId": "098cbac2-7e3d-45ba-e817-85b03104766d",
        "colab": {
          "base_uri": "https://localhost:8080/",
          "height": 35
        }
      },
      "cell_type": "code",
      "source": [
        "'연합-인포-맥스'.replace('-', '=')"
      ],
      "execution_count": 55,
      "outputs": [
        {
          "output_type": "execute_result",
          "data": {
            "text/plain": [
              "'연합=인포=맥스'"
            ]
          },
          "metadata": {
            "tags": []
          },
          "execution_count": 55
        }
      ]
    },
    {
      "metadata": {
        "id": "MH5n0DN07zWG",
        "colab_type": "code",
        "outputId": "49c0e099-c4cd-40a4-9fac-2a5ad2546a09",
        "colab": {
          "base_uri": "https://localhost:8080/",
          "height": 35
        }
      },
      "cell_type": "code",
      "source": [
        "'abc'.upper()"
      ],
      "execution_count": 56,
      "outputs": [
        {
          "output_type": "execute_result",
          "data": {
            "text/plain": [
              "'ABC'"
            ]
          },
          "metadata": {
            "tags": []
          },
          "execution_count": 56
        }
      ]
    },
    {
      "metadata": {
        "id": "TyT6Adc17zWK",
        "colab_type": "code",
        "outputId": "b72fd046-890d-4059-ef91-8b64fe397934",
        "colab": {
          "base_uri": "https://localhost:8080/",
          "height": 35
        }
      },
      "cell_type": "code",
      "source": [
        "'ABC'.lower()"
      ],
      "execution_count": 57,
      "outputs": [
        {
          "output_type": "execute_result",
          "data": {
            "text/plain": [
              "'abc'"
            ]
          },
          "metadata": {
            "tags": []
          },
          "execution_count": 57
        }
      ]
    },
    {
      "metadata": {
        "id": "VHMNtLNV7zWM",
        "colab_type": "code",
        "outputId": "b1312ede-2db8-45b2-8fa8-85bd3eb167ce",
        "colab": {
          "base_uri": "https://localhost:8080/",
          "height": 35
        }
      },
      "cell_type": "code",
      "source": [
        "'hello world'.capitalize()"
      ],
      "execution_count": 58,
      "outputs": [
        {
          "output_type": "execute_result",
          "data": {
            "text/plain": [
              "'Hello world'"
            ]
          },
          "metadata": {
            "tags": []
          },
          "execution_count": 58
        }
      ]
    },
    {
      "metadata": {
        "id": "NSyN9m477zWO",
        "colab_type": "code",
        "outputId": "c1fd5cb7-cc77-4839-8889-882b2ffa016e",
        "colab": {
          "base_uri": "https://localhost:8080/",
          "height": 35
        }
      },
      "cell_type": "code",
      "source": [
        "'Hello world'.swapcase()"
      ],
      "execution_count": 60,
      "outputs": [
        {
          "output_type": "execute_result",
          "data": {
            "text/plain": [
              "'hELLO WORLD'"
            ]
          },
          "metadata": {
            "tags": []
          },
          "execution_count": 60
        }
      ]
    },
    {
      "metadata": {
        "id": "-cuXOIVG7zWQ",
        "colab_type": "code",
        "outputId": "0310032e-d19c-4ab0-843e-9e3abbe9ad4e",
        "colab": {
          "base_uri": "https://localhost:8080/",
          "height": 35
        }
      },
      "cell_type": "code",
      "source": [
        "'Hello world'.title()"
      ],
      "execution_count": 61,
      "outputs": [
        {
          "output_type": "execute_result",
          "data": {
            "text/plain": [
              "'Hello World'"
            ]
          },
          "metadata": {
            "tags": []
          },
          "execution_count": 61
        }
      ]
    },
    {
      "metadata": {
        "id": "kM494GRN7zWS",
        "colab_type": "code",
        "outputId": "d64d9e19-9834-4559-bf57-c86043e7010e",
        "colab": {
          "base_uri": "https://localhost:8080/",
          "height": 35
        }
      },
      "cell_type": "code",
      "source": [
        "'Hello world'.center(80, '-')"
      ],
      "execution_count": 64,
      "outputs": [
        {
          "output_type": "execute_result",
          "data": {
            "text/plain": [
              "'----------------------------------Hello world-----------------------------------'"
            ]
          },
          "metadata": {
            "tags": []
          },
          "execution_count": 64
        }
      ]
    },
    {
      "metadata": {
        "id": "BcaOFQoE7zWT",
        "colab_type": "code",
        "outputId": "e1b9285d-4a03-4b10-b7a7-445ea264e805",
        "colab": {
          "base_uri": "https://localhost:8080/",
          "height": 35
        }
      },
      "cell_type": "code",
      "source": [
        "'Hello world'.ljust(80, '-')"
      ],
      "execution_count": 66,
      "outputs": [
        {
          "output_type": "execute_result",
          "data": {
            "text/plain": [
              "'Hello world---------------------------------------------------------------------'"
            ]
          },
          "metadata": {
            "tags": []
          },
          "execution_count": 66
        }
      ]
    },
    {
      "metadata": {
        "id": "UQV5fu1X7zWV",
        "colab_type": "code",
        "outputId": "8766ee6f-273f-42d1-f903-1f77871765db",
        "colab": {
          "base_uri": "https://localhost:8080/",
          "height": 35
        }
      },
      "cell_type": "code",
      "source": [
        "'Hello world'.rjust(80, '-')"
      ],
      "execution_count": 68,
      "outputs": [
        {
          "output_type": "execute_result",
          "data": {
            "text/plain": [
              "'---------------------------------------------------------------------Hello world'"
            ]
          },
          "metadata": {
            "tags": []
          },
          "execution_count": 68
        }
      ]
    },
    {
      "metadata": {
        "id": "1qV1Qb937zWY",
        "colab_type": "code",
        "outputId": "8bc30646-eeb1-40cf-d3e4-6cd89439c779",
        "colab": {
          "base_uri": "https://localhost:8080/",
          "height": 35
        }
      },
      "cell_type": "code",
      "source": [
        "\"\"\"오진우 연합인포맥스 특파원 = 뉴욕증시에서 주요지수는 미국과 중국의 무역 협상 기대가 지속하면서 상승했다.\n",
        "\n",
        "8일(미국시간) 뉴욕증권거래소(NYSE)에서 다우존스 30 산업평균지수는 전장보다 256.10포인트(1.09%) 상승한 23,787.45에 거래를 마쳤다.\n",
        "\n",
        "스탠더드앤드푸어스(S&P) 500 지수는 전장보다 24.72포인트(0.97%)상승한 2,574.41에, 기술주 중심의 나스닥 지수는 73.53포인트(1.08%) 오른 6,897.00에 장을 마감했다.\n",
        "\n",
        "다우지수는 지난해 11월 이후 처음으로 3 거래일 연속 올랐다.\n",
        "\n",
        "시장은 미·중 무역협상 전개 상황에 촉각을 곤두세웠다. 경기 둔화 우려 속 미국 경제 지표와 미국 정부의 부분폐쇄(셧다운)도 주요 관심사다.\n",
        "\n",
        "월스트리트저널은 베이징에서 회담을 진행 중인 미국과 중국의 협상단이 무역 관련 이견을 줄였다고 소식통을 인용해 보도했다.\n",
        "\n",
        "저널은 양측 협상단이 특히 중국의 미국산 상품과 서비스 구매와 시장개방 문제 등과 관련해 의견 차이를 줄였다고 전했다.\n",
        "\n",
        "저널은 다만 양측이 협상을 타결하기까지는 아직 갈 길이 남았다고덧붙였다.\n",
        "\n",
        "출처 : 연합인포맥스(http://news.einfomax.co.kr)\"\"\".count('저널')"
      ],
      "execution_count": 71,
      "outputs": [
        {
          "output_type": "execute_result",
          "data": {
            "text/plain": [
              "3"
            ]
          },
          "metadata": {
            "tags": []
          },
          "execution_count": 71
        }
      ]
    },
    {
      "metadata": {
        "id": "xdr235fk7zWa",
        "colab_type": "code",
        "outputId": "33bc9d43-0377-4976-ccb5-155601274179",
        "colab": {
          "base_uri": "https://localhost:8080/",
          "height": 35
        }
      },
      "cell_type": "code",
      "source": [
        "\"\"\"오진우 연합인포맥스 특파원 = 뉴욕증시에서 주요지수는 미국과 중국의 무역 협상 기대가 지속하면서 상승했다.\n",
        "\n",
        "8일(미국시간) 뉴욕증권거래소(NYSE)에서 다우존스 30 산업평균지수는 전장보다 256.10포인트(1.09%) 상승한 23,787.45에 거래를 마쳤다.\n",
        "\n",
        "스탠더드앤드푸어스(S&P) 500 지수는 전장보다 24.72포인트(0.97%)상승한 2,574.41에, 기술주 중심의 나스닥 지수는 73.53포인트(1.08%) 오른 6,897.00에 장을 마감했다.\n",
        "\n",
        "다우지수는 지난해 11월 이후 처음으로 3 거래일 연속 올랐다.\n",
        "\n",
        "시장은 미·중 무역협상 전개 상황에 촉각을 곤두세웠다. 경기 둔화 우려 속 미국 경제 지표와 미국 정부의 부분폐쇄(셧다운)도 주요 관심사다.\n",
        "\n",
        "월스트리트저널은 베이징에서 회담을 진행 중인 미국과 중국의 협상단이 무역 관련 이견을 줄였다고 소식통을 인용해 보도했다.\n",
        "\n",
        "저널은 양측 협상단이 특히 중국의 미국산 상품과 서비스 구매와 시장개방 문제 등과 관련해 의견 차이를 줄였다고 전했다.\n",
        "\n",
        "저널은 다만 양측이 협상을 타결하기까지는 아직 갈 길이 남았다고덧붙였다.\n",
        "\n",
        "출처 : 연합인포맥스(http://news.einfomax.co.kr)\"\"\".find('저널') "
      ],
      "execution_count": 72,
      "outputs": [
        {
          "output_type": "execute_result",
          "data": {
            "text/plain": [
              "384"
            ]
          },
          "metadata": {
            "tags": []
          },
          "execution_count": 72
        }
      ]
    },
    {
      "metadata": {
        "id": "yJSrw7yY7zWd",
        "colab_type": "code",
        "outputId": "71b4a9f0-f446-49a0-db99-c69462ed6ff6",
        "colab": {
          "base_uri": "https://localhost:8080/",
          "height": 35
        }
      },
      "cell_type": "code",
      "source": [
        "'abc123'.isalnum() "
      ],
      "execution_count": 79,
      "outputs": [
        {
          "output_type": "execute_result",
          "data": {
            "text/plain": [
              "True"
            ]
          },
          "metadata": {
            "tags": []
          },
          "execution_count": 79
        }
      ]
    },
    {
      "metadata": {
        "id": "mwdHp9iA7zWg",
        "colab_type": "code",
        "outputId": "c5b59536-c0ce-4423-97c2-1e8ab71305d0",
        "colab": {}
      },
      "cell_type": "code",
      "source": [
        "'()#@'.isalnum() "
      ],
      "execution_count": 0,
      "outputs": [
        {
          "output_type": "execute_result",
          "data": {
            "text/plain": [
              "False"
            ]
          },
          "metadata": {
            "tags": []
          },
          "execution_count": 52
        }
      ]
    },
    {
      "metadata": {
        "id": "r4QawaC27zWk",
        "colab_type": "code",
        "outputId": "c68ef94f-ad5f-4821-98cb-6d8017c1db23",
        "colab": {
          "base_uri": "https://localhost:8080/",
          "height": 35
        }
      },
      "cell_type": "code",
      "source": [
        "'abc'.isalpha()  "
      ],
      "execution_count": 80,
      "outputs": [
        {
          "output_type": "execute_result",
          "data": {
            "text/plain": [
              "True"
            ]
          },
          "metadata": {
            "tags": []
          },
          "execution_count": 80
        }
      ]
    },
    {
      "metadata": {
        "id": "p0fk_3b87zWl",
        "colab_type": "code",
        "outputId": "402450d8-1419-440d-be70-20f86cd207ab",
        "colab": {}
      },
      "cell_type": "code",
      "source": [
        "'1234'.isdigit()"
      ],
      "execution_count": 0,
      "outputs": [
        {
          "output_type": "execute_result",
          "data": {
            "text/plain": [
              "True"
            ]
          },
          "metadata": {
            "tags": []
          },
          "execution_count": 54
        }
      ]
    },
    {
      "metadata": {
        "id": "3TWMb2Dn7zWn",
        "colab_type": "code",
        "outputId": "c7f81695-dffa-4ebd-d8ce-5c938a05954e",
        "colab": {}
      },
      "cell_type": "code",
      "source": [
        "'1.234'.isdigit()"
      ],
      "execution_count": 0,
      "outputs": [
        {
          "output_type": "execute_result",
          "data": {
            "text/plain": [
              "False"
            ]
          },
          "metadata": {
            "tags": []
          },
          "execution_count": 55
        }
      ]
    },
    {
      "metadata": {
        "id": "4IhQEmGn7zWr",
        "colab_type": "code",
        "outputId": "11b54d07-99ec-411e-d00f-c8eaa999f39a",
        "colab": {
          "base_uri": "https://localhost:8080/",
          "height": 35
        }
      },
      "cell_type": "code",
      "source": [
        "?'1.234'.isnumeric()"
      ],
      "execution_count": 85,
      "outputs": [
        {
          "output_type": "stream",
          "text": [
            "Object `` not found.\n"
          ],
          "name": "stdout"
        }
      ]
    },
    {
      "metadata": {
        "id": "Z_RXPjoU7zWs",
        "colab_type": "code",
        "outputId": "51ecfa1b-86cd-4ca8-a704-7bc6f220768e",
        "colab": {
          "base_uri": "https://localhost:8080/",
          "height": 35
        }
      },
      "cell_type": "code",
      "source": [
        "'1,2,3,4,5'.partition(',')"
      ],
      "execution_count": 88,
      "outputs": [
        {
          "output_type": "execute_result",
          "data": {
            "text/plain": [
              "('1', ',', '2,3,4,5')"
            ]
          },
          "metadata": {
            "tags": []
          },
          "execution_count": 88
        }
      ]
    },
    {
      "metadata": {
        "id": "2UiPsK6n7zWt",
        "colab_type": "code",
        "outputId": "197d0ae7-03fa-4841-f5bf-5bd5967844b3",
        "colab": {
          "base_uri": "https://localhost:8080/",
          "height": 35
        }
      },
      "cell_type": "code",
      "source": [
        "'1,2,3,4,5'.rsplit(',')"
      ],
      "execution_count": 113,
      "outputs": [
        {
          "output_type": "execute_result",
          "data": {
            "text/plain": [
              "['1', '2', '3', '4', '5']"
            ]
          },
          "metadata": {
            "tags": []
          },
          "execution_count": 113
        }
      ]
    },
    {
      "metadata": {
        "id": "3p8uA8Z77zWw",
        "colab_type": "code",
        "outputId": "cfe3c262-4082-4117-cbb8-a891aa9abd4b",
        "colab": {
          "base_uri": "https://localhost:8080/",
          "height": 35
        }
      },
      "cell_type": "code",
      "source": [
        "'hola\\nmundo\\ncruel'.splitlines()"
      ],
      "execution_count": 108,
      "outputs": [
        {
          "output_type": "execute_result",
          "data": {
            "text/plain": [
              "['hola', 'mundo', 'cruel']"
            ]
          },
          "metadata": {
            "tags": []
          },
          "execution_count": 108
        }
      ]
    },
    {
      "metadata": {
        "id": "q10K-qgS7zWx",
        "colab_type": "code",
        "colab": {}
      },
      "cell_type": "code",
      "source": [
        "x = 'foo'\n",
        "y = 'bar'\n",
        "xy = x + y              \n",
        "x += 'ooo'             \n",
        "x = ''.join([x, 'ooo'])"
      ],
      "execution_count": 0,
      "outputs": []
    },
    {
      "metadata": {
        "id": "AxaIwszh7zW0",
        "colab_type": "text"
      },
      "cell_type": "markdown",
      "source": [
        " \n",
        "     +---+---+---+---+---+---+\n",
        "     | P | y | t | h | o | n |\n",
        "     +---+---+---+---+---+---+\n",
        "       0   1   2   3   4   5   \n",
        "      -6  -5  -4  -3  -2  -1"
      ]
    },
    {
      "metadata": {
        "id": "sOjfcrgP7zW1",
        "colab_type": "code",
        "outputId": "a07a4ea5-74bd-4ee5-bf6c-5429c3b4bd90",
        "colab": {
          "base_uri": "https://localhost:8080/",
          "height": 35
        },
        "cellView": "both"
      },
      "cell_type": "code",
      "source": [
        "\n",
        "word = 'Python'\n",
        "word[0]    "
      ],
      "execution_count": 115,
      "outputs": [
        {
          "output_type": "execute_result",
          "data": {
            "text/plain": [
              "'P'"
            ]
          },
          "metadata": {
            "tags": []
          },
          "execution_count": 115
        }
      ]
    },
    {
      "metadata": {
        "id": "XSLsAwvv7zW5",
        "colab_type": "code",
        "outputId": "d48d2f0e-83cb-4e28-d269-9d782f562af7",
        "colab": {}
      },
      "cell_type": "code",
      "source": [
        "word[5]    "
      ],
      "execution_count": 0,
      "outputs": [
        {
          "output_type": "execute_result",
          "data": {
            "text/plain": [
              "'n'"
            ]
          },
          "metadata": {
            "tags": []
          },
          "execution_count": 62
        }
      ]
    },
    {
      "metadata": {
        "id": "E7w8xTlX7zW8",
        "colab_type": "code",
        "outputId": "54313eb1-f905-4912-ea09-6786a98f0bb5",
        "colab": {}
      },
      "cell_type": "code",
      "source": [
        "word[-1]   "
      ],
      "execution_count": 0,
      "outputs": [
        {
          "output_type": "execute_result",
          "data": {
            "text/plain": [
              "'n'"
            ]
          },
          "metadata": {
            "tags": []
          },
          "execution_count": 63
        }
      ]
    },
    {
      "metadata": {
        "id": "IwWY_cOq7zW-",
        "colab_type": "code",
        "outputId": "3c592f75-eb17-4783-effd-7eb28f484b9b",
        "colab": {}
      },
      "cell_type": "code",
      "source": [
        "word[-2]    "
      ],
      "execution_count": 0,
      "outputs": [
        {
          "output_type": "execute_result",
          "data": {
            "text/plain": [
              "'o'"
            ]
          },
          "metadata": {
            "tags": []
          },
          "execution_count": 64
        }
      ]
    },
    {
      "metadata": {
        "id": "c5GIDBbf7zXA",
        "colab_type": "code",
        "outputId": "8e8cf996-adb8-41c4-a4bb-ec67639322c0",
        "colab": {}
      },
      "cell_type": "code",
      "source": [
        "word[-6]  "
      ],
      "execution_count": 0,
      "outputs": [
        {
          "output_type": "execute_result",
          "data": {
            "text/plain": [
              "'P'"
            ]
          },
          "metadata": {
            "tags": []
          },
          "execution_count": 65
        }
      ]
    },
    {
      "metadata": {
        "id": "e15gmCm77zXC",
        "colab_type": "code",
        "outputId": "ceb20155-8317-4c51-db17-965fc99c612b",
        "colab": {}
      },
      "cell_type": "code",
      "source": [
        "word[0:2]  "
      ],
      "execution_count": 0,
      "outputs": [
        {
          "output_type": "execute_result",
          "data": {
            "text/plain": [
              "'Py'"
            ]
          },
          "metadata": {
            "tags": []
          },
          "execution_count": 66
        }
      ]
    },
    {
      "metadata": {
        "id": "72o5lUtq7zXG",
        "colab_type": "code",
        "outputId": "41bfa40e-b2d0-4ed7-e761-a85128bae5c4",
        "colab": {}
      },
      "cell_type": "code",
      "source": [
        "word[:2]   "
      ],
      "execution_count": 0,
      "outputs": [
        {
          "output_type": "execute_result",
          "data": {
            "text/plain": [
              "'Py'"
            ]
          },
          "metadata": {
            "tags": []
          },
          "execution_count": 67
        }
      ]
    },
    {
      "metadata": {
        "id": "34FllIRA7zXI",
        "colab_type": "code",
        "outputId": "84034277-2f5a-4201-ab70-1749ee0a516c",
        "colab": {}
      },
      "cell_type": "code",
      "source": [
        "word[2:5]"
      ],
      "execution_count": 0,
      "outputs": [
        {
          "output_type": "execute_result",
          "data": {
            "text/plain": [
              "'tho'"
            ]
          },
          "metadata": {
            "tags": []
          },
          "execution_count": 68
        }
      ]
    },
    {
      "metadata": {
        "id": "E7nkYMSQ7zXL",
        "colab_type": "code",
        "outputId": "c8845ddf-0885-49b6-abc3-d72ca342e395",
        "colab": {}
      },
      "cell_type": "code",
      "source": [
        "word[2:]   "
      ],
      "execution_count": 0,
      "outputs": [
        {
          "output_type": "execute_result",
          "data": {
            "text/plain": [
              "'thon'"
            ]
          },
          "metadata": {
            "tags": []
          },
          "execution_count": 69
        }
      ]
    },
    {
      "metadata": {
        "id": "ZQ4nkCnj7zXM",
        "colab_type": "code",
        "outputId": "bb9dd27d-4b3b-4f11-a3d9-c858d467a74e",
        "colab": {}
      },
      "cell_type": "code",
      "source": [
        "word[:2] + word[2:]  "
      ],
      "execution_count": 0,
      "outputs": [
        {
          "output_type": "execute_result",
          "data": {
            "text/plain": [
              "'Python'"
            ]
          },
          "metadata": {
            "tags": []
          },
          "execution_count": 70
        }
      ]
    },
    {
      "metadata": {
        "id": "KXt9UcrN7zXO",
        "colab_type": "code",
        "outputId": "d4a24da4-94b9-44cf-ba52-45acdcdb7cc4",
        "colab": {}
      },
      "cell_type": "code",
      "source": [
        "word[:4] + word[4:]"
      ],
      "execution_count": 0,
      "outputs": [
        {
          "output_type": "execute_result",
          "data": {
            "text/plain": [
              "'Python'"
            ]
          },
          "metadata": {
            "tags": []
          },
          "execution_count": 71
        }
      ]
    },
    {
      "metadata": {
        "id": "EKwzj9337zXP",
        "colab_type": "code",
        "outputId": "2bfca765-44e9-44e4-cd7f-7ce3cc620853",
        "colab": {}
      },
      "cell_type": "code",
      "source": [
        "word[-2:]   "
      ],
      "execution_count": 0,
      "outputs": [
        {
          "output_type": "execute_result",
          "data": {
            "text/plain": [
              "'on'"
            ]
          },
          "metadata": {
            "tags": []
          },
          "execution_count": 72
        }
      ]
    },
    {
      "metadata": {
        "id": "1VJ3Hjsv7zXQ",
        "colab_type": "code",
        "outputId": "527f5d6c-186e-4968-f5b7-c9412c80447c",
        "colab": {}
      },
      "cell_type": "code",
      "source": [
        "word[:]    "
      ],
      "execution_count": 0,
      "outputs": [
        {
          "output_type": "execute_result",
          "data": {
            "text/plain": [
              "'Python'"
            ]
          },
          "metadata": {
            "tags": []
          },
          "execution_count": 73
        }
      ]
    },
    {
      "metadata": {
        "id": "-SfXx7KN7zXS",
        "colab_type": "code",
        "outputId": "4ffaf6df-a7dd-4eca-b0f1-35d84d8fbeb4",
        "colab": {}
      },
      "cell_type": "code",
      "source": [
        "s = 'abcde'   \n",
        "len(s)"
      ],
      "execution_count": 0,
      "outputs": [
        {
          "output_type": "execute_result",
          "data": {
            "text/plain": [
              "5"
            ]
          },
          "metadata": {
            "tags": []
          },
          "execution_count": 74
        }
      ]
    },
    {
      "metadata": {
        "id": "1GlwL5UM7zVS",
        "colab_type": "text"
      },
      "cell_type": "markdown",
      "source": [
        "# 숙제 \n",
        "다음 수식을 계산 하시요\n",
        "```\n",
        "import math\n",
        "```\n",
        "\n",
        "$$\\frac{5-(1 -(3 - \\exp(\\frac{1}{8}))}{3(4-2)(2-\\frac{3}{8})} - 2!(-1)^3 + \\sin (0.98\\pi) $$"
      ]
    },
    {
      "metadata": {
        "id": "RIew_Px-7zU1",
        "colab_type": "text"
      },
      "cell_type": "markdown",
      "source": [
        "## 사용자 정의 함수"
      ]
    },
    {
      "metadata": {
        "id": "mY-8-qfV7zU2",
        "colab_type": "text"
      },
      "cell_type": "markdown",
      "source": [
        "함수는 예약어 def에 의해 정의됩니다. 다음 함수는 인수의 제곱을 반환합니다."
      ]
    },
    {
      "metadata": {
        "id": "XUHStyMV7zU2",
        "colab_type": "code",
        "colab": {}
      },
      "cell_type": "code",
      "source": [
        "def square(x):   # :\n",
        "    return x**2  # 들여 쓰기 "
      ],
      "execution_count": 0,
      "outputs": []
    },
    {
      "metadata": {
        "id": "OZV1S3gd7zU5",
        "colab_type": "code",
        "outputId": "b58ee6ac-d0bb-4f0c-de35-ebe0648db6e2",
        "colab": {}
      },
      "cell_type": "code",
      "source": [
        "square(2)"
      ],
      "execution_count": 0,
      "outputs": [
        {
          "output_type": "execute_result",
          "data": {
            "text/plain": [
              "4"
            ]
          },
          "metadata": {
            "tags": []
          },
          "execution_count": 17
        }
      ]
    },
    {
      "metadata": {
        "id": "s4qljyFV7zU8",
        "colab_type": "code",
        "outputId": "79a41b78-37dd-44d8-b5a7-8d5c3acd2234",
        "colab": {}
      },
      "cell_type": "code",
      "source": [
        "square(1+2)"
      ],
      "execution_count": 0,
      "outputs": [
        {
          "output_type": "execute_result",
          "data": {
            "text/plain": [
              "9"
            ]
          },
          "metadata": {
            "tags": []
          },
          "execution_count": 18
        }
      ]
    },
    {
      "metadata": {
        "id": "u5Qteve87zU_",
        "colab_type": "code",
        "outputId": "cdc3a191-0c78-4824-8e35-0ad8a5e4c947",
        "colab": {}
      },
      "cell_type": "code",
      "source": [
        "square(square(2))"
      ],
      "execution_count": 0,
      "outputs": [
        {
          "output_type": "execute_result",
          "data": {
            "text/plain": [
              "16"
            ]
          },
          "metadata": {
            "tags": []
          },
          "execution_count": 19
        }
      ]
    },
    {
      "metadata": {
        "id": "tVj1h9qI7zVE",
        "colab_type": "code",
        "outputId": "c689da2c-25b9-4f10-d5db-212abb3a793a",
        "colab": {}
      },
      "cell_type": "code",
      "source": [
        "square(1) + square(2)"
      ],
      "execution_count": 0,
      "outputs": [
        {
          "output_type": "execute_result",
          "data": {
            "text/plain": [
              "5"
            ]
          },
          "metadata": {
            "tags": []
          },
          "execution_count": 20
        }
      ]
    },
    {
      "metadata": {
        "id": "jiYNM4wP7zVI",
        "colab_type": "code",
        "colab": {}
      },
      "cell_type": "code",
      "source": [
        "def sum_of_squares(x, y):          \n",
        "    return square(x) + square(y)  "
      ],
      "execution_count": 0,
      "outputs": []
    },
    {
      "metadata": {
        "id": "X3hcvZAD7zVL",
        "colab_type": "code",
        "outputId": "fb0645a2-d9fa-4d7b-fcb8-b8abb7396691",
        "colab": {}
      },
      "cell_type": "code",
      "source": [
        "sum_of_squares(1, 2)"
      ],
      "execution_count": 0,
      "outputs": [
        {
          "output_type": "execute_result",
          "data": {
            "text/plain": [
              "5"
            ]
          },
          "metadata": {
            "tags": []
          },
          "execution_count": 22
        }
      ]
    },
    {
      "metadata": {
        "id": "i2VhXvej7zXT",
        "colab_type": "text"
      },
      "cell_type": "markdown",
      "source": [
        "## 리스트 "
      ]
    },
    {
      "metadata": {
        "id": "efHQ_kD07zXU",
        "colab_type": "code",
        "outputId": "91326fb0-d910-4fe7-cc8e-9882b9c909cc",
        "colab": {}
      },
      "cell_type": "code",
      "source": [
        "squares = [1, 4, 9, 16, 25]   \n",
        "squares"
      ],
      "execution_count": 0,
      "outputs": [
        {
          "output_type": "execute_result",
          "data": {
            "text/plain": [
              "[1, 4, 9, 16, 25]"
            ]
          },
          "metadata": {
            "tags": []
          },
          "execution_count": 75
        }
      ]
    },
    {
      "metadata": {
        "id": "yn_6eHl57zXV",
        "colab_type": "code",
        "outputId": "fa8efd98-4d1e-4642-bb74-c899409fcbfb",
        "colab": {}
      },
      "cell_type": "code",
      "source": [
        "squares[0]   "
      ],
      "execution_count": 0,
      "outputs": [
        {
          "output_type": "execute_result",
          "data": {
            "text/plain": [
              "1"
            ]
          },
          "metadata": {
            "tags": []
          },
          "execution_count": 76
        }
      ]
    },
    {
      "metadata": {
        "id": "UHz42A9m7zXW",
        "colab_type": "code",
        "outputId": "945fc2d6-d7d0-457a-dba5-8e6e6a959472",
        "colab": {}
      },
      "cell_type": "code",
      "source": [
        "squares[-1]  "
      ],
      "execution_count": 0,
      "outputs": [
        {
          "output_type": "execute_result",
          "data": {
            "text/plain": [
              "25"
            ]
          },
          "metadata": {
            "tags": []
          },
          "execution_count": 77
        }
      ]
    },
    {
      "metadata": {
        "id": "TErGGt997zXX",
        "colab_type": "code",
        "outputId": "c03a90f3-3de7-4ad2-bc69-18fd3fc3556d",
        "colab": {}
      },
      "cell_type": "code",
      "source": [
        "squares[-3:]   "
      ],
      "execution_count": 0,
      "outputs": [
        {
          "output_type": "execute_result",
          "data": {
            "text/plain": [
              "[9, 16, 25]"
            ]
          },
          "metadata": {
            "tags": []
          },
          "execution_count": 78
        }
      ]
    },
    {
      "metadata": {
        "id": "VIlRmuiX7zXY",
        "colab_type": "code",
        "outputId": "a360bd39-a0a9-4c25-be66-12a65095db27",
        "colab": {}
      },
      "cell_type": "code",
      "source": [
        "squares[:]  "
      ],
      "execution_count": 0,
      "outputs": [
        {
          "output_type": "execute_result",
          "data": {
            "text/plain": [
              "[1, 4, 9, 16, 25]"
            ]
          },
          "metadata": {
            "tags": []
          },
          "execution_count": 79
        }
      ]
    },
    {
      "metadata": {
        "id": "GADMmd9I7zXZ",
        "colab_type": "code",
        "outputId": "c8016e66-75d3-493e-b0f4-855c0f5c685a",
        "colab": {}
      },
      "cell_type": "code",
      "source": [
        "squares + [36, 49, 64, 81, 100]  "
      ],
      "execution_count": 0,
      "outputs": [
        {
          "output_type": "execute_result",
          "data": {
            "text/plain": [
              "[1, 4, 9, 16, 25, 36, 49, 64, 81, 100]"
            ]
          },
          "metadata": {
            "tags": []
          },
          "execution_count": 80
        }
      ]
    },
    {
      "metadata": {
        "id": "Z1KwT6bX7zXc",
        "colab_type": "code",
        "outputId": "bd222672-ae06-4884-9938-93fb120df498",
        "colab": {
          "base_uri": "https://localhost:8080/",
          "height": 35
        }
      },
      "cell_type": "code",
      "source": [
        "cubes = [1, 8, 27, 65, 125]   \n",
        "4 ** 3   "
      ],
      "execution_count": 119,
      "outputs": [
        {
          "output_type": "execute_result",
          "data": {
            "text/plain": [
              "64"
            ]
          },
          "metadata": {
            "tags": []
          },
          "execution_count": 119
        }
      ]
    },
    {
      "metadata": {
        "id": "9JsL1LjP7zXe",
        "colab_type": "code",
        "outputId": "ed7f87f6-9f04-4a83-bfd0-cbe477f67b60",
        "colab": {
          "base_uri": "https://localhost:8080/",
          "height": 35
        }
      },
      "cell_type": "code",
      "source": [
        "cubes[3] = 64   \n",
        "cubes"
      ],
      "execution_count": 120,
      "outputs": [
        {
          "output_type": "execute_result",
          "data": {
            "text/plain": [
              "[1, 8, 27, 64, 125]"
            ]
          },
          "metadata": {
            "tags": []
          },
          "execution_count": 120
        }
      ]
    },
    {
      "metadata": {
        "id": "0vcvLUFb7zXg",
        "colab_type": "code",
        "outputId": "7898621e-c19b-4a1c-cf82-3ea92f73c72a",
        "colab": {}
      },
      "cell_type": "code",
      "source": [
        "cubes.append(216)     \n",
        "cubes.append(7 ** 3)  \n",
        "cubes"
      ],
      "execution_count": 0,
      "outputs": [
        {
          "output_type": "execute_result",
          "data": {
            "text/plain": [
              "[1, 8, 27, 64, 125, 216, 343]"
            ]
          },
          "metadata": {
            "tags": []
          },
          "execution_count": 83
        }
      ]
    },
    {
      "metadata": {
        "id": "fs7n3CQ17zXi",
        "colab_type": "code",
        "outputId": "b29fbde7-2219-40ed-af4b-aafe32666fd2",
        "colab": {}
      },
      "cell_type": "code",
      "source": [
        "letters = ['a', 'b', 'c', 'd', 'e', 'f', 'g'] \n",
        "letters"
      ],
      "execution_count": 0,
      "outputs": [
        {
          "output_type": "execute_result",
          "data": {
            "text/plain": [
              "['a', 'b', 'c', 'd', 'e', 'f', 'g']"
            ]
          },
          "metadata": {
            "tags": []
          },
          "execution_count": 84
        }
      ]
    },
    {
      "metadata": {
        "id": "YIsO0NVY7zXk",
        "colab_type": "code",
        "outputId": "20fd6282-fb72-4636-8379-e94056b2a9f6",
        "colab": {}
      },
      "cell_type": "code",
      "source": [
        "letters[2:5] = ['C', 'D', 'E']  \n",
        "letters"
      ],
      "execution_count": 0,
      "outputs": [
        {
          "output_type": "execute_result",
          "data": {
            "text/plain": [
              "['a', 'b', 'C', 'D', 'E', 'f', 'g']"
            ]
          },
          "metadata": {
            "tags": []
          },
          "execution_count": 85
        }
      ]
    },
    {
      "metadata": {
        "id": "EycbS0Cw7zXk",
        "colab_type": "code",
        "outputId": "3a112f8f-f3b0-4d32-935d-4c2759488df4",
        "colab": {}
      },
      "cell_type": "code",
      "source": [
        "letters[2:5] = []   \n",
        "letters"
      ],
      "execution_count": 0,
      "outputs": [
        {
          "output_type": "execute_result",
          "data": {
            "text/plain": [
              "['a', 'b', 'f', 'g']"
            ]
          },
          "metadata": {
            "tags": []
          },
          "execution_count": 86
        }
      ]
    },
    {
      "metadata": {
        "id": "YTAH2HIE7zXl",
        "colab_type": "code",
        "outputId": "d1ccac93-aa2c-43f1-bda8-98d860a036e0",
        "colab": {
          "base_uri": "https://localhost:8080/",
          "height": 35
        }
      },
      "cell_type": "code",
      "source": [
        "letters = ['a', 'b', 'c', 'd', 'e', 'f', 'g'] \n",
        "letters"
      ],
      "execution_count": 135,
      "outputs": [
        {
          "output_type": "execute_result",
          "data": {
            "text/plain": [
              "['a', 'b', 'c', 'd', 'e', 'f', 'g']"
            ]
          },
          "metadata": {
            "tags": []
          },
          "execution_count": 135
        }
      ]
    },
    {
      "metadata": {
        "id": "QE8FuvQk7zXn",
        "colab_type": "code",
        "outputId": "d5062b22-d766-4726-a127-53f703c92a1b",
        "colab": {
          "base_uri": "https://localhost:8080/",
          "height": 35
        }
      },
      "cell_type": "code",
      "source": [
        "letters[0:7:2]  "
      ],
      "execution_count": 136,
      "outputs": [
        {
          "output_type": "execute_result",
          "data": {
            "text/plain": [
              "['a', 'd', 'g']"
            ]
          },
          "metadata": {
            "tags": []
          },
          "execution_count": 136
        }
      ]
    },
    {
      "metadata": {
        "id": "X5Co0LYd7zXp",
        "colab_type": "code",
        "outputId": "40a99216-9772-4de1-b71c-5ace09b6aba0",
        "colab": {
          "base_uri": "https://localhost:8080/",
          "height": 35
        }
      },
      "cell_type": "code",
      "source": [
        "letters[0:7:2] = ['A', 'C', 'E', 'G']\n",
        "letters"
      ],
      "execution_count": 137,
      "outputs": [
        {
          "output_type": "execute_result",
          "data": {
            "text/plain": [
              "['A', 'b', 'c', 'C', 'e', 'f', 'E']"
            ]
          },
          "metadata": {
            "tags": []
          },
          "execution_count": 137
        }
      ]
    },
    {
      "metadata": {
        "id": "FJdCBmUi7zXq",
        "colab_type": "code",
        "outputId": "758c4a3f-cb40-4596-ecf3-31114414be6d",
        "colab": {}
      },
      "cell_type": "code",
      "source": [
        "letters[:] = []  \n",
        "letters"
      ],
      "execution_count": 0,
      "outputs": [
        {
          "output_type": "execute_result",
          "data": {
            "text/plain": [
              "[]"
            ]
          },
          "metadata": {
            "tags": []
          },
          "execution_count": 90
        }
      ]
    },
    {
      "metadata": {
        "id": "rxvhqbtO7zXs",
        "colab_type": "code",
        "outputId": "ef5a9fb2-cf6d-4a2b-ec42-1430cd248890",
        "colab": {}
      },
      "cell_type": "code",
      "source": [
        "letters = ['a', 'b', 'c', 'd']  \n",
        "len(letters)"
      ],
      "execution_count": 0,
      "outputs": [
        {
          "output_type": "execute_result",
          "data": {
            "text/plain": [
              "4"
            ]
          },
          "metadata": {
            "tags": []
          },
          "execution_count": 91
        }
      ]
    },
    {
      "metadata": {
        "id": "WDNY4PHm7zXu",
        "colab_type": "code",
        "outputId": "b0dd0c74-cbf4-4144-ac97-7810a916f28a",
        "colab": {}
      },
      "cell_type": "code",
      "source": [
        "a = ['a', 'b', 'c']  .\n",
        "n = [1, 2, 3]\n",
        "x = [a, n]         \n",
        "x"
      ],
      "execution_count": 0,
      "outputs": [
        {
          "output_type": "execute_result",
          "data": {
            "text/plain": [
              "[['a', 'b', 'c'], [1, 2, 3]]"
            ]
          },
          "metadata": {
            "tags": []
          },
          "execution_count": 92
        }
      ]
    },
    {
      "metadata": {
        "id": "AzxM6ttn7zXw",
        "colab_type": "code",
        "outputId": "6ee82e70-0b41-4e40-9f06-b9b424595cc3",
        "colab": {}
      },
      "cell_type": "code",
      "source": [
        "x[0]  "
      ],
      "execution_count": 0,
      "outputs": [
        {
          "output_type": "execute_result",
          "data": {
            "text/plain": [
              "['a', 'b', 'c']"
            ]
          },
          "metadata": {
            "tags": []
          },
          "execution_count": 93
        }
      ]
    },
    {
      "metadata": {
        "id": "K6-yl9-N7zXy",
        "colab_type": "code",
        "outputId": "c1a816bb-3602-4521-f513-7ced2f570555",
        "colab": {}
      },
      "cell_type": "code",
      "source": [
        "x[0][1]   "
      ],
      "execution_count": 0,
      "outputs": [
        {
          "output_type": "execute_result",
          "data": {
            "text/plain": [
              "'b'"
            ]
          },
          "metadata": {
            "tags": []
          },
          "execution_count": 94
        }
      ]
    },
    {
      "metadata": {
        "id": "LLORhFVU7zX0",
        "colab_type": "code",
        "outputId": "c593c600-37bb-4b67-bf10-34780afd93b8",
        "colab": {}
      },
      "cell_type": "code",
      "source": [
        "x[1]   "
      ],
      "execution_count": 0,
      "outputs": [
        {
          "output_type": "execute_result",
          "data": {
            "text/plain": [
              "[1, 2, 3]"
            ]
          },
          "metadata": {
            "tags": []
          },
          "execution_count": 95
        }
      ]
    },
    {
      "metadata": {
        "id": "qikVS0gq7zX3",
        "colab_type": "code",
        "outputId": "2dbb92ff-a2fd-42cf-efd4-1e6569a1988c",
        "colab": {}
      },
      "cell_type": "code",
      "source": [
        "x[1][2]  "
      ],
      "execution_count": 0,
      "outputs": [
        {
          "output_type": "execute_result",
          "data": {
            "text/plain": [
              "3"
            ]
          },
          "metadata": {
            "tags": []
          },
          "execution_count": 96
        }
      ]
    },
    {
      "metadata": {
        "id": "3Hrlbkqm7zX5",
        "colab_type": "text"
      },
      "cell_type": "markdown",
      "source": [
        "---"
      ]
    }
  ]
}