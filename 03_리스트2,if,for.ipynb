{
  "nbformat": 4,
  "nbformat_minor": 0,
  "metadata": {
    "colab": {
      "name": "03 리스트2,if,for.ipynb",
      "version": "0.3.2",
      "provenance": [],
      "include_colab_link": true
    },
    "kernelspec": {
      "name": "python3",
      "display_name": "Python 3"
    }
  },
  "cells": [
    {
      "cell_type": "markdown",
      "metadata": {
        "id": "view-in-github",
        "colab_type": "text"
      },
      "source": [
        "<a href=\"https://colab.research.google.com/github/rca32/pythoncs_2019/blob/master/03_%EB%A6%AC%EC%8A%A4%ED%8A%B82%2Cif%2Cfor.ipynb\" target=\"_parent\"><img src=\"https://colab.research.google.com/assets/colab-badge.svg\" alt=\"Open In Colab\"/></a>"
      ]
    },
    {
      "metadata": {
        "id": "xf_cc9bI642J",
        "colab_type": "text"
      },
      "cell_type": "markdown",
      "source": [
        "## list 관련 합수"
      ]
    },
    {
      "metadata": {
        "id": "hBxAMt2mwMXR",
        "colab_type": "text"
      },
      "cell_type": "markdown",
      "source": [
        "- list.append(x) \n",
        "- list.extend(L) \n",
        "- list.insert(i,x) \n",
        "- list.remove(x)  \n",
        "- list.pop([j]) - \n",
        "- list.clear()  \n",
        "- list.index(x)  \n",
        "- list.count(x)  \n",
        "- list.sort(key=None,reverse=False)  \n",
        "- list.copy() "
      ]
    },
    {
      "metadata": {
        "id": "h6fJHJyYJRpr",
        "colab_type": "code",
        "outputId": "03f1dc75-efda-479f-f0fa-7e1493ffb6d7",
        "colab": {
          "base_uri": "https://localhost:8080/",
          "height": 35
        }
      },
      "cell_type": "code",
      "source": [
        "motorcycles = [] \n",
        "motorcycles.append('honda') \n",
        "motorcycles.append('yamaha') \n",
        "motorcycles.append('suzuki') \n",
        "print(motorcycles)"
      ],
      "execution_count": 0,
      "outputs": [
        {
          "output_type": "stream",
          "text": [
            "['honda', 'yamaha', 'suzuki']\n"
          ],
          "name": "stdout"
        }
      ]
    },
    {
      "metadata": {
        "id": "K6xg9UzhwsOA",
        "colab_type": "code",
        "colab": {}
      },
      "cell_type": "code",
      "source": [
        "\n",
        "b = [7, 8, 9]\n",
        "motorcycles.extend(b)"
      ],
      "execution_count": 0,
      "outputs": []
    },
    {
      "metadata": {
        "id": "HI2qrk8QJf8-",
        "colab_type": "code",
        "colab": {}
      },
      "cell_type": "code",
      "source": [
        "motorcycles.insert(0, 'ducati') \n",
        "print(motorcycles)\n"
      ],
      "execution_count": 0,
      "outputs": []
    },
    {
      "metadata": {
        "id": "ltv0tt5kKLrV",
        "colab_type": "code",
        "outputId": "4330d407-76c0-4a6e-f12f-a2745b36e70f",
        "colab": {
          "base_uri": "https://localhost:8080/",
          "height": 35
        }
      },
      "cell_type": "code",
      "source": [
        "del motorcycles[0]\n",
        "print(motorcycles)\n"
      ],
      "execution_count": 0,
      "outputs": [
        {
          "output_type": "stream",
          "text": [
            "['yamaha', 'suzuki', 7, 8, 9]\n"
          ],
          "name": "stdout"
        }
      ]
    },
    {
      "metadata": {
        "id": "DZdK5sTRK9BJ",
        "colab_type": "code",
        "outputId": "65ba89e4-2f01-4f67-a54b-b9dcb9cf03f2",
        "colab": {
          "base_uri": "https://localhost:8080/",
          "height": 52
        }
      },
      "cell_type": "code",
      "source": [
        "popped_motorcycle = motorcycles.pop(0) \n",
        "print(motorcycles) \n",
        "print(popped_motorcycle)\n"
      ],
      "execution_count": 0,
      "outputs": [
        {
          "output_type": "stream",
          "text": [
            "['yamaha', 'suzuki']\n",
            "honda\n"
          ],
          "name": "stdout"
        }
      ]
    },
    {
      "metadata": {
        "id": "q1aNoIZZMUwX",
        "colab_type": "code",
        "colab": {}
      },
      "cell_type": "code",
      "source": [
        "motorcycles.remove(\"honda\") \n",
        "print(motorcycles)"
      ],
      "execution_count": 0,
      "outputs": []
    },
    {
      "metadata": {
        "id": "KTx4i_drNbla",
        "colab_type": "code",
        "outputId": "a2960b6b-f175-4f06-bbcd-adde73a96427",
        "colab": {
          "base_uri": "https://localhost:8080/",
          "height": 34
        }
      },
      "cell_type": "code",
      "source": [
        "month = ['1991', '1984', '19995', '1995']\n",
        "month.sort()\n",
        "print(month)"
      ],
      "execution_count": 0,
      "outputs": [
        {
          "output_type": "stream",
          "text": [
            "['1984', '1991', '1995', '19995']\n"
          ],
          "name": "stdout"
        }
      ]
    },
    {
      "metadata": {
        "id": "_qZaUyrzzsJH",
        "colab_type": "text"
      },
      "cell_type": "markdown",
      "source": [
        "##For  구문"
      ]
    },
    {
      "metadata": {
        "id": "GCjv4hvJOLLm",
        "colab_type": "code",
        "colab": {}
      },
      "cell_type": "code",
      "source": [
        "for i in month:\n",
        "  print(f\"{i}\".rjust(40,\"-\"))\n",
        "\n",
        "print(\"-\".rjust(40,\"-\"))\n",
        "  "
      ],
      "execution_count": 0,
      "outputs": []
    },
    {
      "metadata": {
        "id": "oqZUwCyez-vH",
        "colab_type": "code",
        "colab": {}
      },
      "cell_type": "code",
      "source": [
        "words = ['cat', 'window', 'door', 'abcdefg']\n",
        "for w in words:\n",
        "    print(w, len(w))"
      ],
      "execution_count": 0,
      "outputs": []
    },
    {
      "metadata": {
        "id": "1eX9aEPGVm3j",
        "colab_type": "code",
        "colab": {}
      },
      "cell_type": "code",
      "source": [
        "for i in range(5):\n",
        "    print(i)"
      ],
      "execution_count": 0,
      "outputs": []
    },
    {
      "metadata": {
        "id": "KOj2Me2q0f6V",
        "colab_type": "code",
        "colab": {}
      },
      "cell_type": "code",
      "source": [
        "range(5)"
      ],
      "execution_count": 0,
      "outputs": []
    },
    {
      "metadata": {
        "id": "_iUBS7EZ0id5",
        "colab_type": "code",
        "colab": {}
      },
      "cell_type": "code",
      "source": [
        "list(range(5)) "
      ],
      "execution_count": 0,
      "outputs": []
    },
    {
      "metadata": {
        "id": "_3hOIgCl0n8f",
        "colab_type": "code",
        "colab": {}
      },
      "cell_type": "code",
      "source": [
        "for i in range(0, 10, 3):\n",
        "    print(i, end = ', ')"
      ],
      "execution_count": 0,
      "outputs": []
    },
    {
      "metadata": {
        "id": "1oDNpXXo0udm",
        "colab_type": "code",
        "colab": {}
      },
      "cell_type": "code",
      "source": [
        "for i in range(-10, -100, -30):\n",
        "    print(i, end = ', ')"
      ],
      "execution_count": 0,
      "outputs": []
    },
    {
      "metadata": {
        "id": "F7_LN8kL0zBO",
        "colab_type": "code",
        "colab": {}
      },
      "cell_type": "code",
      "source": [
        "a = ['a', 'b', 'c', 'd', 'e']\n",
        "for i in range(len(a)):\n",
        "    print(i, a[i])"
      ],
      "execution_count": 0,
      "outputs": []
    },
    {
      "metadata": {
        "id": "aE4CzqOn03be",
        "colab_type": "code",
        "colab": {}
      },
      "cell_type": "code",
      "source": [
        "a = ['a', 'b', 'c', 'd', 'e']\n",
        "for x in enumerate(a):\n",
        "    print(x)"
      ],
      "execution_count": 0,
      "outputs": []
    },
    {
      "metadata": {
        "id": "gVusUMPs1Cad",
        "colab_type": "code",
        "colab": {}
      },
      "cell_type": "code",
      "source": [
        "for (i, x) in enumerate(a):\n",
        "    print(i, x)"
      ],
      "execution_count": 0,
      "outputs": []
    },
    {
      "metadata": {
        "id": "zXzXRkmaWOwS",
        "colab_type": "text"
      },
      "cell_type": "markdown",
      "source": [
        "# HomeWork\n",
        "\n",
        "x를 입력 받고 다음을 구하시요.\n",
        "\n",
        "힌트:python  built in fuction 검색\n",
        "\n",
        "\n",
        "$$\\text{sqsum}(x) = \\sum_{1}^{x} x^{2}$$"
      ]
    },
    {
      "metadata": {
        "id": "HyeKZSGIXROs",
        "colab_type": "code",
        "cellView": "both",
        "outputId": "db0b237e-d542-4738-fdb2-4e6143ff801a",
        "colab": {
          "base_uri": "https://localhost:8080/",
          "height": 35
        }
      },
      "cell_type": "code",
      "source": [
        "#@title 기본 폼 { run: \"auto\" }\n",
        "inputvalue = 3 #@param {type:\"integer\"}\n",
        "\n",
        "def sqsum(x):\n",
        "  print(x)\n",
        "\n",
        "sqsum(inputvalue)"
      ],
      "execution_count": 0,
      "outputs": [
        {
          "output_type": "stream",
          "text": [
            "3\n"
          ],
          "name": "stdout"
        }
      ]
    },
    {
      "metadata": {
        "id": "KuS9moFBcPdH",
        "colab_type": "code",
        "outputId": "6d386871-c6f4-4b58-c686-013b1d6dd617",
        "colab": {
          "base_uri": "https://localhost:8080/",
          "height": 89
        }
      },
      "cell_type": "code",
      "source": [
        "cars = ['audi', 'bmw', 'subaru', 'toyota']\n",
        "for car in cars:\n",
        "  if car == 'bmw':\n",
        "    print(car.upper())\n",
        "  else:\n",
        "    print(car.title())"
      ],
      "execution_count": 0,
      "outputs": [
        {
          "output_type": "stream",
          "text": [
            "Audi\n",
            "BMW\n",
            "Subaru\n",
            "Toyota\n"
          ],
          "name": "stdout"
        }
      ]
    },
    {
      "metadata": {
        "id": "nDQj3Ynh588u",
        "colab_type": "text"
      },
      "cell_type": "markdown",
      "source": [
        "## continue,break\n"
      ]
    },
    {
      "metadata": {
        "id": "5sNqmEdJ5ssM",
        "colab_type": "code",
        "colab": {}
      },
      "cell_type": "code",
      "source": [
        "for n in range(1, 10):\n",
        "    if n < 4:\n",
        "        continue \n",
        "    print(n)  \n",
        "    if n > 6:\n",
        "        break "
      ],
      "execution_count": 0,
      "outputs": []
    },
    {
      "metadata": {
        "id": "bdoAeJH06G-b",
        "colab_type": "text"
      },
      "cell_type": "markdown",
      "source": [
        "## while while,else"
      ]
    },
    {
      "metadata": {
        "id": "GVSPF3GF6KTj",
        "colab_type": "code",
        "colab": {}
      },
      "cell_type": "code",
      "source": [
        "\n",
        "n = 0\n",
        "while n < 5:  \n",
        "    print(n)\n",
        "    n = n + 1\n",
        "    \n",
        "print('fin')"
      ],
      "execution_count": 0,
      "outputs": []
    },
    {
      "metadata": {
        "id": "BFM_s48g6Mgy",
        "colab_type": "code",
        "colab": {}
      },
      "cell_type": "code",
      "source": [
        "n = 0\n",
        "while n < 5:   \n",
        "    print(n)\n",
        "    n = n + 1\n",
        "else:\n",
        "    print('cuerpo else')\n",
        "    \n",
        "print('fin')"
      ],
      "execution_count": 0,
      "outputs": []
    },
    {
      "metadata": {
        "id": "hItOn9Q16hhL",
        "colab_type": "code",
        "outputId": "3b87c121-a1ac-4e3d-a077-c0fc15bf31a8",
        "colab": {
          "base_uri": "https://localhost:8080/",
          "height": 143
        }
      },
      "cell_type": "code",
      "source": [
        "for n in range(5):  \n",
        "    print(n)\n",
        "    n = n + 1\n",
        "else:\n",
        "    print('cuerpo else')\n",
        "    \n",
        "print('fin')"
      ],
      "execution_count": 0,
      "outputs": [
        {
          "output_type": "stream",
          "text": [
            "0\n",
            "1\n",
            "2\n",
            "3\n",
            "4\n",
            "cuerpo else\n",
            "fin\n"
          ],
          "name": "stdout"
        }
      ]
    },
    {
      "metadata": {
        "id": "ZcX-HoowqZc-",
        "colab_type": "text"
      },
      "cell_type": "markdown",
      "source": [
        "## Conditional tests"
      ]
    },
    {
      "metadata": {
        "id": "tCVBWAJEqVrF",
        "colab_type": "code",
        "colab": {}
      },
      "cell_type": "code",
      "source": [
        "car = 'bmw'\n",
        "car == 'bmw'\n",
        "car != 'bmw1'"
      ],
      "execution_count": 0,
      "outputs": []
    },
    {
      "metadata": {
        "id": "7H1fgJSpqoxk",
        "colab_type": "code",
        "colab": {}
      },
      "cell_type": "code",
      "source": [
        "car = 'Audi'\n",
        "car == 'audi'"
      ],
      "execution_count": 0,
      "outputs": []
    },
    {
      "metadata": {
        "id": "8v_gr1Q3rhRD",
        "colab_type": "code",
        "outputId": "a263dca7-512b-4bb4-c8fe-a554ad0f20b5",
        "colab": {
          "base_uri": "https://localhost:8080/",
          "height": 35
        }
      },
      "cell_type": "code",
      "source": [
        "age_0 = 22\n",
        "age_1 = 18\n",
        "age_0 >= 21 or age_1 >= 21"
      ],
      "execution_count": 0,
      "outputs": [
        {
          "output_type": "execute_result",
          "data": {
            "text/plain": [
              "True"
            ]
          },
          "metadata": {
            "tags": []
          },
          "execution_count": 9
        }
      ]
    },
    {
      "metadata": {
        "id": "qFtualf6ryBb",
        "colab_type": "code",
        "colab": {}
      },
      "cell_type": "code",
      "source": [
        "requested_toppings = ['mushrooms', 'onions', 'pineapple']\n",
        "'mushrooms' in requested_toppings"
      ],
      "execution_count": 0,
      "outputs": []
    },
    {
      "metadata": {
        "id": "hNEHoY5XsL9a",
        "colab_type": "text"
      },
      "cell_type": "markdown",
      "source": [
        "## Boolean Expressions"
      ]
    },
    {
      "metadata": {
        "id": "nanIjV_1sGgr",
        "colab_type": "code",
        "colab": {}
      },
      "cell_type": "code",
      "source": [
        "game_active = True\n",
        "can_edit = False"
      ],
      "execution_count": 0,
      "outputs": []
    },
    {
      "metadata": {
        "id": "qn2rEV2ssYrr",
        "colab_type": "text"
      },
      "cell_type": "markdown",
      "source": [
        "## if,elif,else문 \n",
        "\n",
        "```\n",
        "if <expr>:\n",
        "    <statement(s)>\n",
        "elif <expr>:\n",
        "    <statement(s)>\n",
        "elif <expr>:\n",
        "    <statement(s)>\n",
        "    ...\n",
        "else:\n",
        "    <statement(s)>\n",
        "    \n",
        "    \n",
        ">>> name = 'Joe'\n",
        ">>> if name == 'Fred':\n",
        "...     print('Hello Fred')\n",
        "... elif name == 'Xander':\n",
        "...     print('Hello Xander')\n",
        "... elif name == 'Joe':\n",
        "...     print('Hello Joe')\n",
        "... elif name == 'Arnold':\n",
        "...     print('Hello Arnold')\n",
        "... else:\n",
        "...     print(\"I don't know who you are!\")\n",
        "...\n",
        "Hello Joe\n",
        "```\n",
        "\n"
      ]
    },
    {
      "metadata": {
        "id": "UlIsSrB0yw5m",
        "colab_type": "text"
      },
      "cell_type": "markdown",
      "source": [
        "**연습** 다음의 수학 함수를 작성하세용.\n",
        "\n",
        "$$ \\text{absval}(x) = \\left\\{ \n",
        "  \\begin{array}{rr} \n",
        "    x  & \\text{if } x > 0 \\\\\n",
        "    0  & \\text{if } x = 0 \\\\\n",
        "    -x & \\text{if } x < 0 \n",
        "  \\end{array}\n",
        "   \\right. $$"
      ]
    },
    {
      "metadata": {
        "id": "C7dIc9yZ5ReL",
        "colab_type": "code",
        "outputId": "cb2af41c-32e1-4e65-b822-8cf9fcde6df3",
        "colab": {
          "base_uri": "https://localhost:8080/",
          "height": 35
        }
      },
      "cell_type": "code",
      "source": [
        "def absval(x):\n",
        "  print(x)\n",
        "  \n",
        "absval(10)"
      ],
      "execution_count": 0,
      "outputs": [
        {
          "output_type": "stream",
          "text": [
            "10\n"
          ],
          "name": "stdout"
        }
      ]
    },
    {
      "metadata": {
        "id": "442do5AOtSdS",
        "colab_type": "text"
      },
      "cell_type": "markdown",
      "source": [
        "## One-Line if Statements\n",
        "\n",
        "\n",
        "```\n",
        "if <expr>: <statement_1>; <statement_2>; ...; <statement_n>\n",
        "\n",
        ">>> x = 2\n",
        ">>> if x == 1: print('foo'); print('bar'); print('baz')\n",
        "... elif x == 2: print('qux'); print('quux')\n",
        "... else: print('corge'); print('grault')\n",
        "...\n",
        "qux\n",
        "quux\n",
        "\n",
        "```\n",
        "\n"
      ]
    },
    {
      "metadata": {
        "id": "XBsUIHQSuFFR",
        "colab_type": "text"
      },
      "cell_type": "markdown",
      "source": [
        "\n",
        "\n",
        "```\n",
        "<expr1> if <conditional_expr> else <expr2>\n",
        "```\n",
        "\n"
      ]
    },
    {
      "metadata": {
        "id": "E4qGP5_zuN7B",
        "colab_type": "code",
        "outputId": "a38592c2-2e17-4dd3-914d-10dc4dee26a0",
        "colab": {
          "base_uri": "https://localhost:8080/",
          "height": 35
        }
      },
      "cell_type": "code",
      "source": [
        "비가오는중 = False\n",
        "print('도서관이나' if 비가오는중 else '해변에',\"가요\")"
      ],
      "execution_count": 0,
      "outputs": [
        {
          "output_type": "stream",
          "text": [
            "해변에 가요\n"
          ],
          "name": "stdout"
        }
      ]
    },
    {
      "metadata": {
        "id": "bWu4jvYjvv-J",
        "colab_type": "text"
      },
      "cell_type": "markdown",
      "source": [
        "\n",
        "\n",
        "```\n",
        ">>> if a > b:\n",
        "...     m = a\n",
        "... else:\n",
        "...     m = b\n",
        "...\n",
        "\n",
        "m = a if a > b else b\n",
        "```\n",
        "\n"
      ]
    },
    {
      "metadata": {
        "id": "m5o5cJAT2F6t",
        "colab_type": "text"
      },
      "cell_type": "markdown",
      "source": [
        "# HomeWork\n",
        "**listExpand**를 다음과 같게 작동하게 작성 하세요**\n",
        "\n",
        "힌트: type(x) == list\n",
        "\n",
        "```\n",
        "listExpand([1, 2, 3, 4]) ==> [1, 2, 3, 4]\n",
        "listExpand([['a', ['b', 'c']], [1, 2, 3]]) ==> ['a', 'b', 'c', 1, 2, 3]\n",
        "```"
      ]
    }
  ]
}