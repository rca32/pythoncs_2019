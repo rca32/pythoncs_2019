{
  "nbformat": 4,
  "nbformat_minor": 0,
  "metadata": {
    "colab": {
      "name": "09 Class.ipynb",
      "version": "0.3.2",
      "provenance": [],
      "include_colab_link": true
    },
    "kernelspec": {
      "name": "python3",
      "display_name": "Python 3"
    }
  },
  "cells": [
    {
      "cell_type": "markdown",
      "metadata": {
        "id": "view-in-github",
        "colab_type": "text"
      },
      "source": [
        "<a href=\"https://colab.research.google.com/github/rca32/pythoncs_2019/blob/master/09_Class.ipynb\" target=\"_parent\"><img src=\"https://colab.research.google.com/assets/colab-badge.svg\" alt=\"Open In Colab\"/></a>"
      ]
    },
    {
      "metadata": {
        "id": "6ET2ghDdPs6t",
        "colab_type": "text"
      },
      "cell_type": "markdown",
      "source": [
        "# 클래스는 도대체 왜 필요한가?\n",
        "\n",
        "[점프 투 파이선](https://wikidocs.net/28)"
      ]
    },
    {
      "metadata": {
        "id": "sUOlVluKPNi2",
        "colab_type": "code",
        "colab": {
          "base_uri": "https://localhost:8080/",
          "height": 53
        },
        "outputId": "23ade98f-6bf3-4772-c44a-f60b77308e48"
      },
      "cell_type": "code",
      "source": [
        "result = 0\n",
        "\n",
        "def add(num):\n",
        "    global result\n",
        "    result += num\n",
        "    return result\n",
        "\n",
        "print(add(3))\n",
        "print(add(4))"
      ],
      "execution_count": 2,
      "outputs": [
        {
          "output_type": "stream",
          "text": [
            "3\n",
            "7\n"
          ],
          "name": "stdout"
        }
      ]
    },
    {
      "metadata": {
        "id": "vjy7llnTQKLl",
        "colab_type": "text"
      },
      "cell_type": "markdown",
      "source": [
        "#한 프로그램에서 2개의 계산기가 필요한 상황이 발생하면 어떻게 해야 할까?"
      ]
    },
    {
      "metadata": {
        "id": "oXWzizRIQIwE",
        "colab_type": "code",
        "colab": {}
      },
      "cell_type": "code",
      "source": [
        "result1 = 0\n",
        "result2 = 0\n",
        "\n",
        "def add1(num):\n",
        "    global result1\n",
        "    result1 += num\n",
        "    return result1\n",
        "\n",
        "def add2(num):\n",
        "    global result2\n",
        "    result2 += num\n",
        "    return result2\n",
        "\n",
        "print(add1(3))\n",
        "print(add1(4))\n",
        "print(add2(3))\n",
        "print(add2(7))"
      ],
      "execution_count": 0,
      "outputs": []
    },
    {
      "metadata": {
        "id": "c4ktHGzJQQmc",
        "colab_type": "code",
        "colab": {
          "base_uri": "https://localhost:8080/",
          "height": 89
        },
        "outputId": "22e199b3-2bf4-4be2-9e36-b7091e7bec14"
      },
      "cell_type": "code",
      "source": [
        "class Calculator:\n",
        "    def __init__(self):\n",
        "        self.result = 0\n",
        "\n",
        "    def add(self, num):\n",
        "        self.result += num\n",
        "        return self.result\n",
        "\n",
        "cal1 = Calculator()\n",
        "cal2 = Calculator()\n",
        "\n",
        "print(cal1.add(3))\n",
        "print(cal1.add(4))\n",
        "print(cal2.add(3))\n",
        "print(cal2.add(7))"
      ],
      "execution_count": 3,
      "outputs": [
        {
          "output_type": "stream",
          "text": [
            "3\n",
            "7\n",
            "3\n",
            "10\n"
          ],
          "name": "stdout"
        }
      ]
    },
    {
      "metadata": {
        "id": "LzdKHeL6Qpgb",
        "colab_type": "text"
      },
      "cell_type": "markdown",
      "source": [
        "#클래스와 객체\n",
        "\n",
        "![클래스와 객체](http://wikidocs.net/images/page/214/c1.png)\n",
        "\n",
        "\n",
        "과자를 만드는 과자틀과 만들어진 과자들이다.\n",
        "\n",
        "과자틀 → 클래스 (class)\n",
        "과자틀에 의해서 만들어진 과자들 → 객체 (object)"
      ]
    },
    {
      "metadata": {
        "id": "Y37mAUr0Zc_K",
        "colab_type": "code",
        "colab": {}
      },
      "cell_type": "code",
      "source": [
        "class 자동차():\n",
        "   \"\"\"자동차를 모델링\"\"\"\n",
        "\n",
        "   def __init__(self, 생산자, 모델명, 생산년도):\n",
        "     self.생산자 = 생산자\n",
        "     self.모델명 = 모델명\n",
        "     self.생산년도 = 생산년도\n",
        "     self.연료통크기 = 2000\n",
        "     self.연료량 = 0\n",
        "      \n",
        "   def 연료채우기(self):\n",
        "     self.연료량 = self.연료통크기 \n",
        "     print(f\"현재 연료량{self.연료량}\")\n",
        "\n",
        "   def 운행(self,주행거리):\n",
        "     print(\"The car is moving.\")"
      ],
      "execution_count": 0,
      "outputs": []
    },
    {
      "metadata": {
        "id": "U9_LTCMyaq7r",
        "colab_type": "code",
        "colab": {}
      },
      "cell_type": "code",
      "source": [
        "내차 = 자동차(\"현대자동차\",\"소나타 2015년\",2015)"
      ],
      "execution_count": 0,
      "outputs": []
    },
    {
      "metadata": {
        "id": "vYuxOWGda8PZ",
        "colab_type": "code",
        "colab": {}
      },
      "cell_type": "code",
      "source": [
        "print(내차.생산자)\n",
        "print(내차.모델명)\n",
        "print(내차.생산년도)\n",
        "print(내차.연료량)"
      ],
      "execution_count": 0,
      "outputs": []
    },
    {
      "metadata": {
        "id": "QdsKZBUrbOcp",
        "colab_type": "code",
        "colab": {}
      },
      "cell_type": "code",
      "source": [
        "내차.연료채우기()\n",
        "print(내차.생산자)\n",
        "print(내차.모델명)\n",
        "print(내차.생산년도)"
      ],
      "execution_count": 0,
      "outputs": []
    },
    {
      "metadata": {
        "id": "uieFiXP-b4hI",
        "colab_type": "code",
        "colab": {}
      },
      "cell_type": "code",
      "source": [
        "배대현차 = 자동차(\"GM\",\"크루즈 2010년\",2010)\n",
        "이용구차 = 자동차(\"현대자동차\",\"소나타 2015년\",2015)"
      ],
      "execution_count": 0,
      "outputs": []
    },
    {
      "metadata": {
        "id": "190-En6tcTP4",
        "colab_type": "code",
        "colab": {
          "base_uri": "https://localhost:8080/",
          "height": 35
        },
        "outputId": "fc3c8e78-00b2-4c6b-c987-5324fc535e44"
      },
      "cell_type": "code",
      "source": [
        "배대현차.운행(100)"
      ],
      "execution_count": 35,
      "outputs": [
        {
          "output_type": "stream",
          "text": [
            "The car is moving.\n"
          ],
          "name": "stdout"
        }
      ]
    },
    {
      "metadata": {
        "id": "0R564Fn6clgY",
        "colab_type": "code",
        "colab": {}
      },
      "cell_type": "code",
      "source": [
        "#연습 \n",
        "배대현차.운행(100)\n",
        "배대현차.운행(100)\n",
        "배대현차.운행(100) => 연로가 없습니다~~~ 출력\n"
      ],
      "execution_count": 0,
      "outputs": []
    },
    {
      "metadata": {
        "id": "TmZXVz5oklfZ",
        "colab_type": "code",
        "colab": {}
      },
      "cell_type": "code",
      "source": [
        "#@title 객체 소팅 \n",
        "\n",
        "자동차목록 = [전기차(\"테슬라\",\"Model3 2019\",2019),전기차(\"테슬라\",\"Model3 2020\",2020),전기차(\"테슬라\",\"Model3 2021\",2021)]\n",
        "tmp = sorted(자동차목록)\n",
        "print(tmp)"
      ],
      "execution_count": 0,
      "outputs": []
    },
    {
      "metadata": {
        "id": "XrTzDvBAczp3",
        "colab_type": "code",
        "colab": {}
      },
      "cell_type": "code",
      "source": [
        "#@title 전기차연산자 추가 1\n",
        "\n",
        "class 전기차(자동차):\n",
        "\n",
        "  def __init__(self, make, model, year):\n",
        "    super().__init__(make, model, year)\n",
        "    self.배터리용량 = 70\n",
        "    self.충전레벨 = 0\n",
        "    \n",
        "  def 연료채우기(self):\n",
        "     self.충전레벨 = self.배터리용량 \n",
        "     print(f\"현재 연료량{self.충전레벨}\")\n",
        "  def __repr__(self):\n",
        "    return f\"{self.생산자} {self.생산년도}\"\n",
        "  \n",
        "  def __lt__(self,right):\n",
        "    return self.생산년도<right.생산년도\n",
        "  \n",
        "\n",
        "\n"
      ],
      "execution_count": 0,
      "outputs": []
    },
    {
      "metadata": {
        "id": "bal1GmiuiAyj",
        "colab_type": "code",
        "colab": {}
      },
      "cell_type": "code",
      "source": [
        "배대현전기차차1 = 전기차(\"테슬라\",\"Model3 2019\",2019)\n",
        "배대현전기차차2 = 전기차(\"테슬라\",\"Model3 2019\",2019)"
      ],
      "execution_count": 0,
      "outputs": []
    },
    {
      "metadata": {
        "id": "n1eWXtSjiyqp",
        "colab_type": "code",
        "colab": {
          "base_uri": "https://localhost:8080/",
          "height": 35
        },
        "outputId": "785bc821-5fae-43ad-fbb0-c9133bf9c0b0"
      },
      "cell_type": "code",
      "source": [
        "배대현전기차차1<배대현전기차차2"
      ],
      "execution_count": 114,
      "outputs": [
        {
          "output_type": "execute_result",
          "data": {
            "text/plain": [
              "False"
            ]
          },
          "metadata": {
            "tags": []
          },
          "execution_count": 114
        }
      ]
    },
    {
      "metadata": {
        "id": "cDYLda1ck8IW",
        "colab_type": "code",
        "colab": {}
      },
      "cell_type": "code",
      "source": [
        "#@title 전기차연산자 추가 2\n",
        "\n",
        "class 전기차(자동차):\n",
        "\n",
        "  def __init__(self, make, model, year):\n",
        "    super().__init__(make, model, year)\n",
        "    self.배터리용량 = 70\n",
        "    self.충전레벨 = 0\n",
        "    \n",
        "  def 연료채우기(self):\n",
        "     self.충전레벨 = self.배터리용량 \n",
        "     print(f\"현재 연료량{self.충전레벨}\")\n",
        "  def __repr__(self):\n",
        "    return f\"{self.생산자} {self.생산년도}\"\n",
        "  \n",
        "  def __lt__(self,right):\n",
        "    return self.생산년도<right.생산년도\n",
        "  \n",
        "  def __eq__(self,right):\n",
        "    return self.생산년도==right.생산년도\n"
      ],
      "execution_count": 0,
      "outputs": []
    },
    {
      "metadata": {
        "id": "7EWE3IvHjoqw",
        "colab_type": "code",
        "colab": {}
      },
      "cell_type": "code",
      "source": [
        "#@title 전기차연산자 추가 3\n",
        "from functools import total_ordering\n",
        "@total_ordering\n",
        "\n",
        "class 전기차(자동차):\n",
        "\n",
        "  def __init__(self, make, model, year):\n",
        "    super().__init__(make, model, year)\n",
        "    self.배터리용량 = 70\n",
        "    self.충전레벨 = 0\n",
        "    \n",
        "  def 연료채우기(self):\n",
        "     self.충전레벨 = self.배터리용량 \n",
        "     print(f\"현재 연료량{self.충전레벨}\")\n",
        "  def __repr__(self):\n",
        "    return f\"{self.생산자} {self.생산년도}\"\n",
        "  \n",
        "  def __lt__(self,right):\n",
        "    return self.생산년도<right.생산년도\n",
        "  \n",
        "  def __eq__(self,right):\n",
        "    return self.생산년도==right.생산년도\n",
        "\n"
      ],
      "execution_count": 0,
      "outputs": []
    },
    {
      "metadata": {
        "id": "WvGoTblFlV5W",
        "colab_type": "code",
        "colab": {}
      },
      "cell_type": "code",
      "source": [
        "#@title 전기차연산자 추가 3\n",
        "from functools import total_ordering\n",
        "@total_ordering\n",
        "\n",
        "class 전기차(자동차):\n",
        "\n",
        "  def __init__(self, make, model, year):\n",
        "    super().__init__(make, model, year)\n",
        "    self.배터리용량 = 70\n",
        "    self.충전레벨 = 0\n",
        "    self.운행기록 = []\n",
        "    \n",
        "  def 연료채우기(self):\n",
        "     self.충전레벨 = self.배터리용량 \n",
        "     print(f\"현재 연료량{self.충전레벨}\")\n",
        "    \n",
        "  def __len__(self):\n",
        "        return len(self.운행기록)\n",
        "\n",
        "  def __getitem__(self, idx):\n",
        "        return self.운행기록[idx]\n",
        "      \n",
        "  def __repr__(self):\n",
        "    return f\"{self.생산자} {self.생산년도}\"\n",
        "  \n",
        "  def __lt__(self,right):\n",
        "    return self.생산년도<right.생산년도\n",
        "  \n",
        "  def __eq__(self,right):\n",
        "    return self.생산년도==right.생산년도\n",
        "\n"
      ],
      "execution_count": 0,
      "outputs": []
    },
    {
      "metadata": {
        "id": "GPRH4ZwMlqyu",
        "colab_type": "code",
        "colab": {}
      },
      "cell_type": "code",
      "source": [
        "배대현전기차차2 = 전기차(\"테슬라\",\"Model3 2019\",2019)"
      ],
      "execution_count": 0,
      "outputs": []
    },
    {
      "metadata": {
        "id": "zcOz3g3ilu2O",
        "colab_type": "code",
        "colab": {}
      },
      "cell_type": "code",
      "source": [
        "배대현전기차차2[-1]"
      ],
      "execution_count": 0,
      "outputs": []
    },
    {
      "metadata": {
        "id": "xncBb5Dwh1lD",
        "colab_type": "text"
      },
      "cell_type": "markdown",
      "source": [
        "#파이썬 더블 언더스코어: Magic Method\n",
        "\n",
        "https://corikachu.github.io/articles/python/python-magic-method"
      ]
    }
  ]
}