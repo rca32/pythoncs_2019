{
  "nbformat": 4,
  "nbformat_minor": 0,
  "metadata": {
    "colab": {
      "name": "04 계산기",
      "version": "0.3.2",
      "provenance": [],
      "include_colab_link": true
    },
    "kernelspec": {
      "name": "python3",
      "display_name": "Python 3"
    }
  },
  "cells": [
    {
      "cell_type": "markdown",
      "metadata": {
        "id": "view-in-github",
        "colab_type": "text"
      },
      "source": [
        "<a href=\"https://colab.research.google.com/github/rca32/pythoncs_2019/blob/master/04_%EA%B3%84%EC%82%B0%EA%B8%B0.ipynb\" target=\"_parent\"><img src=\"https://colab.research.google.com/assets/colab-badge.svg\" alt=\"Open In Colab\"/></a>"
      ]
    },
    {
      "metadata": {
        "id": "3PjHCNrl8hXu",
        "colab_type": "text"
      },
      "cell_type": "markdown",
      "source": [
        "#계산기 V1\n",
        "calc()를 실행시 선언된 변수를 사용하여 결과 3을 만들어 내시요"
      ]
    },
    {
      "metadata": {
        "id": "SPgkRoyj635e",
        "colab_type": "code",
        "colab": {}
      },
      "cell_type": "code",
      "source": [
        "def calcv1():\n",
        "  left = \"1\"\n",
        "  right = \"2\"\n",
        "  operator = \"+\"\n",
        "  \n",
        "  결과 = 0\n",
        "  print(f\"결과:{결과}\")\n",
        "  \n",
        "calcv1()"
      ],
      "execution_count": 0,
      "outputs": []
    },
    {
      "metadata": {
        "id": "L9-QFqfs8y-d",
        "colab_type": "text"
      },
      "cell_type": "markdown",
      "source": [
        "#계산기 V2\n",
        "calc()를 실행시   결과 3을 만들어 내시요"
      ]
    },
    {
      "metadata": {
        "id": "w2Npiyba82ON",
        "colab_type": "code",
        "colab": {}
      },
      "cell_type": "code",
      "source": [
        "def calcv2():\n",
        "  결과 = 0\n",
        "  print(f\"결과:{결과}\")\n",
        "  \n",
        "calcv2(\"1\",\"+\",\"2\") "
      ],
      "execution_count": 0,
      "outputs": []
    },
    {
      "metadata": {
        "id": "-PnFuKO8AHdD",
        "colab_type": "text"
      },
      "cell_type": "markdown",
      "source": [
        "#계산기 V3\n",
        "calc()를 실행시   결과 3을 만들어 내시요"
      ]
    },
    {
      "metadata": {
        "id": "ZLARmtURAHxU",
        "colab_type": "code",
        "colab": {}
      },
      "cell_type": "code",
      "source": [
        "def calcv3(param):\n",
        "  결과 = 0\n",
        "  print(f\"결과:{결과}\")\n",
        "  \n",
        "calcv3(\"1+2\") "
      ],
      "execution_count": 0,
      "outputs": []
    },
    {
      "metadata": {
        "id": "TCEjbAOEAXqj",
        "colab_type": "text"
      },
      "cell_type": "markdown",
      "source": [
        ""
      ]
    },
    {
      "metadata": {
        "id": "ihtSJ6QLAX0D",
        "colab_type": "code",
        "outputId": "8336754e-f631-4e98-ce94-5da3e3d8d9bc",
        "colab": {
          "base_uri": "https://localhost:8080/",
          "height": 35
        }
      },
      "cell_type": "code",
      "source": [
        "def calcv4(param):\n",
        "  결과 = 0\n",
        "  left=\"\"\n",
        "  right=\"\"\n",
        "  operator=\"\"\n",
        "\n",
        "  print(f\"결과:{결과}\")\n",
        "  \n",
        "calcv4(\"1+2+3\") "
      ],
      "execution_count": 0,
      "outputs": [
        {
          "output_type": "stream",
          "text": [
            "결과:45.0\n"
          ],
          "name": "stdout"
        }
      ]
    },
    {
      "metadata": {
        "id": "0koDN8TAAkEk",
        "colab_type": "code",
        "outputId": "929ae48a-4299-4072-a24d-592b9ccae462",
        "colab": {
          "base_uri": "https://localhost:8080/",
          "height": 35
        }
      },
      "cell_type": "code",
      "source": [
        "def calcv5(param):\n",
        "  결과 = 0\n",
        "  \n",
        "  left=\"\"\n",
        "  right=\"\"\n",
        "  operator=\"\"\n",
        "\n",
        "  print(f\"결과:{결과}\")\n",
        " \n",
        "calcv5(\"1+2+3-4\") "
      ],
      "execution_count": 0,
      "outputs": [
        {
          "output_type": "stream",
          "text": [
            "결과:15.0\n"
          ],
          "name": "stdout"
        }
      ]
    },
    {
      "metadata": {
        "id": "nriavmKQK8ht",
        "colab_type": "code",
        "colab": {}
      },
      "cell_type": "code",
      "source": [
        "\n",
        "ops_prec = {'+':0, '-':0, '*':1, '/':1}\n",
        "def value_to_output(value, output):\n",
        "    if value != \"\":\n",
        "        output.append(value)\n",
        "    return \"\"\n",
        "  \n",
        "def infix_to_postfix(string_input):\n",
        "    stack_ops = []\n",
        "    output = []\n",
        "    value = \"\"\n",
        "    \n",
        "    for item in string_input:\n",
        "        if item in ops_prec:\n",
        "            value = value_to_output(value, output)\n",
        "         \n",
        "            while (stack_ops\n",
        "                   and stack_ops[-1] in ops_prec.keys()\n",
        "                   and ops_prec[item] <= ops_prec[stack_ops[-1]]):\n",
        "                output.append(stack_ops.pop())\n",
        "         \n",
        "            stack_ops.append(item)\n",
        "        elif item == '(':\n",
        "            value = value_to_output(value, output)\n",
        "\n",
        "            stack_ops.append(item)\n",
        "        elif item == ')':\n",
        "            value = value_to_output(value, output)\n",
        "\n",
        "        \n",
        "            while (stack_ops and stack_ops[-1] != '('):\n",
        "                output.append(stack_ops.pop())\n",
        "            stack_ops.pop()\n",
        "        else:\n",
        "            value += item\n",
        "\n",
        "    value = value_to_output(value, output)\n",
        "      \n",
        "    while stack_ops:\n",
        "        output.append(stack_ops.pop())\n",
        "\n",
        "    return output            \n",
        "        \n",
        " \n",
        " \n",
        "\n",
        "\n"
      ],
      "execution_count": 0,
      "outputs": []
    },
    {
      "metadata": {
        "id": "rK3LGmfVN1Z7",
        "colab_type": "code",
        "outputId": "2476394f-a4e1-4c5c-d4fe-f549f3183104",
        "colab": {
          "base_uri": "https://localhost:8080/",
          "height": 35
        }
      },
      "cell_type": "code",
      "source": [
        "infix_to_postfix(\"(21-3)*(4+(6*4-1))\")\n"
      ],
      "execution_count": 0,
      "outputs": [
        {
          "output_type": "execute_result",
          "data": {
            "text/plain": [
              "['21', '3', '-', '4', '6', '4', '*', '1', '-', '+', '*']"
            ]
          },
          "metadata": {
            "tags": []
          },
          "execution_count": 44
        }
      ]
    }
  ]
}