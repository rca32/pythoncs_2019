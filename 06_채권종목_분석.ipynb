{
  "nbformat": 4,
  "nbformat_minor": 0,
  "metadata": {
    "colab": {
      "name": "06 채권종목 분석.ipynb",
      "version": "0.3.2",
      "provenance": [],
      "include_colab_link": true
    },
    "kernelspec": {
      "name": "python3",
      "display_name": "Python 3"
    }
  },
  "cells": [
    {
      "cell_type": "markdown",
      "metadata": {
        "id": "view-in-github",
        "colab_type": "text"
      },
      "source": [
        "<a href=\"https://colab.research.google.com/github/rca32/pythoncs_2019/blob/master/06_%EC%B1%84%EA%B6%8C%EC%A2%85%EB%AA%A9_%EB%B6%84%EC%84%9D.ipynb\" target=\"_parent\"><img src=\"https://colab.research.google.com/assets/colab-badge.svg\" alt=\"Open In Colab\"/></a>"
      ]
    },
    {
      "metadata": {
        "id": "0N_XsWdF3Bsp",
        "colab_type": "code",
        "colab": {}
      },
      "cell_type": "code",
      "source": [
        "#@title #DB 구축\n",
        "\n",
        "채권종목DB = {}\n",
        "\n",
        "#1. 파일 읽어서 list 형태로 변경\n",
        "lines = ReadFile(\"\")\n",
        "for line in lines:\n",
        "  #2. 스트링 파일을 record형태로 변경\n",
        "  key,record = Line2Record(line)\n",
        "  \n",
        "  #3 db 갱신 \n",
        "  초간단DB[key] = record"
      ],
      "execution_count": 0,
      "outputs": []
    },
    {
      "metadata": {
        "id": "jWWphAYD52dP",
        "colab_type": "code",
        "colab": {}
      },
      "cell_type": "code",
      "source": [
        "#@title 파일 읽어오기\n",
        "def ReadFile(파일명):\n",
        "  with open(파일명,\"r\") as fd:\n",
        "    pass\n",
        "    "
      ],
      "execution_count": 0,
      "outputs": []
    },
    {
      "metadata": {
        "id": "iwLGijesDqf8",
        "colab_type": "text"
      },
      "cell_type": "markdown",
      "source": [
        "https://m.blog.naver.com/dlfekdqorkbs/140189933481\n",
        "\n",
        "http://biz.chosun.com/site/data/html_dir/2010/10/17/2010101700028.html"
      ]
    },
    {
      "metadata": {
        "id": "3ESsoYDz3LVI",
        "colab_type": "code",
        "colab": {}
      },
      "cell_type": "code",
      "source": [
        "#@title 라인 분해 및 dict 구성\n",
        "record = {\n",
        "    \"국가\":\"\",\n",
        "    \"속성코더\":\"\",\n",
        "    \"발행체고유코드\":\"\",\n",
        "    \"종목구분코드\":\"\",\n",
        "    \"종목명\":\"\"\n",
        "}\n",
        "def Line2Record(line):\n",
        "  pass\n",
        "    "
      ],
      "execution_count": 0,
      "outputs": []
    },
    {
      "metadata": {
        "id": "vxWA9Jz9Ek8M",
        "colab_type": "code",
        "colab": {}
      },
      "cell_type": "code",
      "source": [
        "#발행체고유코드 별 채권 갯수 구하기"
      ],
      "execution_count": 0,
      "outputs": []
    },
    {
      "metadata": {
        "id": "4GW0vKOEG6_K",
        "colab_type": "text"
      },
      "cell_type": "markdown",
      "source": [
        "https://www.bok.or.kr/portal/cmmn/file/fileDown.do?menuNo=200472&atchFileId=KO_00000000000074354&fileSn=1\n",
        "\n",
        "excel 파일 읽어서 발행기관 db 구축\n",
        "\n"
      ]
    },
    {
      "metadata": {
        "id": "Y4sXbFfVHrni",
        "colab_type": "code",
        "colab": {}
      },
      "cell_type": "code",
      "source": [
        "#정부부분,금융부분, 공기업,민간기업 채권 갯수 및 비율 구하기"
      ],
      "execution_count": 0,
      "outputs": []
    }
  ]
}