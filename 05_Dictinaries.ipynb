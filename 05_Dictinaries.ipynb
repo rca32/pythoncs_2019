{
  "nbformat": 4,
  "nbformat_minor": 0,
  "metadata": {
    "colab": {
      "name": "05 Dictinaries",
      "version": "0.3.2",
      "provenance": [],
      "include_colab_link": true
    },
    "kernelspec": {
      "name": "python3",
      "display_name": "Python 3"
    }
  },
  "cells": [
    {
      "cell_type": "markdown",
      "metadata": {
        "id": "view-in-github",
        "colab_type": "text"
      },
      "source": [
        "<a href=\"https://colab.research.google.com/github/rca32/pythoncs_2019/blob/master/05_Dictinaries.ipynb\" target=\"_parent\"><img src=\"https://colab.research.google.com/assets/colab-badge.svg\" alt=\"Open In Colab\"/></a>"
      ]
    },
    {
      "metadata": {
        "id": "to7CtofAJsMW",
        "colab_type": "text"
      },
      "cell_type": "markdown",
      "source": [
        "## dictinary 정의\n",
        "파이썬에서는 이러한 자료형을 딕셔너리(Dictionary)라고 하는데, 단어 그대로 해석하면 사전이라는 뜻이다. 즉, people이라는 단어에 \"사람\", baseball이라는 단어에 \"야구\"라는 뜻이 부합되듯이 딕셔너리는 Key와 Value라는 것을 한 쌍으로 갖는 자료형이다. 예컨대 Key가 \"baseball\"이라면 Value는 \"야구\"가 될 것이다.\n",
        "\n",
        "딕셔너리는 리스트나 튜플처럼 순차적으로(sequential) 해당 요소값을 구하지 않고 Key를 통해 Value를 얻는다. 이것이 바로 딕셔너리의 가장 큰 특징이다. baseball이라는 단어의 뜻을 찾기 위해 사전의 내용을 순차적으로 모두 검색하는 것이 아니라 baseball이라는 단어가 있는 곳만 펼쳐 보는 것이다."
      ]
    },
    {
      "metadata": {
        "id": "KfoQZsmzGbcA",
        "colab_type": "code",
        "colab": {}
      },
      "cell_type": "code",
      "source": [
        "#@title ##딕셔너리는 어떻게 만들까?\n",
        "\n",
        "dic = {'name':'pey', 'phone':'0119993323', 'birth': '1118'}\n",
        "\n",
        "#Key에는 변하지 않는 값을 사용하고, Value에는 변하는 값과 변하지 않는 값 모두 사용할 수 있다.\n",
        "\n"
      ],
      "execution_count": 0,
      "outputs": []
    },
    {
      "metadata": {
        "id": "wh9Mjc20Gi0c",
        "colab_type": "code",
        "outputId": "47eee7f5-e664-4928-b0fe-8a05364d0612",
        "colab": {
          "base_uri": "https://localhost:8080/",
          "height": 53
        }
      },
      "cell_type": "code",
      "source": [
        "#@title ##키값으로 값 얻어 오기\n",
        "\n",
        "alien_0 = {'color': 'green', 'points': 5}\n",
        "print(alien_0['color'])\n",
        "print(alien_0['points'])"
      ],
      "execution_count": 0,
      "outputs": [
        {
          "output_type": "stream",
          "text": [
            "green\n",
            "5\n"
          ],
          "name": "stdout"
        }
      ]
    },
    {
      "metadata": {
        "id": "3A2Ry7jsGvIR",
        "colab_type": "code",
        "outputId": "cac1f03e-f0cf-42d5-a373-6078316b6fd5",
        "colab": {
          "base_uri": "https://localhost:8080/",
          "height": 53
        }
      },
      "cell_type": "code",
      "source": [
        "#@title ##get()을 사용하여 값 얻어 오기\n",
        "alien_0 = {'color': 'green'}\n",
        "alien_color = alien_0.get('color')\n",
        "alien_points = alien_0.get('points', 0)\n",
        "print(alien_color)\n",
        "print(alien_points)"
      ],
      "execution_count": 0,
      "outputs": [
        {
          "output_type": "stream",
          "text": [
            "green\n",
            "0\n"
          ],
          "name": "stdout"
        }
      ]
    },
    {
      "metadata": {
        "id": "GSf4uIAkG2Xp",
        "colab_type": "code",
        "colab": {}
      },
      "cell_type": "code",
      "source": [
        "#@title ##key - value 추가 하기 \n",
        "alien_0 = {'color': 'green', 'points': 5}\n",
        "alien_0['x'] = 0\n",
        "alien_0['y'] = 25\n",
        "alien_0['speed'] = 1.5"
      ],
      "execution_count": 0,
      "outputs": []
    },
    {
      "metadata": {
        "id": "gxSQjwxpG-Cp",
        "colab_type": "code",
        "colab": {}
      },
      "cell_type": "code",
      "source": [
        "#@title ##값 지우기 \n",
        "alien_0 = {}\n",
        "alien_0['color'] = 'green'\n",
        "alien_0['points'] = 5\n",
        "num_responses = len(fav_languages)\n"
      ],
      "execution_count": 0,
      "outputs": []
    },
    {
      "metadata": {
        "id": "Hys00e1iG_X4",
        "colab_type": "code",
        "colab": {}
      },
      "cell_type": "code",
      "source": [
        "#@title ##key - value 변경하기\n",
        "alien_0 = {'color': 'green', 'points': 5}\n",
        "print(alien_0)\n",
        "alien_0['color'] = 'yellow'\n",
        "alien_0['points'] = 10\n",
        "print(alien_0)"
      ],
      "execution_count": 0,
      "outputs": []
    },
    {
      "metadata": {
        "id": "AkFqCgLxG_iI",
        "colab_type": "code",
        "colab": {}
      },
      "cell_type": "code",
      "source": [
        "#@title ##값 지우기\n",
        "alien_0 = {'color': 'green', 'points': 5}\n",
        "print(alien_0)\n",
        "del alien_0['points']\n",
        "print(alien_0)"
      ],
      "execution_count": 0,
      "outputs": []
    },
    {
      "metadata": {
        "id": "2KFm1oeBG_mA",
        "colab_type": "code",
        "colab": {}
      },
      "cell_type": "code",
      "source": [
        "#@title ##값 순행하기1 \n",
        "fav_languages = {'jen': 'python','sarah': 'c','edward': 'ruby','phil': 'python',}\n",
        "for name, language in fav_languages.items():\n",
        "  print(name + \": \"+language)"
      ],
      "execution_count": 0,
      "outputs": []
    },
    {
      "metadata": {
        "id": "1Q2AcWbNHHwZ",
        "colab_type": "code",
        "colab": {}
      },
      "cell_type": "code",
      "source": [
        "#@title ##값 순행하기2\n",
        "for name in fav_languages.keys():\n",
        "  print(name)"
      ],
      "execution_count": 0,
      "outputs": []
    },
    {
      "metadata": {
        "id": "mtzPd4P0HKDw",
        "colab_type": "code",
        "colab": {}
      },
      "cell_type": "code",
      "source": [
        "#@title ##값 순행하기3\n",
        "for language in fav_languages.values():\n",
        "  print(language)"
      ],
      "execution_count": 0,
      "outputs": []
    },
    {
      "metadata": {
        "id": "yynunzkoHMNJ",
        "colab_type": "code",
        "colab": {}
      },
      "cell_type": "code",
      "source": [
        "#@title ##값 순행하기4\n",
        "for name in sorted(fav_languages.keys()):\n",
        "  print(name + \": \" + language)"
      ],
      "execution_count": 0,
      "outputs": []
    },
    {
      "metadata": {
        "id": "5TkHEVfAHQMZ",
        "colab_type": "code",
        "colab": {}
      },
      "cell_type": "code",
      "source": [
        "#@title ##크기 얻기\n",
        "num_responses = len(fav_languages)\n"
      ],
      "execution_count": 0,
      "outputs": []
    },
    {
      "metadata": {
        "id": "bILyepHhHS2x",
        "colab_type": "code",
        "colab": {}
      },
      "cell_type": "code",
      "source": [
        "#@title ##중첩 1\n",
        "users = []\n",
        "new_user = {'last': 'fermi', 'first': 'enrico', 'username': 'efermi'}\n",
        "users.append(new_user)\n",
        "\n",
        " \n",
        "\n",
        "new_user = {'last': 'curie', 'first': 'marie', 'username': 'mcurie'}\n",
        "users.append(new_user)\n",
        "\n",
        "for user_dict in users:\n",
        "    for (k, v) in user_dict.items():\n",
        "        print(k + ': ' + v)\n",
        "    print('\\n')\n"
      ],
      "execution_count": 0,
      "outputs": []
    },
    {
      "metadata": {
        "id": "u-LXvm1VHTaJ",
        "colab_type": "code",
        "colab": {}
      },
      "cell_type": "code",
      "source": [
        "#@title ##중첩 2\n",
        "users = [{'last': 'fermi', 'first': 'enrico', 'username': 'efermi'},\n",
        "         {'last': 'curie', 'first': 'marie', 'username': 'mcurie'}]\n",
        "\n",
        "for user_dict in users:\n",
        "    for (k, v) in user_dict.items():\n",
        "        print k + ': ' + v\n",
        "    print '\\n'\n"
      ],
      "execution_count": 0,
      "outputs": []
    },
    {
      "metadata": {
        "id": "5czJoc8QH-0t",
        "colab_type": "code",
        "colab": {}
      },
      "cell_type": "code",
      "source": [
        "#@title ##중첩 3\n",
        "fav_languages = {\n",
        "    'jen': ['python', 'ruby'],\n",
        "    'sarah': ['c'],\n",
        "    'edward': ['ruby', 'go'],\n",
        "    'phil': ['python', 'haskell'],\n",
        "    }\n",
        "for (name, langs) in fav_languages.items():\n",
        "    print name + ': '\n",
        "    for lang in langs:\n",
        "        print '-' + lang"
      ],
      "execution_count": 0,
      "outputs": []
    },
    {
      "metadata": {
        "id": "1LJg_NdiI9bK",
        "colab_type": "code",
        "colab": {}
      },
      "cell_type": "code",
      "source": [
        "#@title ##중첩 4\n",
        "users = {'aeinstein': {'first': 'albert','last': 'einstein','location': 'princeton',},'mcurie': {'first': 'marie','last': 'curie','location': 'paris',},}\n",
        "\n",
        "for username, user_dict in users.items():\n",
        "\tprint(\"\\nUsername: \" + username)\n",
        "\tfull_name = user_dict['first'] + \" \"\n",
        "\tfull_name += user_dict['last']\n",
        "\tlocation = user_dict['location']\n",
        "\tprint(\"\\tFull name: \" + full_name.title())\n",
        "\tprint(\"\\tLocation: \" + location.title())\n",
        "\t\t\t"
      ],
      "execution_count": 0,
      "outputs": []
    },
    {
      "metadata": {
        "id": "XHNkcUdtPRxz",
        "colab_type": "code",
        "colab": {}
      },
      "cell_type": "code",
      "source": [
        "#@title ##순서를 기억하는 사전형 OrderedDict\n",
        "from collections import OrderedDict\n",
        "fav_languages = OrderedDict()\n",
        "fav_languages['jen'] = ['python','ruby']\n",
        "fav_languages['sarah'] = ['c']\n",
        "fav_languages['edward'] = ['ruby', 'go']\n",
        "fav_languages['phil'] = ['python', 'haskell']\n",
        "for name, langs in fav_languages.items():\n",
        "  print(name + \":\")\n",
        "  for lang in langs:\n",
        "    print(\"-\" + lang)"
      ],
      "execution_count": 0,
      "outputs": []
    }
  ]
}