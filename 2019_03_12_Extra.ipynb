{
 "cells": [
  {
   "cell_type": "markdown",
   "metadata": {
    "colab_type": "text",
    "id": "7oqVbAJ1eeKy"
   },
   "source": [
    "### 유민주  "
   ]
  },
  {
   "cell_type": "code",
   "execution_count": null,
   "metadata": {
    "colab": {},
    "colab_type": "code",
    "id": "J3WZEiH3ekdP"
   },
   "outputs": [],
   "source": [
    "#pandas 사용 준비\n",
    "%matplotlib inline\n",
    "import numpy as np\n",
    "import pandas as pd\n",
    "import matplotlib.pyplot as plt\n",
    "import matplotlib.font_manager as fm\n",
    "import seaborn as sns\n",
    "sns.set(style=\"ticks\", color_codes=True)\n",
    "#https://datascienceschool.net/view-notebook/4c2d5ff1caab4b21a708cc662137bc65/\n",
    "#https://seaborn.pydata.org/tutorial/categorical.html"
   ]
  },
  {
   "cell_type": "code",
   "execution_count": null,
   "metadata": {
    "colab": {},
    "colab_type": "code",
    "id": "zGknahzmtbjl"
   },
   "outputs": [],
   "source": [
    "!pip install --upgrade seaborn\n",
    "conda install seaborn"
   ]
  },
  {
   "cell_type": "code",
   "execution_count": null,
   "metadata": {
    "colab": {},
    "colab_type": "code",
    "id": "4CTnVKiffQ0q"
   },
   "outputs": [],
   "source": [
    "#파일 읽기\n",
    "df_mj = pd.read_excel(\"190312_mj_credit_rating_exercise.xlsx\")"
   ]
  },
  {
   "cell_type": "code",
   "execution_count": null,
   "metadata": {
    "colab": {},
    "colab_type": "code",
    "id": "jD3VAnUpfsWn"
   },
   "outputs": [],
   "source": [
    "df_mj['snp_rating'].unique()\n",
    "order = ['AAA','AA', 'A', 'A+', 'BBB', 'B-', 'B', 'NR', 'BBB+', 'BBB-','AA-', 'BB+', 'AA+', 'A-', 'B+','BB-', 'BB','CCC+', 'SD','CCC', 'D', 'CCC-', 'CC']"
   ]
  },
  {
   "cell_type": "code",
   "execution_count": null,
   "metadata": {
    "colab": {
     "base_uri": "https://localhost:8080/",
     "height": 437
    },
    "colab_type": "code",
    "id": "U6ATINcLf2ZF",
    "outputId": "9220272a-4e44-4c97-f044-8281a83be201"
   },
   "outputs": [],
   "source": [
    "#CDS & 신용등급 분포도\n",
    "sns.catplot(x=\"snp_rating\", y=\"markit_CDS\", data=df_mj,order =order,height=6,aspect =2);"
   ]
  },
  {
   "cell_type": "code",
   "execution_count": null,
   "metadata": {
    "colab": {
     "base_uri": "https://localhost:8080/",
     "height": 437
    },
    "colab_type": "code",
    "id": "LVsT1R48j6op",
    "outputId": "936c4da7-e7e9-46b3-cfe0-44d54c6eb47d"
   },
   "outputs": [],
   "source": [
    "#국내기관 신용등급 현황 히스토그램\n",
    "\n",
    "df_mj_korea = df_mj[(df_mj['organization_country_code'] == 'KR')&(df_mj['snp_myorg_id'] > 0)]\n",
    "tmp = df_mj_korea.groupby('snp_rating').count()\n",
    "tmp = tmp.reset_index()\n",
    "sns.catplot(x='snp_rating',y=\"myorg_id\",data=tmp,height=6,aspect =2,kind='bar',order =order);\n"
   ]
  },
  {
   "cell_type": "code",
   "execution_count": null,
   "metadata": {
    "colab": {
     "base_uri": "https://localhost:8080/",
     "height": 437
    },
    "colab_type": "code",
    "id": "GxbT4EZKwXFR",
    "outputId": "5b7cdcbf-afed-4085-ffbf-bb4dfe9496d3"
   },
   "outputs": [],
   "source": [
    "#국가별 최고등급, 최저등급, box 차트\n",
    "order = df_mj.organization_country_code.value_counts().index[:15]\n",
    "sns.catplot(x=\"organization_country_code\", y=\"snp_rating_i\", kind=\"box\", data=df_mj.query('snp_rating_i>=0 and snp_rating_i<=21'),height=6,aspect =2,order=order);"
   ]
  },
  {
   "cell_type": "markdown",
   "metadata": {
    "colab": {},
    "colab_type": "code",
    "id": "HLwVD6kZ6FVL"
   },
   "source": [
    "###  박연준"
   ]
  },
  {
   "cell_type": "code",
   "execution_count": null,
   "metadata": {},
   "outputs": [],
   "source": [
    "CME = pd.read_csv(\"CME2.csv\")\n",
    "CME['date'] = pd.to_datetime(CME['date'],format=\"%Y%m%d\",errors=\"coerce\")\n",
    "CME = CME.dropna()\n",
    "CME_M = pd.read_csv(\"CME_Master.csv\")"
   ]
  },
  {
   "cell_type": "code",
   "execution_count": null,
   "metadata": {},
   "outputs": [],
   "source": [
    "CME['Code'] = CME['stdcd'].str[4:]\n",
    "CME['FuturesCD'] = CME['Code'].str[:-3]\n",
    "CME['Month'] = CME['Code'].str[-3]\n",
    "CME['Year'] = CME['Code'].str[-2:]\n",
    "CME_M['FuturesCD'] = CME_M['stdcd'].str[4:]\n",
    "CME_M = CME_M[['FuturesCD', 'engnm']]"
   ]
  },
  {
   "cell_type": "code",
   "execution_count": null,
   "metadata": {},
   "outputs": [],
   "source": [
    "CMENEW = pd.merge(CME, CME_M, on='FuturesCD')\n",
    "CMENEW = CMENEW[['FuturesCD', 'date', 'engnm', 'closeprice', 'Code', 'Year', 'Month']]"
   ]
  },
  {
   "cell_type": "code",
   "execution_count": null,
   "metadata": {},
   "outputs": [],
   "source": [
    "Code2Month = {'F': '01', 'G': '02', 'H': '03', 'J': '04', 'K': '05', 'M': '06', 'N': '07', 'Q': '08', 'U': '09', 'V': '10', 'X': '11', 'Z': '12'}\n",
    "CMENEW.Month = CMENEW.Month.map(Code2Month)"
   ]
  },
  {
   "cell_type": "code",
   "execution_count": null,
   "metadata": {},
   "outputs": [],
   "source": [
    "CMENEW['YM'] =  pd.to_datetime(CMENEW['Year'] + CMENEW['Month'],format='%y%m')"
   ]
  },
  {
   "cell_type": "code",
   "execution_count": null,
   "metadata": {},
   "outputs": [],
   "source": [
    "#https://pandas.pydata.org/pandas-docs/stable/user_guide/timeseries.html\n",
    "CMENEW['EffectiveDate'] = CMENEW['YM'] + pd.offsets.Week(n=3,weekday=2)\n",
    "CMENEW['MaturityDate'] = CMENEW['YM'] + pd.offsets.MonthBegin(3)+ pd.offsets.Week(n=3,weekday=2)"
   ]
  },
  {
   "cell_type": "code",
   "execution_count": null,
   "metadata": {},
   "outputs": [],
   "source": [
    "#공휴일 처리...\n",
    "from pandas.tseries.offsets import CDay\n",
    "from datetime import datetime\n",
    "holidays = ['2018-01-17']\n",
    "customholidays = CDay(n=1,holidays=holidays)\n",
    "CMENEW['EffectiveDate'][0:10] + 0*customholidays"
   ]
  },
  {
   "cell_type": "markdown",
   "metadata": {},
   "source": [
    "### 이용구"
   ]
  },
  {
   "cell_type": "code",
   "execution_count": null,
   "metadata": {},
   "outputs": [],
   "source": [
    "df = pd.read_csv(\"kp.csv\",encoding=\"euckr\")"
   ]
  },
  {
   "cell_type": "code",
   "execution_count": null,
   "metadata": {},
   "outputs": [],
   "source": [
    "df.head()"
   ]
  },
  {
   "cell_type": "markdown",
   "metadata": {},
   "source": [
    "conda install pandas-profiling"
   ]
  },
  {
   "cell_type": "code",
   "execution_count": null,
   "metadata": {},
   "outputs": [],
   "source": [
    "import pandas_profiling"
   ]
  },
  {
   "cell_type": "code",
   "execution_count": null,
   "metadata": {},
   "outputs": [],
   "source": [
    "pandas_profiling.ProfileReport(df)"
   ]
  },
  {
   "cell_type": "code",
   "execution_count": null,
   "metadata": {},
   "outputs": [],
   "source": [
    "profile = pandas_profiling.ProfileReport(df)\n",
    "profile.to_file(outputfile=\"output.html\")"
   ]
  },
  {
   "cell_type": "code",
   "execution_count": null,
   "metadata": {},
   "outputs": [],
   "source": []
  }
 ],
 "metadata": {
  "colab": {
   "name": "2019-03-12 Extra",
   "provenance": [],
   "toc_visible": true,
   "version": "0.3.2"
  },
  "kernelspec": {
   "display_name": "Python 3",
   "language": "python",
   "name": "python3"
  },
  "language_info": {
   "codemirror_mode": {
    "name": "ipython",
    "version": 3
   },
   "file_extension": ".py",
   "mimetype": "text/x-python",
   "name": "python",
   "nbconvert_exporter": "python",
   "pygments_lexer": "ipython3",
   "version": "3.6.4"
  }
 },
 "nbformat": 4,
 "nbformat_minor": 1
}
