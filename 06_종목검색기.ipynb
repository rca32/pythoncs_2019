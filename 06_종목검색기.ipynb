{
  "nbformat": 4,
  "nbformat_minor": 0,
  "metadata": {
    "colab": {
      "name": "06 종목검색기.ipynb",
      "version": "0.3.2",
      "provenance": [],
      "include_colab_link": true
    },
    "kernelspec": {
      "name": "python3",
      "display_name": "Python 3"
    }
  },
  "cells": [
    {
      "cell_type": "markdown",
      "metadata": {
        "id": "view-in-github",
        "colab_type": "text"
      },
      "source": [
        "<a href=\"https://colab.research.google.com/github/rca32/pythoncs_2019/blob/master/06_%EC%A2%85%EB%AA%A9%EA%B2%80%EC%83%89%EA%B8%B0.ipynb\" target=\"_parent\"><img src=\"https://colab.research.google.com/assets/colab-badge.svg\" alt=\"Open In Colab\"/></a>"
      ]
    },
    {
      "metadata": {
        "id": "0N_XsWdF3Bsp",
        "colab_type": "code",
        "colab": {}
      },
      "cell_type": "code",
      "source": [
        "#@title #DB 구축\n",
        "\n",
        "종목DB = {}\n",
        "\n",
        "#1. 파일 읽어서 list 형태로 변경\n",
        "lines = ReadFile(\"kor_company_code.dat\")\n",
        "for line in lines:\n",
        "  #2. 스트링 파일을 record형태로 변경\n",
        "  key,record = Line2Record(line)\n",
        "  \n",
        "  #3 db 갱신 \n",
        "  초간단DB[key] = record"
      ],
      "execution_count": 0,
      "outputs": []
    },
    {
      "metadata": {
        "id": "Z4T5okOxiutE",
        "colab_type": "code",
        "colab": {
          "base_uri": "https://localhost:8080/",
          "height": 197
        },
        "outputId": "2e5c88ed-8aab-4ca4-dce6-532629673fe9"
      },
      "cell_type": "code",
      "source": [
        "ReadFile(\"kor_company_code.dat\")"
      ],
      "execution_count": 15,
      "outputs": [
        {
          "output_type": "execute_result",
          "data": {
            "text/plain": [
              "['054023@(재)미래인력연구원@center for future human resource studies@1000100000@70209@01@',\n",
              " '049932@(주대동판지@DAEDONG PAN JI@1000100000@1721 @01@',\n",
              " '057673@2010신보뉴챌린지건설제1호유동화전문유한회사@New challenge kodit 21 construction the 1st Securitization Specialty Co., Ltd.@1000100000@64999@09@',\n",
              " '060335@2011기보그린하이텍제이차유동화전문유한회사@211 KIBO Green Hi-tech 2nd Securitization Specialty Co., Ltd.@1000100000@64999@09@',\n",
              " '060294@2011기보그린하이텍제일차유동화전문유한회사@211 KIBO Green Hi-tech1st Securitization Specialty Co., Ltd.@1000100000@66199@09@',\n",
              " '060095@2011신보그레이트제1차유동화전문유한회사@211 Great Kodit the 1st Securitization Specialty Co., Ltd.@1000100000@64999@09@',\n",
              " '060159@2011신보그레이트제2차유동화전문유한회사@211 Great Kodit the 2nd Securitization Specialty Co., Ltd@1000100000@64999@09@',\n",
              " '060267@2011신보그레이트제3차유동화전문유한회사@211 Great Kodit the 3rd Securitization Specialty Co., Ltd.@1000100000@64999@09@',\n",
              " '060325@2011신보뉴라이프제1호유동화전문유한회사@211 New Life Kodit the 1st Securitization Specialty Co., Ltd.@1000100000@64999@09@',\n",
              " '057909@2011신보뉴챌린지건설제1호유동화전문유한회사@New Challenge Kodit 211 Construction the 1st Securitization Specialty Co., Ltd.@1000100000@64999@09@']"
            ]
          },
          "metadata": {
            "tags": []
          },
          "execution_count": 15
        }
      ]
    },
    {
      "metadata": {
        "id": "jWWphAYD52dP",
        "colab_type": "code",
        "colab": {}
      },
      "cell_type": "code",
      "source": [
        "#@title 파일 읽어오기\n",
        "def ReadFile(파일명):\n",
        "  lines = []\n",
        "  with open(파일명,\"r\",encoding=\"euckr\") as fd:\n",
        "    next(fd)\n",
        "    next(fd)\n",
        "    for line in fd:\n",
        "      lines.append(line.strip())\n",
        "  return lines[:10]\n",
        "    "
      ],
      "execution_count": 0,
      "outputs": []
    },
    {
      "metadata": {
        "id": "3ESsoYDz3LVI",
        "colab_type": "code",
        "colab": {}
      },
      "cell_type": "code",
      "source": [
        "#@title 라인 분해 및 dict 구성\n",
        "record = {\n",
        "    \"종목코드\":\"\",\n",
        "    \"종목명\":\"\",\n",
        "    \"영문명\":\"\",\n",
        "    \"선택종목\":\"\",\n",
        "    \"통계청산업코드\":\"\",\n",
        "    \"상장협업종코드\":\"\",\n",
        "    \"거래소업종코드\":\"\"\n",
        "    \n",
        "}\n",
        "def Line2Record(line):\n",
        "  return 종목코드,record\n",
        "    "
      ],
      "execution_count": 0,
      "outputs": []
    },
    {
      "metadata": {
        "id": "vxWA9Jz9Ek8M",
        "colab_type": "code",
        "colab": {}
      },
      "cell_type": "code",
      "source": [
        "#거래소업종코드별 종목 갯수 구하기"
      ],
      "execution_count": 0,
      "outputs": []
    },
    {
      "metadata": {
        "id": "Y4sXbFfVHrni",
        "colab_type": "code",
        "colab": {
          "base_uri": "https://localhost:8080/",
          "height": 53
        },
        "outputId": "7f715742-1590-4618-a5d1-49a2902041f3"
      },
      "cell_type": "code",
      "source": [
        "#종목 검색\n",
        "입력 = input(\"키워드 입력:\")\n",
        "print(입력)"
      ],
      "execution_count": 17,
      "outputs": [
        {
          "output_type": "stream",
          "text": [
            "키워드 입력:as\n",
            "as\n"
          ],
          "name": "stdout"
        }
      ]
    },
    {
      "metadata": {
        "colab_type": "code",
        "cellView": "both",
        "id": "WcvLv9IPlgrp",
        "colab": {}
      },
      "cell_type": "code",
      "source": [
        "#@title findItem v1 종목 명에서 키워드랑 같은 값 찾기\n",
        "findItem(keyword):\n",
        "  return\n",
        "\n",
        "\n",
        "#findItem(\"삼성\") => 삼성 레코드 반환\n"
      ],
      "execution_count": 0,
      "outputs": []
    },
    {
      "metadata": {
        "id": "dC-vKn1al4c5",
        "colab_type": "code",
        "colab": {}
      },
      "cell_type": "code",
      "source": [
        "#@title findItem v2 종목 명에서 키워드랑 같은 값 리스트 찾기\n",
        "findItem(keyword):\n",
        "  return\n",
        "\n",
        "\n",
        "#findItem(\"삼성\") => 삼성 레코드 리스트 반환\n"
      ],
      "execution_count": 0,
      "outputs": []
    },
    {
      "metadata": {
        "id": "B7xW6MD1mI1S",
        "colab_type": "code",
        "colab": {
          "base_uri": "https://localhost:8080/",
          "height": 35
        },
        "outputId": "7f330f63-b616-4c86-da91-bc362d00f36d"
      },
      "cell_type": "code",
      "source": [
        "import difflib\n",
        "difflib.SequenceMatcher(None, \"삼성전자\", \"삼성전자\").ratio()"
      ],
      "execution_count": 20,
      "outputs": [
        {
          "output_type": "execute_result",
          "data": {
            "text/plain": [
              "0.75"
            ]
          },
          "metadata": {
            "tags": []
          },
          "execution_count": 20
        }
      ]
    },
    {
      "metadata": {
        "id": "KKERR86FmjcL",
        "colab_type": "code",
        "colab": {}
      },
      "cell_type": "code",
      "source": [
        "#@title findItem v3 종목 명에서 키워드 우선순위 5개를 출력\n",
        "findItem(keyword):\n",
        "  return\n",
        "\n",
        "#findItem(\"삼성\") => 삼성 레코드 리스트 반환\n"
      ],
      "execution_count": 0,
      "outputs": []
    }
  ]
}